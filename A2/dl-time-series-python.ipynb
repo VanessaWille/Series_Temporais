{
  "cells": [
    {
      "cell_type": "markdown",
      "metadata": {
        "id": "dc28e885-325e-43d6-a24d-09acebf72234"
      },
      "source": [
        "## References"
      ],
      "id": "dc28e885-325e-43d6-a24d-09acebf72234"
    },
    {
      "cell_type": "markdown",
      "metadata": {
        "id": "8d7f8ebe-43f9-48d3-b6d2-eebb87702b31"
      },
      "source": [
        "* Deep Learning with python, second edition. Chapter 10."
      ],
      "id": "8d7f8ebe-43f9-48d3-b6d2-eebb87702b31"
    },
    {
      "cell_type": "markdown",
      "metadata": {
        "id": "bbd07e07-675e-4047-bdb8-e543d8b23e34"
      },
      "source": [
        "## Install libraries"
      ],
      "id": "bbd07e07-675e-4047-bdb8-e543d8b23e34"
    },
    {
      "cell_type": "code",
      "execution_count": null,
      "metadata": {
        "id": "7623941e-b49e-4b9c-9a05-b06202d204bb"
      },
      "outputs": [],
      "source": [
        "!pip3 install -q tensorflow keras"
      ],
      "id": "7623941e-b49e-4b9c-9a05-b06202d204bb"
    },
    {
      "cell_type": "code",
      "execution_count": null,
      "metadata": {
        "id": "j0oNgmCdkH0B",
        "colab": {
          "base_uri": "https://localhost:8080/"
        },
        "outputId": "06fca7fa-9855-49dc-c4ad-8644a3075632"
      },
      "outputs": [
        {
          "output_type": "stream",
          "name": "stdout",
          "text": [
            "Mounted at /content/drive\n"
          ]
        }
      ],
      "source": [
        "from google.colab import drive\n",
        "drive.mount('/content/drive')"
      ],
      "id": "j0oNgmCdkH0B"
    },
    {
      "cell_type": "code",
      "execution_count": null,
      "metadata": {
        "id": "xNi33wZXkVPf",
        "colab": {
          "base_uri": "https://localhost:8080/"
        },
        "outputId": "9e56224b-a3ac-4adc-8ecb-d17f2bc3e2a1"
      },
      "outputs": [
        {
          "output_type": "stream",
          "name": "stdout",
          "text": [
            "-rw------- 1 root root 43164220 Dec  2 20:08 '/content/drive/My Drive/Colab Notebooks/jena_climate_2009_2016.csv'\n"
          ]
        }
      ],
      "source": [
        "!ls -l /content/drive/My\\ Drive/Colab\\ Notebooks/jena_climate_2009_2016.csv"
      ],
      "id": "xNi33wZXkVPf"
    },
    {
      "cell_type": "markdown",
      "metadata": {
        "id": "58330182-e029-40b8-88ca-acc21b23b732"
      },
      "source": [
        "## Data"
      ],
      "id": "58330182-e029-40b8-88ca-acc21b23b732"
    },
    {
      "cell_type": "markdown",
      "metadata": {
        "id": "93f678b8-72ab-4d1c-98d0-b19b4fa09774"
      },
      "source": [
        "### Download"
      ],
      "id": "93f678b8-72ab-4d1c-98d0-b19b4fa09774"
    },
    {
      "cell_type": "markdown",
      "metadata": {
        "id": "2f6f3ed6-5b23-4c63-b425-c0bee72558b4"
      },
      "source": [
        "### Load"
      ],
      "id": "2f6f3ed6-5b23-4c63-b425-c0bee72558b4"
    },
    {
      "cell_type": "markdown",
      "metadata": {
        "id": "4a69dced-ff92-4ae3-bf09-586a676289e7"
      },
      "source": [
        "Load data:"
      ],
      "id": "4a69dced-ff92-4ae3-bf09-586a676289e7"
    },
    {
      "cell_type": "code",
      "execution_count": null,
      "metadata": {
        "id": "84ee15f0-fe5f-4f62-9af0-c0e430aeb206",
        "colab": {
          "base_uri": "https://localhost:8080/"
        },
        "outputId": "095c9b50-e078-4aac-8139-4da7c4be8d40"
      },
      "outputs": [
        {
          "output_type": "stream",
          "name": "stdout",
          "text": [
            "['\"Date Time\"', '\"p (mbar)\"', '\"T (degC)\"', '\"Tpot (K)\"', '\"Tdew (degC)\"', '\"rh (%)\"', '\"VPmax (mbar)\"', '\"VPact (mbar)\"', '\"VPdef (mbar)\"', '\"sh (g/kg)\"', '\"H2OC (mmol/mol)\"', '\"rho (g/m**3)\"', '\"wv (m/s)\"', '\"max. wv (m/s)\"', '\"wd (deg)\"']\n",
            "420551\n"
          ]
        }
      ],
      "source": [
        "import os\n",
        "fname = os.path.join(r'/content/drive/My Drive/Colab Notebooks/jena_climate_2009_2016.csv')\n",
        "with open(fname) as f:\n",
        "    data = f.read()\n",
        "lines = data.split(\"\\n\")\n",
        "header = lines[0].split(\",\")\n",
        "lines = lines[1:]\n",
        "print(header)\n",
        "print(len(lines))"
      ],
      "id": "84ee15f0-fe5f-4f62-9af0-c0e430aeb206"
    },
    {
      "cell_type": "markdown",
      "metadata": {
        "id": "72912feb-d0aa-4354-a03c-f572d5cb25f0"
      },
      "source": [
        "In this dataset, 14 different quantities (such as temperature, pressure, humidity, and wind direction) were recorded every 10 minutes over several years. The original data goes back to 2003, but the subset of the data we’ll download is limited to 2009–2016."
      ],
      "id": "72912feb-d0aa-4354-a03c-f572d5cb25f0"
    },
    {
      "cell_type": "code",
      "execution_count": null,
      "metadata": {
        "id": "e24cc1bb-bcbf-4a81-be0e-2f921ee49b6c"
      },
      "outputs": [],
      "source": [
        "import numpy as np\n",
        "temperature = np.zeros((len(lines),))\n",
        "raw_data = np.zeros((len(lines), len(header) - 1))\n",
        "for i, line in enumerate(lines):\n",
        "    values = [float(x) for x in line.split(\",\")[1:]]\n",
        "    temperature[i] = values[1]\n",
        "    raw_data[i, :] = values[:]"
      ],
      "id": "e24cc1bb-bcbf-4a81-be0e-2f921ee49b6c"
    },
    {
      "cell_type": "markdown",
      "metadata": {
        "id": "2c921283-9e5c-4ffd-af6a-d709321a6bec"
      },
      "source": [
        "`temperature` holds the observed values of the data that we want to predict and `raw_data` holds all the numeric variables, including temperature."
      ],
      "id": "2c921283-9e5c-4ffd-af6a-d709321a6bec"
    },
    {
      "cell_type": "markdown",
      "metadata": {
        "id": "18f8d50d-fcff-42ab-be60-5041d3a5a2b4"
      },
      "source": [
        "### Plot the data"
      ],
      "id": "18f8d50d-fcff-42ab-be60-5041d3a5a2b4"
    },
    {
      "cell_type": "markdown",
      "metadata": {
        "id": "b637858b-2b4d-4bb5-9e46-a89ddf805694"
      },
      "source": [
        "Plot the temperature over time:"
      ],
      "id": "b637858b-2b4d-4bb5-9e46-a89ddf805694"
    },
    {
      "cell_type": "code",
      "execution_count": null,
      "metadata": {
        "id": "4cb7010c-fef2-45e9-85db-a9fc6680a452",
        "colab": {
          "base_uri": "https://localhost:8080/",
          "height": 452
        },
        "outputId": "8cc59f93-5941-448d-91ca-4a854516600e"
      },
      "outputs": [
        {
          "output_type": "execute_result",
          "data": {
            "text/plain": [
              "[<matplotlib.lines.Line2D at 0x7bc8e5c09870>]"
            ]
          },
          "metadata": {},
          "execution_count": 6
        },
        {
          "output_type": "display_data",
          "data": {
            "text/plain": [
              "<Figure size 640x480 with 1 Axes>"
            ],
            "image/png": "[encoded data removed]"
          },
          "metadata": {}
        }
      ],
      "source": [
        "from matplotlib import pyplot as plt\n",
        "plt.plot(range(len(temperature)), temperature)"
      ],
      "id": "4cb7010c-fef2-45e9-85db-a9fc6680a452"
    },
    {
      "cell_type": "markdown",
      "metadata": {
        "id": "47c1086a-191c-41eb-ac91-7f528961d373"
      },
      "source": [
        "First 10 days of temperature data. 24 * 6 = 144 data points per day."
      ],
      "id": "47c1086a-191c-41eb-ac91-7f528961d373"
    },
    {
      "cell_type": "code",
      "execution_count": null,
      "metadata": {
        "id": "19e92b98-9e53-4939-98ae-f0ac854fcbef",
        "colab": {
          "base_uri": "https://localhost:8080/",
          "height": 448
        },
        "outputId": "4e1afc05-eb7d-45e0-95df-038dbef5a8b9"
      },
      "outputs": [
        {
          "output_type": "execute_result",
          "data": {
            "text/plain": [
              "[<matplotlib.lines.Line2D at 0x7bc8bc32c9d0>]"
            ]
          },
          "metadata": {},
          "execution_count": 7
        },
        {
          "output_type": "display_data",
          "data": {
            "text/plain": [
              "<Figure size 640x480 with 1 Axes>"
            ],
            "image/png": "[encoded data removed]"
          },
          "metadata": {}
        }
      ],
      "source": [
        "plt.plot(range(1440), temperature[:1440])"
      ],
      "id": "19e92b98-9e53-4939-98ae-f0ac854fcbef"
    },
    {
      "cell_type": "markdown",
      "metadata": {
        "id": "51bdecd1-d6b2-4690-a293-449af6517e8d"
      },
      "source": [
        "## Task"
      ],
      "id": "51bdecd1-d6b2-4690-a293-449af6517e8d"
    },
    {
      "cell_type": "markdown",
      "metadata": {
        "id": "59d4ea17-1799-449b-9326-b984837709f4"
      },
      "source": [
        "Given data covering the previous five days and sampled once per hour, can we predict the temperature in 24 hours?"
      ],
      "id": "59d4ea17-1799-449b-9326-b984837709f4"
    },
    {
      "cell_type": "markdown",
      "metadata": {
        "id": "04ca5700-9465-432c-8686-0c66fb84a738"
      },
      "source": [
        "This notebook contains sample code for:\n",
        "\n",
        "* Feedforward neural network\n",
        "* 1D convolution neural network\n",
        "* 3 variations of recurring neural network"
      ],
      "id": "04ca5700-9465-432c-8686-0c66fb84a738"
    },
    {
      "cell_type": "markdown",
      "metadata": {
        "id": "3a1f2c46-a60c-4943-a32e-3edaf375ab1b"
      },
      "source": [
        "Optimize the three classes of models above to give the best MAE. In addtion, use a transformer to compete in terms of MAE."
      ],
      "id": "3a1f2c46-a60c-4943-a32e-3edaf375ab1b"
    },
    {
      "cell_type": "markdown",
      "metadata": {
        "id": "5109b55b-2e4c-45aa-b355-a20ef52de0c3"
      },
      "source": [
        "This [page](https://keras.io/examples/timeseries/timeseries_classification_transformer/) contains a reference of using a Transformer for time-series data."
      ],
      "id": "5109b55b-2e4c-45aa-b355-a20ef52de0c3"
    },
    {
      "cell_type": "markdown",
      "metadata": {
        "id": "ba0f3234-1450-484f-ae06-f2d877b2229c"
      },
      "source": [
        "The sample code below is a starting point. Your job is to extract the most value out of the models mentioned above. You are free to go beyond what is requested here and try out different models if you like."
      ],
      "id": "ba0f3234-1450-484f-ae06-f2d877b2229c"
    },
    {
      "cell_type": "markdown",
      "metadata": {
        "id": "54843bc0-3a9c-4ac9-828f-a0f1c095147c"
      },
      "source": [
        "Return a `.ipynb` containing the code (one section per model) and start the document with a summary of the models you tried and their respective MAEs in a table."
      ],
      "id": "54843bc0-3a9c-4ac9-828f-a0f1c095147c"
    },
    {
      "cell_type": "markdown",
      "metadata": {
        "id": "2fd0482e-34b8-4ad1-848a-ef1f50dad54a"
      },
      "source": [
        "**Deadline**: 05/12"
      ],
      "id": "2fd0482e-34b8-4ad1-848a-ef1f50dad54a"
    },
    {
      "cell_type": "markdown",
      "metadata": {
        "id": "6660ec55-63b3-4382-b677-86dd5856e039"
      },
      "source": [
        "### Prepare the data"
      ],
      "id": "6660ec55-63b3-4382-b677-86dd5856e039"
    },
    {
      "cell_type": "markdown",
      "metadata": {
        "id": "2b619474-48ea-492d-a295-e925e76d9534"
      },
      "source": [
        "Decide the number of data points that will be assigned to training, validation and test sets."
      ],
      "id": "2b619474-48ea-492d-a295-e925e76d9534"
    },
    {
      "cell_type": "code",
      "execution_count": null,
      "metadata": {
        "id": "c6e01267-4d10-4c52-b4ef-f52abe5417d5",
        "colab": {
          "base_uri": "https://localhost:8080/"
        },
        "outputId": "9810da74-e22e-48d2-e696-14b4c070615c"
      },
      "outputs": [
        {
          "output_type": "stream",
          "name": "stdout",
          "text": [
            "num_train_samples: 210275\n",
            "num_val_samples: 105137\n",
            "num_test_samples: 105139\n"
          ]
        }
      ],
      "source": [
        "num_train_samples = int(0.5 * len(raw_data))\n",
        "num_val_samples = int(0.25 * len(raw_data))\n",
        "num_test_samples = len(raw_data) - num_train_samples - num_val_samples\n",
        "print(\"num_train_samples:\", num_train_samples)\n",
        "print(\"num_val_samples:\", num_val_samples)\n",
        "print(\"num_test_samples:\", num_test_samples)"
      ],
      "id": "c6e01267-4d10-4c52-b4ef-f52abe5417d5"
    },
    {
      "cell_type": "markdown",
      "metadata": {
        "id": "65c64ef9-8f73-4c1c-ae66-382c3ce46347"
      },
      "source": [
        "Normalize the data."
      ],
      "id": "65c64ef9-8f73-4c1c-ae66-382c3ce46347"
    },
    {
      "cell_type": "code",
      "execution_count": null,
      "metadata": {
        "id": "857a20b9-2e3d-412c-ba40-1d92bbb7c7bd"
      },
      "outputs": [],
      "source": [
        "mean = raw_data[:num_train_samples].mean(axis=0)\n",
        "raw_data -= mean\n",
        "std = raw_data[:num_train_samples].std(axis=0)\n",
        "raw_data /= std"
      ],
      "id": "857a20b9-2e3d-412c-ba40-1d92bbb7c7bd"
    },
    {
      "cell_type": "markdown",
      "metadata": {
        "id": "a1422f9b-a270-4d5c-8322-58eb6d59ec78"
      },
      "source": [
        "Create `tensorflow.data.Dataset` for training, validation and test splits:"
      ],
      "id": "a1422f9b-a270-4d5c-8322-58eb6d59ec78"
    },
    {
      "cell_type": "code",
      "execution_count": null,
      "metadata": {
        "id": "9d0854d8-9b85-440c-8ee1-f48f27dd75af"
      },
      "outputs": [],
      "source": [
        "import keras\n",
        "\n",
        "sampling_rate = 6\n",
        "sequence_length = 120 # 5 days sampled once an hour: 5*24 = 120\n",
        "delay = sampling_rate * (sequence_length + 24 - 1)\n",
        "batch_size = 256\n",
        "\n",
        "train_dataset = keras.utils.timeseries_dataset_from_array(\n",
        "    raw_data[:-delay],\n",
        "    targets=temperature[delay:],\n",
        "    sampling_rate=sampling_rate,\n",
        "    sequence_length=sequence_length,\n",
        "    shuffle=True,\n",
        "    batch_size=batch_size,\n",
        "    start_index=0,\n",
        "    end_index=num_train_samples\n",
        ")\n",
        "\n",
        "val_dataset = keras.utils.timeseries_dataset_from_array(\n",
        "    raw_data[:-delay],\n",
        "    targets=temperature[delay:],\n",
        "    sampling_rate=sampling_rate,\n",
        "    sequence_length=sequence_length,\n",
        "    shuffle=True,\n",
        "    batch_size=batch_size,\n",
        "    start_index=num_train_samples,\n",
        "    end_index=num_train_samples + num_val_samples\n",
        ")\n",
        "\n",
        "test_dataset = keras.utils.timeseries_dataset_from_array(\n",
        "    raw_data[:-delay],\n",
        "    targets=temperature[delay:],\n",
        "    sampling_rate=sampling_rate,\n",
        "    sequence_length=sequence_length,\n",
        "    shuffle=True,\n",
        "    batch_size=batch_size,\n",
        "    start_index=num_train_samples + num_val_samples\n",
        ")"
      ],
      "id": "9d0854d8-9b85-440c-8ee1-f48f27dd75af"
    },
    {
      "cell_type": "markdown",
      "metadata": {
        "id": "01b99491-598c-4e5c-bdad-09e278e6f350"
      },
      "source": [
        "Check the input dimensions:"
      ],
      "id": "01b99491-598c-4e5c-bdad-09e278e6f350"
    },
    {
      "cell_type": "code",
      "execution_count": null,
      "metadata": {
        "id": "e1b85225-c120-4f8c-96c9-8480b3981a09",
        "colab": {
          "base_uri": "https://localhost:8080/"
        },
        "outputId": "5b3d9f83-8181-438f-f2af-6b1111709c86"
      },
      "outputs": [
        {
          "output_type": "stream",
          "name": "stdout",
          "text": [
            "samples shape: (256, 120, 14)\n",
            "targets shape: (256,)\n"
          ]
        }
      ],
      "source": [
        "for samples, targets in train_dataset:\n",
        "    print(\"samples shape:\", samples.shape)\n",
        "    print(\"targets shape:\", targets.shape)\n",
        "    break"
      ],
      "id": "e1b85225-c120-4f8c-96c9-8480b3981a09"
    },
    {
      "cell_type": "markdown",
      "metadata": {
        "id": "89862622-b676-4f72-8eaf-0b2d9da9c07f"
      },
      "source": [
        "Use naive model as baseline:"
      ],
      "id": "89862622-b676-4f72-8eaf-0b2d9da9c07f"
    },
    {
      "cell_type": "code",
      "execution_count": null,
      "metadata": {
        "id": "9559159b-2ce0-46d3-bde4-45207a5472d4",
        "colab": {
          "base_uri": "https://localhost:8080/"
        },
        "outputId": "34cd8264-734b-4d56-bfe7-9282cf9651c1"
      },
      "outputs": [
        {
          "output_type": "stream",
          "name": "stdout",
          "text": [
            "Validation MAE: 2.44\n",
            "Test MAE: 2.62\n"
          ]
        }
      ],
      "source": [
        "def evaluate_naive_method(dataset):\n",
        "    total_abs_err = 0.\n",
        "    samples_seen = 0\n",
        "    for samples, targets in dataset:\n",
        "        preds = samples[:, -1, 1] * std[1] + mean[1]\n",
        "        total_abs_err += np.sum(np.abs(preds - targets))\n",
        "        samples_seen += samples.shape[0]\n",
        "    return total_abs_err / samples_seen\n",
        "\n",
        "\n",
        "print(f\"Validation MAE: {evaluate_naive_method(val_dataset):.2f}\")\n",
        "print(f\"Test MAE: {evaluate_naive_method(test_dataset):.2f}\")"
      ],
      "id": "9559159b-2ce0-46d3-bde4-45207a5472d4"
    },
    {
      "cell_type": "markdown",
      "metadata": {
        "id": "3fd3f35d-7688-4d1e-b439-ae8022d1a3df"
      },
      "source": [
        "## Feedforward neural network"
      ],
      "id": "3fd3f35d-7688-4d1e-b439-ae8022d1a3df"
    },
    {
      "cell_type": "code",
      "execution_count": null,
      "metadata": {
        "id": "19284afa-3a1a-4321-b795-3edc5033c445"
      },
      "outputs": [],
      "source": [
        "from tensorflow import keras\n",
        "from keras import layers\n",
        "\n",
        "inputs = keras.Input(shape=(sequence_length, raw_data.shape[-1]))\n",
        "x = layers.Flatten()(inputs)\n",
        "x = layers.Dense(16, activation=\"relu\")(x)\n",
        "outputs = layers.Dense(1)(x)\n",
        "model = keras.Model(inputs, outputs)"
      ],
      "id": "19284afa-3a1a-4321-b795-3edc5033c445"
    },
    {
      "cell_type": "code",
      "execution_count": null,
      "metadata": {
        "colab": {
          "base_uri": "https://localhost:8080/"
        },
        "id": "6bae635d-2baf-4307-80d5-b8ec6140ea0f",
        "outputId": "481cc6bc-a152-48ba-f3e5-31209b692f12"
      },
      "outputs": [
        {
          "name": "stdout",
          "output_type": "stream",
          "text": [
            "Model: \"model\"\n",
            "_________________________________________________________________\n",
            " Layer (type)                Output Shape              Param #   \n",
            "=================================================================\n",
            " input_1 (InputLayer)        [(None, 120, 14)]         0         \n",
            "                                                                 \n",
            " flatten (Flatten)           (None, 1680)              0         \n",
            "                                                                 \n",
            " dense (Dense)               (None, 16)                26896     \n",
            "                                                                 \n",
            " dense_1 (Dense)             (None, 1)                 17        \n",
            "                                                                 \n",
            "=================================================================\n",
            "Total params: 26913 (105.13 KB)\n",
            "Trainable params: 26913 (105.13 KB)\n",
            "Non-trainable params: 0 (0.00 Byte)\n",
            "_________________________________________________________________\n"
          ]
        }
      ],
      "source": [
        "model.summary()"
      ],
      "id": "6bae635d-2baf-4307-80d5-b8ec6140ea0f"
    },
    {
      "cell_type": "code",
      "execution_count": null,
      "metadata": {
        "colab": {
          "base_uri": "https://localhost:8080/"
        },
        "id": "08730dea-e2e3-4ff5-aa3c-75bf74e5c76c",
        "outputId": "d4a8878f-9c99-438a-8af0-7828e17ccb0f"
      },
      "outputs": [
        {
          "name": "stdout",
          "output_type": "stream",
          "text": [
            "Epoch 1/10\n",
            "819/819 [==============================] - 46s 50ms/step - loss: 12.0256 - mae: 2.6906 - val_loss: 10.7113 - val_mae: 2.5768\n",
            "Epoch 2/10\n",
            "819/819 [==============================] - 40s 48ms/step - loss: 8.9647 - mae: 2.3515 - val_loss: 11.0008 - val_mae: 2.6116\n",
            "Epoch 3/10\n",
            "819/819 [==============================] - 41s 50ms/step - loss: 8.2628 - mae: 2.2554 - val_loss: 10.3286 - val_mae: 2.5330\n",
            "Epoch 4/10\n",
            "819/819 [==============================] - 38s 47ms/step - loss: 7.8205 - mae: 2.1960 - val_loss: 11.7737 - val_mae: 2.7169\n",
            "Epoch 5/10\n",
            "819/819 [==============================] - 39s 48ms/step - loss: 7.5290 - mae: 2.1556 - val_loss: 10.6396 - val_mae: 2.5735\n",
            "Epoch 6/10\n",
            "819/819 [==============================] - 47s 58ms/step - loss: 7.2912 - mae: 2.1249 - val_loss: 11.4445 - val_mae: 2.6826\n",
            "Epoch 7/10\n",
            "819/819 [==============================] - 47s 57ms/step - loss: 7.0883 - mae: 2.0935 - val_loss: 10.9756 - val_mae: 2.6203\n",
            "Epoch 8/10\n",
            "819/819 [==============================] - 40s 49ms/step - loss: 6.9311 - mae: 2.0739 - val_loss: 10.9805 - val_mae: 2.6216\n",
            "Epoch 9/10\n",
            "819/819 [==============================] - 38s 47ms/step - loss: 6.7888 - mae: 2.0518 - val_loss: 10.8637 - val_mae: 2.6075\n",
            "Epoch 10/10\n",
            "819/819 [==============================] - 48s 58ms/step - loss: 6.6651 - mae: 2.0345 - val_loss: 11.4640 - val_mae: 2.6766\n",
            "405/405 [==============================] - 13s 33ms/step - loss: 18968.7559 - mae: 13.4693\n",
            "Test MAE: 13.47\n"
          ]
        }
      ],
      "source": [
        "model.compile(optimizer=\"rmsprop\", loss=\"mse\", metrics=[\"mae\"])\n",
        "\n",
        "history = model.fit(\n",
        "    train_dataset,\n",
        "    epochs=10,\n",
        "    validation_data=val_dataset,\n",
        ")\n",
        "\n",
        "print(f\"Test MAE: {model.evaluate(test_dataset)[1]:.2f}\")"
      ],
      "id": "08730dea-e2e3-4ff5-aa3c-75bf74e5c76c"
    },
    {
      "cell_type": "code",
      "execution_count": null,
      "metadata": {
        "id": "Yi1B67uosHHP"
      },
      "outputs": [],
      "source": [
        "del model"
      ],
      "id": "Yi1B67uosHHP"
    },
    {
      "cell_type": "code",
      "execution_count": null,
      "metadata": {
        "colab": {
          "base_uri": "https://localhost:8080/"
        },
        "id": "-OPj3cXIqjbm",
        "outputId": "fe98974f-b110-4f88-96d4-9bddea517530"
      },
      "outputs": [
        {
          "name": "stdout",
          "output_type": "stream",
          "text": [
            "Model: \"model_2\"\n",
            "_________________________________________________________________\n",
            " Layer (type)                Output Shape              Param #   \n",
            "=================================================================\n",
            " input_3 (InputLayer)        [(None, 120, 14)]         0         \n",
            "                                                                 \n",
            " flatten_2 (Flatten)         (None, 1680)              0         \n",
            "                                                                 \n",
            " dense_6 (Dense)             (None, 64)                107584    \n",
            "                                                                 \n",
            " dense_7 (Dense)             (None, 32)                2080      \n",
            "                                                                 \n",
            " dense_8 (Dense)             (None, 16)                528       \n",
            "                                                                 \n",
            " dense_9 (Dense)             (None, 1)                 17        \n",
            "                                                                 \n",
            "=================================================================\n",
            "Total params: 110209 (430.50 KB)\n",
            "Trainable params: 110209 (430.50 KB)\n",
            "Non-trainable params: 0 (0.00 Byte)\n",
            "_________________________________________________________________\n"
          ]
        }
      ],
      "source": [
        "inputs = keras.Input(shape=(sequence_length, raw_data.shape[-1]))\n",
        "x = layers.Flatten()(inputs)\n",
        "x = layers.Dense(64, activation=\"relu\")(x)\n",
        "x = layers.Dense(32, activation=\"relu\")(x)\n",
        "x = layers.Dense(16, activation=\"relu\")(x)\n",
        "outputs = layers.Dense(1)(x)\n",
        "model = keras.Model(inputs, outputs)\n",
        "\n",
        "model.summary()"
      ],
      "id": "-OPj3cXIqjbm"
    },
    {
      "cell_type": "code",
      "execution_count": null,
      "metadata": {
        "colab": {
          "base_uri": "https://localhost:8080/"
        },
        "id": "bjDedY3Hqn7n",
        "outputId": "7b1ea322-aa8c-4d86-a008-ae7cbd9c05d4"
      },
      "outputs": [
        {
          "name": "stdout",
          "output_type": "stream",
          "text": [
            "Epoch 1/10\n",
            "819/819 [==============================] - 49s 59ms/step - loss: 10.0230 - mae: 2.4298 - val_loss: 11.6847 - val_mae: 2.6800\n",
            "Epoch 2/10\n",
            "819/819 [==============================] - 48s 58ms/step - loss: 5.4066 - mae: 1.8061 - val_loss: 13.7901 - val_mae: 2.8891\n",
            "Epoch 3/10\n",
            "819/819 [==============================] - 39s 48ms/step - loss: 3.9949 - mae: 1.5527 - val_loss: 15.0778 - val_mae: 3.0121\n",
            "Epoch 4/10\n",
            "819/819 [==============================] - 40s 48ms/step - loss: 3.2420 - mae: 1.3962 - val_loss: 15.4306 - val_mae: 3.0360\n",
            "Epoch 5/10\n",
            "819/819 [==============================] - 48s 58ms/step - loss: 2.7924 - mae: 1.2945 - val_loss: 15.3756 - val_mae: 3.0572\n",
            "Epoch 6/10\n",
            "819/819 [==============================] - 49s 60ms/step - loss: 2.4565 - mae: 1.2159 - val_loss: 16.0142 - val_mae: 3.1173\n",
            "Epoch 7/10\n",
            "819/819 [==============================] - 40s 48ms/step - loss: 2.2373 - mae: 1.1608 - val_loss: 15.6665 - val_mae: 3.0799\n",
            "Epoch 8/10\n",
            "819/819 [==============================] - 47s 57ms/step - loss: 2.0550 - mae: 1.1129 - val_loss: 16.8169 - val_mae: 3.1678\n",
            "Epoch 9/10\n",
            "819/819 [==============================] - 48s 59ms/step - loss: 1.9079 - mae: 1.0724 - val_loss: 15.8875 - val_mae: 3.1107\n",
            "Epoch 10/10\n",
            "819/819 [==============================] - 49s 59ms/step - loss: 1.7947 - mae: 1.0411 - val_loss: 15.3932 - val_mae: 3.0575\n",
            "405/405 [==============================] - 14s 33ms/step - loss: 18335.4492 - mae: 13.4017\n",
            "Test MAE: 13.40\n"
          ]
        }
      ],
      "source": [
        "model.compile(optimizer=\"rmsprop\", loss=\"mse\", metrics=[\"mae\"])\n",
        "\n",
        "history = model.fit(\n",
        "    train_dataset,\n",
        "    epochs=10,\n",
        "    validation_data=val_dataset,\n",
        ")\n",
        "\n",
        "print(f\"Test MAE: {model.evaluate(test_dataset)[1]:.2f}\")"
      ],
      "id": "bjDedY3Hqn7n"
    },
    {
      "cell_type": "markdown",
      "metadata": {
        "id": "aOSR7c-D25R2"
      },
      "source": [
        "Parece que a performance melhorou levemente ao adicionar mais camadas e aumentar seus números de neurônios. Vamos tentar outras arquiteturas para encontrar melhores alternativas."
      ],
      "id": "aOSR7c-D25R2"
    },
    {
      "cell_type": "code",
      "execution_count": null,
      "metadata": {
        "id": "_vqavpNJ3CnT"
      },
      "outputs": [],
      "source": [
        "del model"
      ],
      "id": "_vqavpNJ3CnT"
    },
    {
      "cell_type": "code",
      "execution_count": null,
      "metadata": {
        "colab": {
          "base_uri": "https://localhost:8080/"
        },
        "id": "zkDMeZ0u3Ds0",
        "outputId": "dcda7392-647d-4f83-9472-a0007946e528"
      },
      "outputs": [
        {
          "name": "stdout",
          "output_type": "stream",
          "text": [
            "Model: \"model_4\"\n",
            "_________________________________________________________________\n",
            " Layer (type)                Output Shape              Param #   \n",
            "=================================================================\n",
            " input_5 (InputLayer)        [(None, 120, 14)]         0         \n",
            "                                                                 \n",
            " flatten_4 (Flatten)         (None, 1680)              0         \n",
            "                                                                 \n",
            " dense_13 (Dense)            (None, 16)                26896     \n",
            "                                                                 \n",
            " dense_14 (Dense)            (None, 8)                 136       \n",
            "                                                                 \n",
            " dense_15 (Dense)            (None, 1)                 9         \n",
            "                                                                 \n",
            "=================================================================\n",
            "Total params: 27041 (105.63 KB)\n",
            "Trainable params: 27041 (105.63 KB)\n",
            "Non-trainable params: 0 (0.00 Byte)\n",
            "_________________________________________________________________\n"
          ]
        }
      ],
      "source": [
        "inputs = keras.Input(shape=(sequence_length, raw_data.shape[-1]))\n",
        "x = layers.Flatten()(inputs)\n",
        "x = layers.Dense(16, activation=\"relu\")(x)\n",
        "x = layers.Dense(8, activation=\"relu\")(x)\n",
        "outputs = layers.Dense(1)(x)\n",
        "model = keras.Model(inputs, outputs)\n",
        "\n",
        "model.summary()"
      ],
      "id": "zkDMeZ0u3Ds0"
    },
    {
      "cell_type": "code",
      "execution_count": null,
      "metadata": {
        "colab": {
          "base_uri": "https://localhost:8080/"
        },
        "id": "pSpJgvhH3KMl",
        "outputId": "30e097af-ce11-40f3-8297-c2b6d4cfca99"
      },
      "outputs": [
        {
          "name": "stdout",
          "output_type": "stream",
          "text": [
            "Epoch 1/10\n",
            "819/819 [==============================] - 49s 58ms/step - loss: 10.7729 - mae: 2.5168 - val_loss: 11.3161 - val_mae: 2.6472\n",
            "Epoch 2/10\n",
            "819/819 [==============================] - 48s 59ms/step - loss: 7.5164 - mae: 2.1532 - val_loss: 11.6824 - val_mae: 2.7042\n",
            "Epoch 3/10\n",
            "819/819 [==============================] - 48s 59ms/step - loss: 6.8652 - mae: 2.0586 - val_loss: 12.4325 - val_mae: 2.7905\n",
            "Epoch 4/10\n",
            "819/819 [==============================] - 40s 48ms/step - loss: 6.4904 - mae: 2.0031 - val_loss: 11.2849 - val_mae: 2.6434\n",
            "Epoch 5/10\n",
            "819/819 [==============================] - 40s 49ms/step - loss: 6.1899 - mae: 1.9564 - val_loss: 11.6700 - val_mae: 2.6844\n",
            "Epoch 6/10\n",
            "819/819 [==============================] - 40s 48ms/step - loss: 6.0477 - mae: 1.9330 - val_loss: 12.5858 - val_mae: 2.7869\n",
            "Epoch 7/10\n",
            "819/819 [==============================] - 40s 49ms/step - loss: 5.9337 - mae: 1.9146 - val_loss: 12.1108 - val_mae: 2.7217\n",
            "Epoch 8/10\n",
            "819/819 [==============================] - 39s 47ms/step - loss: 5.7738 - mae: 1.8894 - val_loss: 12.4241 - val_mae: 2.7629\n",
            "Epoch 9/10\n",
            "819/819 [==============================] - 49s 60ms/step - loss: 5.6247 - mae: 1.8666 - val_loss: 12.3966 - val_mae: 2.7644\n",
            "Epoch 10/10\n",
            "819/819 [==============================] - 47s 57ms/step - loss: 5.5792 - mae: 1.8594 - val_loss: 13.1193 - val_mae: 2.8437\n",
            "405/405 [==============================] - 12s 30ms/step - loss: 28504.7207 - mae: 15.8351\n",
            "Test MAE: 15.84\n"
          ]
        }
      ],
      "source": [
        "opt = keras.optimizers.Adam(learning_rate=0.01)\n",
        "\n",
        "model.compile(optimizer=opt, loss=\"mse\", metrics=[\"mae\"])\n",
        "\n",
        "history = model.fit(\n",
        "    train_dataset,\n",
        "    epochs=10,\n",
        "    validation_data=val_dataset,\n",
        ")\n",
        "\n",
        "print(f\"Test MAE: {model.evaluate(test_dataset)[1]:.2f}\")"
      ],
      "id": "pSpJgvhH3KMl"
    },
    {
      "cell_type": "code",
      "execution_count": null,
      "metadata": {
        "id": "VjUMSw3V5qtz"
      },
      "outputs": [],
      "source": [
        "del model"
      ],
      "id": "VjUMSw3V5qtz"
    },
    {
      "cell_type": "code",
      "execution_count": null,
      "metadata": {
        "colab": {
          "base_uri": "https://localhost:8080/"
        },
        "id": "ge7GR-fu5rWA",
        "outputId": "b6312a80-b25e-4280-b133-564161f89698"
      },
      "outputs": [
        {
          "name": "stdout",
          "output_type": "stream",
          "text": [
            "Model: \"model_9\"\n",
            "_________________________________________________________________\n",
            " Layer (type)                Output Shape              Param #   \n",
            "=================================================================\n",
            " input_10 (InputLayer)       [(None, 120, 14)]         0         \n",
            "                                                                 \n",
            " flatten_9 (Flatten)         (None, 1680)              0         \n",
            "                                                                 \n",
            " dense_24 (Dense)            (None, 8)                 13448     \n",
            "                                                                 \n",
            " dense_25 (Dense)            (None, 1)                 9         \n",
            "                                                                 \n",
            "=================================================================\n",
            "Total params: 13457 (52.57 KB)\n",
            "Trainable params: 13457 (52.57 KB)\n",
            "Non-trainable params: 0 (0.00 Byte)\n",
            "_________________________________________________________________\n"
          ]
        }
      ],
      "source": [
        "inputs = keras.Input(shape=(sequence_length, raw_data.shape[-1]))\n",
        "x = layers.Flatten()(inputs)\n",
        "x = layers.Dense(8, activation=\"relu\")(x)\n",
        "outputs = layers.Dense(1)(x)\n",
        "model = keras.Model(inputs, outputs)\n",
        "\n",
        "model.summary()"
      ],
      "id": "ge7GR-fu5rWA"
    },
    {
      "cell_type": "code",
      "execution_count": null,
      "metadata": {
        "colab": {
          "base_uri": "https://localhost:8080/"
        },
        "id": "sV2Kqvr25yAh",
        "outputId": "87b2bcef-6712-4a5e-9e7f-5490b89586fc"
      },
      "outputs": [
        {
          "name": "stdout",
          "output_type": "stream",
          "text": [
            "Epoch 1/10\n",
            "819/819 [==============================] - 43s 51ms/step - loss: 11.3116 - mae: 2.5874 - val_loss: 10.4665 - val_mae: 2.5552\n",
            "Epoch 2/10\n",
            "819/819 [==============================] - 38s 46ms/step - loss: 8.6522 - mae: 2.3153 - val_loss: 10.3061 - val_mae: 2.5361\n",
            "Epoch 3/10\n",
            "819/819 [==============================] - 42s 51ms/step - loss: 8.2613 - mae: 2.2640 - val_loss: 11.4635 - val_mae: 2.6718\n",
            "Epoch 4/10\n",
            "819/819 [==============================] - 40s 48ms/step - loss: 8.0738 - mae: 2.2413 - val_loss: 10.1307 - val_mae: 2.5017\n",
            "Epoch 5/10\n",
            "819/819 [==============================] - 48s 58ms/step - loss: 8.0008 - mae: 2.2311 - val_loss: 10.5752 - val_mae: 2.5658\n",
            "Epoch 6/10\n",
            "819/819 [==============================] - 40s 49ms/step - loss: 7.8649 - mae: 2.2133 - val_loss: 10.1302 - val_mae: 2.5054\n",
            "Epoch 7/10\n",
            "819/819 [==============================] - 38s 46ms/step - loss: 7.7966 - mae: 2.2039 - val_loss: 10.5006 - val_mae: 2.5533\n",
            "Epoch 8/10\n",
            "819/819 [==============================] - 40s 49ms/step - loss: 7.7452 - mae: 2.1966 - val_loss: 10.1125 - val_mae: 2.5034\n",
            "Epoch 9/10\n",
            "819/819 [==============================] - 46s 56ms/step - loss: 7.7262 - mae: 2.1959 - val_loss: 10.7476 - val_mae: 2.5936\n",
            "Epoch 10/10\n",
            "819/819 [==============================] - 39s 47ms/step - loss: 7.6267 - mae: 2.1793 - val_loss: 10.8438 - val_mae: 2.6041\n",
            "405/405 [==============================] - 13s 32ms/step - loss: 13335.9102 - mae: 11.3877\n",
            "Test MAE: 11.39\n"
          ]
        }
      ],
      "source": [
        "opt = keras.optimizers.Adam(learning_rate=0.01)\n",
        "\n",
        "model.compile(optimizer=opt, loss=\"mse\", metrics=[\"mae\"])\n",
        "\n",
        "history = model.fit(\n",
        "    train_dataset,\n",
        "    epochs=10,\n",
        "    validation_data=val_dataset,\n",
        ")\n",
        "\n",
        "print(f\"Test MAE: {model.evaluate(test_dataset)[1]:.2f}\")"
      ],
      "id": "sV2Kqvr25yAh"
    },
    {
      "cell_type": "code",
      "execution_count": null,
      "metadata": {
        "id": "sxwsICra7-Ft"
      },
      "outputs": [],
      "source": [
        "del model"
      ],
      "id": "sxwsICra7-Ft"
    },
    {
      "cell_type": "code",
      "execution_count": null,
      "metadata": {
        "id": "YI3iMj_N786Q"
      },
      "outputs": [],
      "source": [
        "inputs = keras.Input(shape=(sequence_length, raw_data.shape[-1]))\n",
        "x = layers.Flatten()(inputs)\n",
        "x = layers.Dense(256, activation=\"relu\")(x)\n",
        "x = layers.Dense(64, activation=\"relu\")(x)\n",
        "x = layers.Dense(16, activation=\"relu\")(x)\n",
        "outputs = layers.Dense(1)(x)\n",
        "model = keras.Model(inputs, outputs)"
      ],
      "id": "YI3iMj_N786Q"
    },
    {
      "cell_type": "code",
      "execution_count": null,
      "metadata": {
        "colab": {
          "base_uri": "https://localhost:8080/"
        },
        "id": "CsNty94b72Xa",
        "outputId": "3fb5c48c-fdce-45e5-da20-03916c9bfba6"
      },
      "outputs": [
        {
          "output_type": "stream",
          "name": "stdout",
          "text": [
            "Epoch 1/10\n",
            "819/819 [==============================] - 46s 48ms/step - loss: 10.9692 - mae: 2.4099 - val_loss: 12.0636 - val_mae: 2.7100\n",
            "Epoch 2/10\n",
            "819/819 [==============================] - 43s 52ms/step - loss: 4.1023 - mae: 1.5620 - val_loss: 12.8011 - val_mae: 2.8144\n",
            "Epoch 3/10\n",
            "819/819 [==============================] - 40s 48ms/step - loss: 2.4336 - mae: 1.2088 - val_loss: 14.1815 - val_mae: 2.9354\n",
            "Epoch 4/10\n",
            "819/819 [==============================] - 49s 59ms/step - loss: 1.7744 - mae: 1.0359 - val_loss: 13.2820 - val_mae: 2.8598\n",
            "Epoch 5/10\n",
            "819/819 [==============================] - 49s 59ms/step - loss: 1.4306 - mae: 0.9300 - val_loss: 13.7577 - val_mae: 2.9176\n",
            "Epoch 6/10\n",
            "819/819 [==============================] - 40s 49ms/step - loss: 1.2038 - mae: 0.8542 - val_loss: 15.5491 - val_mae: 3.1177\n",
            "Epoch 7/10\n",
            "819/819 [==============================] - 41s 50ms/step - loss: 1.1881 - mae: 0.8436 - val_loss: 14.0280 - val_mae: 2.9340\n",
            "Epoch 8/10\n",
            "819/819 [==============================] - 40s 49ms/step - loss: 0.9867 - mae: 0.7727 - val_loss: 14.1176 - val_mae: 2.9457\n",
            "Epoch 9/10\n",
            "819/819 [==============================] - 39s 47ms/step - loss: 0.9597 - mae: 0.7605 - val_loss: 13.7683 - val_mae: 2.9001\n",
            "Epoch 10/10\n",
            "819/819 [==============================] - 48s 59ms/step - loss: 0.8401 - mae: 0.7141 - val_loss: 14.1690 - val_mae: 2.9384\n",
            "405/405 [==============================] - 13s 32ms/step - loss: 13238.3730 - mae: 11.2580\n",
            "Test MAE: 11.26\n"
          ]
        }
      ],
      "source": [
        "opt = keras.optimizers.Adam(learning_rate=0.01)\n",
        "\n",
        "\n",
        "model.compile(optimizer=opt, loss=\"mse\", metrics=[\"mae\"])\n",
        "\n",
        "history = model.fit(\n",
        "    train_dataset,\n",
        "    epochs=10,\n",
        "    validation_data=val_dataset,\n",
        ")\n",
        "\n",
        "print(f\"Test MAE: {model.evaluate(test_dataset)[1]:.2f}\")"
      ],
      "id": "CsNty94b72Xa"
    },
    {
      "cell_type": "code",
      "source": [
        "inputs = keras.Input(shape=(sequence_length, raw_data.shape[-1]))\n",
        "x = layers.Flatten()(inputs)\n",
        "x = layers.Dense(128, activation=\"relu\")(x)\n",
        "x = layers.Dense(32, activation=\"relu\")(x)\n",
        "outputs = layers.Dense(1)(x)\n",
        "model = keras.Model(inputs, outputs)"
      ],
      "metadata": {
        "id": "KhpCLQBqgHqG"
      },
      "id": "KhpCLQBqgHqG",
      "execution_count": null,
      "outputs": []
    },
    {
      "cell_type": "code",
      "source": [
        "opt = keras.optimizers.Adam(learning_rate=0.01)\n",
        "\n",
        "\n",
        "model.compile(optimizer=opt, loss=\"mse\", metrics=[\"mae\"])\n",
        "\n",
        "history = model.fit(\n",
        "    train_dataset,\n",
        "    epochs=10,\n",
        "    validation_data=val_dataset,\n",
        ")\n",
        "\n",
        "print(f\"Test MAE: {model.evaluate(test_dataset)[1]:.2f}\")"
      ],
      "metadata": {
        "colab": {
          "base_uri": "https://localhost:8080/"
        },
        "id": "1Pt7ZvvpY47c",
        "outputId": "438689a6-26a4-427a-f464-290e34401f57"
      },
      "id": "1Pt7ZvvpY47c",
      "execution_count": null,
      "outputs": [
        {
          "output_type": "stream",
          "name": "stdout",
          "text": [
            "Epoch 1/10\n",
            "819/819 [==============================] - 42s 49ms/step - loss: 10.7914 - mae: 2.3431 - val_loss: 13.5012 - val_mae: 2.9006\n",
            "Epoch 2/10\n",
            "819/819 [==============================] - 38s 47ms/step - loss: 4.0679 - mae: 1.5608 - val_loss: 15.0434 - val_mae: 3.0648\n",
            "Epoch 3/10\n",
            "819/819 [==============================] - 42s 51ms/step - loss: 2.7607 - mae: 1.2903 - val_loss: 18.8561 - val_mae: 3.4340\n",
            "Epoch 4/10\n",
            "819/819 [==============================] - 38s 46ms/step - loss: 2.3023 - mae: 1.1792 - val_loss: 15.9227 - val_mae: 3.1506\n",
            "Epoch 5/10\n",
            "819/819 [==============================] - 48s 59ms/step - loss: 1.9481 - mae: 1.0840 - val_loss: 16.2292 - val_mae: 3.1816\n",
            "Epoch 6/10\n",
            "819/819 [==============================] - 41s 50ms/step - loss: 1.7777 - mae: 1.0362 - val_loss: 15.3969 - val_mae: 3.0904\n",
            "Epoch 7/10\n",
            "819/819 [==============================] - 38s 46ms/step - loss: 1.6305 - mae: 0.9950 - val_loss: 16.0825 - val_mae: 3.1421\n",
            "Epoch 8/10\n",
            "819/819 [==============================] - 39s 47ms/step - loss: 1.5353 - mae: 0.9650 - val_loss: 15.3015 - val_mae: 3.0811\n",
            "Epoch 9/10\n",
            "819/819 [==============================] - 47s 56ms/step - loss: 1.4900 - mae: 0.9493 - val_loss: 15.8177 - val_mae: 3.1297\n",
            "Epoch 10/10\n",
            "819/819 [==============================] - 39s 47ms/step - loss: 1.3809 - mae: 0.9159 - val_loss: 15.7458 - val_mae: 3.1201\n",
            "405/405 [==============================] - 13s 32ms/step - loss: 31913.7285 - mae: 15.4841\n",
            "Test MAE: 15.48\n"
          ]
        }
      ]
    },
    {
      "cell_type": "code",
      "source": [
        "del model"
      ],
      "metadata": {
        "id": "uuQXC2CsVFqv"
      },
      "id": "uuQXC2CsVFqv",
      "execution_count": null,
      "outputs": []
    },
    {
      "cell_type": "code",
      "execution_count": null,
      "metadata": {
        "id": "6015a207-c80a-4a8e-a9ee-f0e97fdef9f5",
        "outputId": "5c56f9cf-98b8-4022-b8a5-df75f138c235",
        "colab": {
          "base_uri": "https://localhost:8080/",
          "height": 452
        }
      },
      "outputs": [
        {
          "output_type": "display_data",
          "data": {
            "text/plain": [
              "<Figure size 640x480 with 1 Axes>"
            ],
            "image/png": "[encoded data removed]"
          },
          "metadata": {}
        }
      ],
      "source": [
        "import matplotlib.pyplot as plt\n",
        "\n",
        "# loss = history.history[\"mae\"]\n",
        "# val_loss = history.history[\"val_mae\"]\n",
        "\n",
        "loss = [2.5874, 1.5620, 1.2088, 1.0359, 0.9300, 0.8542, 0.8436, 0.7727, 0.7605, 0.7141]\n",
        "val_loss = [2.7100, 2.8144, 2.9354, 2.8598, 2.9176, 3.1177, 2.9340, 2.9457, 2.9001, 2.9384]\n",
        "epochs = range(1, len(loss) + 1)\n",
        "plt.figure()\n",
        "plt.plot(epochs, loss, \"bo\", label=\"Training MAE\")\n",
        "plt.plot(epochs, val_loss, \"b\", label=\"Validation MAE\")\n",
        "plt.title(\"Training and validation MAE\")\n",
        "plt.legend()\n",
        "plt.show()"
      ],
      "id": "6015a207-c80a-4a8e-a9ee-f0e97fdef9f5"
    },
    {
      "cell_type": "markdown",
      "source": [
        "Nosso modelo de NN Feedforward com melhor performance foi o com a seguinte arquitetura:\n",
        "Camada densa de 256 neurônios, ativação ReLU\n",
        "Camada densa de 64 neurônios, ativação ReLU\n",
        "Camada densa de 16 neurônios, ativação ReLU\n",
        "Camada de output, 1 neurônio"
      ],
      "metadata": {
        "id": "KXd3U4OkkwLr"
      },
      "id": "KXd3U4OkkwLr"
    },
    {
      "cell_type": "markdown",
      "metadata": {
        "id": "1eb3dcf7-37d1-4e16-b3a3-6f3e776dc476"
      },
      "source": [
        "## 1D convolution neural network"
      ],
      "id": "1eb3dcf7-37d1-4e16-b3a3-6f3e776dc476"
    },
    {
      "cell_type": "code",
      "execution_count": null,
      "metadata": {
        "id": "5b2da1b7-6cb1-4cec-a9fb-7459a731939e"
      },
      "outputs": [],
      "source": [
        "inputs = keras.Input(shape=(sequence_length, raw_data.shape[-1]))\n",
        "x = layers.Conv1D(8, 24, activation=\"relu\")(inputs)\n",
        "x = layers.MaxPooling1D(2)(x)\n",
        "x = layers.Conv1D(8, 12, activation=\"relu\")(x)\n",
        "x = layers.MaxPooling1D(2)(x)\n",
        "x = layers.Conv1D(8, 6, activation=\"relu\")(x)\n",
        "x = layers.GlobalAveragePooling1D()(x)\n",
        "outputs = layers.Dense(1)(x)\n",
        "model = keras.Model(inputs, outputs)"
      ],
      "id": "5b2da1b7-6cb1-4cec-a9fb-7459a731939e"
    },
    {
      "cell_type": "code",
      "execution_count": null,
      "metadata": {
        "id": "ad552e6c-8e0f-4a24-b479-a99c85f6df0a",
        "outputId": "831deea1-9355-4b3a-bc69-2292da5c2263",
        "colab": {
          "base_uri": "https://localhost:8080/"
        }
      },
      "outputs": [
        {
          "output_type": "stream",
          "name": "stdout",
          "text": [
            "Model: \"model_6\"\n",
            "_________________________________________________________________\n",
            " Layer (type)                Output Shape              Param #   \n",
            "=================================================================\n",
            " input_7 (InputLayer)        [(None, 120, 14)]         0         \n",
            "                                                                 \n",
            " conv1d (Conv1D)             (None, 97, 8)             2696      \n",
            "                                                                 \n",
            " max_pooling1d (MaxPooling1  (None, 48, 8)             0         \n",
            " D)                                                              \n",
            "                                                                 \n",
            " conv1d_1 (Conv1D)           (None, 37, 8)             776       \n",
            "                                                                 \n",
            " max_pooling1d_1 (MaxPoolin  (None, 18, 8)             0         \n",
            " g1D)                                                            \n",
            "                                                                 \n",
            " conv1d_2 (Conv1D)           (None, 13, 8)             392       \n",
            "                                                                 \n",
            " global_average_pooling1d (  (None, 8)                 0         \n",
            " GlobalAveragePooling1D)                                         \n",
            "                                                                 \n",
            " dense_23 (Dense)            (None, 1)                 9         \n",
            "                                                                 \n",
            "=================================================================\n",
            "Total params: 3873 (15.13 KB)\n",
            "Trainable params: 3873 (15.13 KB)\n",
            "Non-trainable params: 0 (0.00 Byte)\n",
            "_________________________________________________________________\n"
          ]
        }
      ],
      "source": [
        "model.summary()"
      ],
      "id": "ad552e6c-8e0f-4a24-b479-a99c85f6df0a"
    },
    {
      "cell_type": "code",
      "execution_count": null,
      "metadata": {
        "id": "1a79ff21-4b17-4849-98ac-db5399bbe7b3",
        "outputId": "d1ea0667-c2e2-4651-93d7-fec92f09e89c",
        "colab": {
          "base_uri": "https://localhost:8080/"
        }
      },
      "outputs": [
        {
          "output_type": "stream",
          "name": "stdout",
          "text": [
            "Epoch 1/10\n",
            "819/819 [==============================] - 50s 55ms/step - loss: 23.1158 - mae: 3.7265 - val_loss: 14.9453 - val_mae: 3.0820\n",
            "Epoch 2/10\n",
            "819/819 [==============================] - 40s 49ms/step - loss: 15.5918 - mae: 3.1390 - val_loss: 15.5827 - val_mae: 3.1468\n",
            "Epoch 3/10\n",
            "819/819 [==============================] - 50s 60ms/step - loss: 14.3439 - mae: 3.0080 - val_loss: 14.7507 - val_mae: 3.0095\n",
            "Epoch 4/10\n",
            "819/819 [==============================] - 41s 50ms/step - loss: 13.5191 - mae: 2.9197 - val_loss: 20.8217 - val_mae: 3.6119\n",
            "Epoch 5/10\n",
            "819/819 [==============================] - 41s 50ms/step - loss: 12.8158 - mae: 2.8411 - val_loss: 14.8799 - val_mae: 3.0423\n",
            "Epoch 6/10\n",
            "819/819 [==============================] - 48s 59ms/step - loss: 12.2731 - mae: 2.7759 - val_loss: 15.7611 - val_mae: 3.1180\n",
            "Epoch 7/10\n",
            "819/819 [==============================] - 49s 59ms/step - loss: 11.8224 - mae: 2.7226 - val_loss: 14.9657 - val_mae: 3.0365\n",
            "Epoch 8/10\n",
            "819/819 [==============================] - 41s 50ms/step - loss: 11.3881 - mae: 2.6695 - val_loss: 15.8306 - val_mae: 3.1320\n",
            "Epoch 9/10\n",
            "819/819 [==============================] - 41s 50ms/step - loss: 11.1042 - mae: 2.6331 - val_loss: 15.4185 - val_mae: 3.0658\n",
            "Epoch 10/10\n",
            "819/819 [==============================] - 40s 49ms/step - loss: 10.8285 - mae: 2.6005 - val_loss: 16.9619 - val_mae: 3.2339\n",
            "405/405 [==============================] - 14s 33ms/step - loss: 35746.0430 - mae: 14.7275\n",
            "Test MAE: 14.73\n"
          ]
        }
      ],
      "source": [
        "model.compile(optimizer=\"rmsprop\", loss=\"mse\", metrics=[\"mae\"])\n",
        "\n",
        "history = model.fit(\n",
        "    train_dataset,\n",
        "    epochs=10,\n",
        "    validation_data=val_dataset,\n",
        ")\n",
        "\n",
        "print(f\"Test MAE: {model.evaluate(test_dataset)[1]:.2f}\")"
      ],
      "id": "1a79ff21-4b17-4849-98ac-db5399bbe7b3"
    },
    {
      "cell_type": "code",
      "source": [
        "del model"
      ],
      "metadata": {
        "id": "LJnAwliOn9C3"
      },
      "id": "LJnAwliOn9C3",
      "execution_count": null,
      "outputs": []
    },
    {
      "cell_type": "code",
      "source": [
        "inputs = keras.Input(shape=(sequence_length, raw_data.shape[-1]))\n",
        "x = layers.Conv1D(32, 1, activation=\"relu\")(inputs)\n",
        "x = layers.Dropout(0.25)(x)\n",
        "x = layers.BatchNormalization()(x)\n",
        "x = layers.Conv1D(32, 1, activation=\"relu\")(inputs)\n",
        "x = layers.Dropout(0.25)(x)\n",
        "x = layers.BatchNormalization()(x)\n",
        "x = layers.MaxPooling1D(2)(x)\n",
        "x = layers.Flatten()(x)\n",
        "x = layers.Dense(128, activation=\"relu\")(x)\n",
        "outputs = layers.Dense(1)(x)\n",
        "model = keras.Model(inputs, outputs)"
      ],
      "metadata": {
        "id": "Ce0GMVO7n9ys"
      },
      "id": "Ce0GMVO7n9ys",
      "execution_count": null,
      "outputs": []
    },
    {
      "cell_type": "code",
      "source": [
        "model.compile(optimizer=\"adam\", loss=\"mse\", metrics=[\"mae\"])\n",
        "\n",
        "history2 = model.fit(\n",
        "    train_dataset,\n",
        "    epochs=10,\n",
        "    validation_data=val_dataset,\n",
        ")\n",
        "\n",
        "print(f\"Test MAE: {model.evaluate(test_dataset)[1]:.2f}\")"
      ],
      "metadata": {
        "colab": {
          "base_uri": "https://localhost:8080/"
        },
        "id": "Gbu_D1cppbdB",
        "outputId": "8d7f9204-6eaa-43b1-a379-9e72cca6c5d6"
      },
      "id": "Gbu_D1cppbdB",
      "execution_count": null,
      "outputs": [
        {
          "output_type": "stream",
          "name": "stdout",
          "text": [
            "Epoch 1/10\n",
            "819/819 [==============================] - 45s 52ms/step - loss: 8.8226 - mae: 2.2586 - val_loss: 12.6331 - val_mae: 2.7680\n",
            "Epoch 2/10\n",
            "819/819 [==============================] - 41s 50ms/step - loss: 3.5253 - mae: 1.4593 - val_loss: 14.7337 - val_mae: 2.9775\n",
            "Epoch 3/10\n",
            "819/819 [==============================] - 42s 51ms/step - loss: 2.1270 - mae: 1.1386 - val_loss: 15.9218 - val_mae: 3.0859\n",
            "Epoch 4/10\n",
            "819/819 [==============================] - 41s 50ms/step - loss: 1.6559 - mae: 1.0066 - val_loss: 14.1818 - val_mae: 2.9226\n",
            "Epoch 5/10\n",
            "819/819 [==============================] - 40s 48ms/step - loss: 1.4151 - mae: 0.9314 - val_loss: 13.8710 - val_mae: 2.9049\n",
            "Epoch 6/10\n",
            "819/819 [==============================] - 43s 52ms/step - loss: 1.3047 - mae: 0.8949 - val_loss: 14.0762 - val_mae: 2.9198\n",
            "Epoch 7/10\n",
            "819/819 [==============================] - 42s 51ms/step - loss: 1.1848 - mae: 0.8531 - val_loss: 14.1133 - val_mae: 2.9411\n",
            "Epoch 8/10\n",
            "819/819 [==============================] - 42s 51ms/step - loss: 1.0554 - mae: 0.8060 - val_loss: 14.5592 - val_mae: 2.9867\n",
            "Epoch 9/10\n",
            "819/819 [==============================] - 49s 60ms/step - loss: 1.0224 - mae: 0.7907 - val_loss: 13.6875 - val_mae: 2.8887\n",
            "Epoch 10/10\n",
            "819/819 [==============================] - 41s 50ms/step - loss: 0.9670 - mae: 0.7699 - val_loss: 13.8048 - val_mae: 2.9043\n",
            "405/405 [==============================] - 14s 33ms/step - loss: 14222.2441 - mae: 10.7974\n",
            "Test MAE: 10.80\n"
          ]
        }
      ]
    },
    {
      "cell_type": "code",
      "source": [
        "del model"
      ],
      "metadata": {
        "id": "cwYu7_y6svpq"
      },
      "id": "cwYu7_y6svpq",
      "execution_count": null,
      "outputs": []
    },
    {
      "cell_type": "code",
      "source": [
        "# arquitetura baseada em https://albertum.medium.com/conv1d-layers-in-time-series-fb7b795bce30\n",
        "\n",
        "inputs = keras.layers.Input(shape = (sequence_length, raw_data.shape[-1]))\n",
        "x = inputs\n",
        "skips = []\n",
        "\n",
        "dilation_rates = [1, 2, 4]\n",
        "n_filters = 4\n",
        "filter_width = 2\n",
        "\n",
        "for dilation in dilation_rates:\n",
        "\n",
        "  x = keras.layers.Conv1D(filters = 16,\n",
        "                             kernel_size = 1,\n",
        "                             padding = 'same',\n",
        "                             activation = 'relu')(x)\n",
        "\n",
        "  x_d = keras.layers.Conv1D(filters = n_filters,\n",
        "                               kernel_size = filter_width,\n",
        "                               padding = 'causal',\n",
        "                               dilation_rate = dilation,\n",
        "                               activation = keras.activations.swish)(x)\n",
        "\n",
        "  z = keras.layers.Conv1D(filters = 16,\n",
        "                             kernel_size = 1,\n",
        "                             padding = 'same',\n",
        "                             activation = 'relu')(x_d)\n",
        "\n",
        "  x = keras.layers.Add()([x, z])\n",
        "\n",
        "  skips.append(z)\n",
        "\n",
        "# assemble the skips\n",
        "out = keras.layers.Add()(skips)\n",
        "out = keras.layers.Conv1D(filters = 1,\n",
        "                             kernel_size = 1,\n",
        "                             padding = 'same')(out)\n",
        "out = keras.layers.Flatten()(out)\n",
        "outputs = keras.layers.Dense(1)(out)\n",
        "\n",
        "model = keras.Model(inputs, outputs)"
      ],
      "metadata": {
        "id": "_UnR_qxaswwU"
      },
      "id": "_UnR_qxaswwU",
      "execution_count": null,
      "outputs": []
    },
    {
      "cell_type": "code",
      "source": [
        "model.compile(optimizer=\"adam\", loss=\"mse\", metrics=[\"mae\"])\n",
        "\n",
        "history3 = model.fit(\n",
        "    train_dataset,\n",
        "    epochs=10,\n",
        "    validation_data=val_dataset,\n",
        ")\n",
        "\n",
        "print(f\"Test MAE: {model.evaluate(test_dataset)[1]:.2f}\")"
      ],
      "metadata": {
        "colab": {
          "base_uri": "https://localhost:8080/"
        },
        "id": "uoNgqLzStSjE",
        "outputId": "6bed43d0-9c44-447f-f2bd-9637a8f5a68e"
      },
      "id": "uoNgqLzStSjE",
      "execution_count": null,
      "outputs": [
        {
          "output_type": "stream",
          "name": "stdout",
          "text": [
            "Epoch 1/10\n",
            "819/819 [==============================] - 53s 55ms/step - loss: 18.1548 - mae: 3.2200 - val_loss: 10.1784 - val_mae: 2.4797\n",
            "Epoch 2/10\n",
            "819/819 [==============================] - 52s 63ms/step - loss: 10.5434 - mae: 2.5492 - val_loss: 9.6194 - val_mae: 2.4043\n",
            "Epoch 3/10\n",
            "819/819 [==============================] - 45s 55ms/step - loss: 9.8795 - mae: 2.4619 - val_loss: 9.5776 - val_mae: 2.3994\n",
            "Epoch 4/10\n",
            "819/819 [==============================] - 45s 55ms/step - loss: 9.5546 - mae: 2.4178 - val_loss: 9.3449 - val_mae: 2.3707\n",
            "Epoch 5/10\n",
            "819/819 [==============================] - 44s 54ms/step - loss: 9.2898 - mae: 2.3816 - val_loss: 9.2254 - val_mae: 2.3563\n",
            "Epoch 6/10\n",
            "819/819 [==============================] - 45s 54ms/step - loss: 9.1277 - mae: 2.3595 - val_loss: 9.2334 - val_mae: 2.3618\n",
            "Epoch 7/10\n",
            "819/819 [==============================] - 44s 53ms/step - loss: 8.9815 - mae: 2.3410 - val_loss: 9.2787 - val_mae: 2.3722\n",
            "Epoch 8/10\n",
            "819/819 [==============================] - 44s 53ms/step - loss: 8.8676 - mae: 2.3260 - val_loss: 9.4427 - val_mae: 2.3872\n",
            "Epoch 9/10\n",
            "819/819 [==============================] - 45s 55ms/step - loss: 8.7071 - mae: 2.3041 - val_loss: 9.3208 - val_mae: 2.3789\n",
            "Epoch 10/10\n",
            "819/819 [==============================] - 45s 54ms/step - loss: 8.5682 - mae: 2.2866 - val_loss: 9.7042 - val_mae: 2.4223\n",
            "405/405 [==============================] - 15s 35ms/step - loss: 1288.5940 - mae: 4.1008\n",
            "Test MAE: 4.10\n"
          ]
        }
      ]
    },
    {
      "cell_type": "code",
      "source": [
        "del model"
      ],
      "metadata": {
        "id": "DoUTOnEk0XKU"
      },
      "id": "DoUTOnEk0XKU",
      "execution_count": null,
      "outputs": []
    },
    {
      "cell_type": "code",
      "execution_count": null,
      "metadata": {
        "id": "c6d9c8a1-f97e-4e61-9587-ddffe31210c1",
        "outputId": "9a4e5198-5a4f-43a4-ed53-9679c2425d63",
        "colab": {
          "base_uri": "https://localhost:8080/",
          "height": 452
        }
      },
      "outputs": [
        {
          "output_type": "display_data",
          "data": {
            "text/plain": [
              "<Figure size 640x480 with 1 Axes>"
            ],
            "image/png": "[encoded data removed]"
          },
          "metadata": {}
        }
      ],
      "source": [
        "loss = history3.history[\"mae\"]\n",
        "val_loss = history3.history[\"val_mae\"]\n",
        "epochs = range(1, len(loss) + 1)\n",
        "plt.figure()\n",
        "plt.plot(epochs, loss, \"bo\", label=\"Training MAE\")\n",
        "plt.plot(epochs, val_loss, \"b\", label=\"Validation MAE\")\n",
        "plt.title(\"Training and validation MAE\")\n",
        "plt.legend()\n",
        "plt.show()"
      ],
      "id": "c6d9c8a1-f97e-4e61-9587-ddffe31210c1"
    },
    {
      "cell_type": "markdown",
      "source": [
        "Tivemos grande sucesso com essa arquitetura, melhorando consideravelmente a rede 1D Conv original, mas ainda não está melhor que o naive."
      ],
      "metadata": {
        "id": "MUNu8nyPzc6Y"
      },
      "id": "MUNu8nyPzc6Y"
    },
    {
      "cell_type": "markdown",
      "metadata": {
        "id": "8a981e2c-ca9e-470d-983f-041d0696f64a"
      },
      "source": [
        "## RNN with LSTM cell"
      ],
      "id": "8a981e2c-ca9e-470d-983f-041d0696f64a"
    },
    {
      "cell_type": "code",
      "execution_count": null,
      "metadata": {
        "id": "a816bf20-1772-4e43-8ecb-2c3ac34c3525"
      },
      "outputs": [],
      "source": [
        "inputs = keras.Input(shape=(sequence_length, raw_data.shape[-1]))\n",
        "x = layers.LSTM(16)(inputs)\n",
        "outputs = layers.Dense(1)(x)\n",
        "model = keras.Model(inputs, outputs)"
      ],
      "id": "a816bf20-1772-4e43-8ecb-2c3ac34c3525"
    },
    {
      "cell_type": "code",
      "execution_count": null,
      "metadata": {
        "id": "f0a627d3-eb5a-41e8-b03c-0a390b336d67",
        "outputId": "ed17f944-7dbc-46b2-d245-36a7bfd9bdb5",
        "colab": {
          "base_uri": "https://localhost:8080/"
        }
      },
      "outputs": [
        {
          "output_type": "stream",
          "name": "stdout",
          "text": [
            "Model: \"model_9\"\n",
            "_________________________________________________________________\n",
            " Layer (type)                Output Shape              Param #   \n",
            "=================================================================\n",
            " input_14 (InputLayer)       [(None, 120, 14)]         0         \n",
            "                                                                 \n",
            " lstm (LSTM)                 (None, 16)                1984      \n",
            "                                                                 \n",
            " dense_27 (Dense)            (None, 1)                 17        \n",
            "                                                                 \n",
            "=================================================================\n",
            "Total params: 2001 (7.82 KB)\n",
            "Trainable params: 2001 (7.82 KB)\n",
            "Non-trainable params: 0 (0.00 Byte)\n",
            "_________________________________________________________________\n"
          ]
        }
      ],
      "source": [
        "model.summary()"
      ],
      "id": "f0a627d3-eb5a-41e8-b03c-0a390b336d67"
    },
    {
      "cell_type": "code",
      "execution_count": null,
      "metadata": {
        "id": "97c4fbcd-6e12-4122-b537-56be1be2d774",
        "outputId": "d62e958a-14c0-40eb-d3a1-1ea5d414c4c5",
        "colab": {
          "base_uri": "https://localhost:8080/"
        }
      },
      "outputs": [
        {
          "output_type": "stream",
          "name": "stdout",
          "text": [
            "Epoch 1/10\n",
            "819/819 [==============================] - 56s 65ms/step - loss: 39.8405 - mae: 4.5868 - val_loss: 12.3255 - val_mae: 2.6814\n",
            "Epoch 2/10\n",
            "819/819 [==============================] - 45s 55ms/step - loss: 11.0042 - mae: 2.5885 - val_loss: 9.7638 - val_mae: 2.4275\n",
            "Epoch 3/10\n",
            "819/819 [==============================] - 52s 64ms/step - loss: 9.8273 - mae: 2.4485 - val_loss: 9.9432 - val_mae: 2.4497\n",
            "Epoch 4/10\n",
            "819/819 [==============================] - 46s 55ms/step - loss: 9.3053 - mae: 2.3837 - val_loss: 10.0023 - val_mae: 2.4597\n",
            "Epoch 5/10\n",
            "819/819 [==============================] - 52s 63ms/step - loss: 9.0274 - mae: 2.3464 - val_loss: 9.7619 - val_mae: 2.4346\n",
            "Epoch 6/10\n",
            "819/819 [==============================] - 44s 54ms/step - loss: 8.8136 - mae: 2.3197 - val_loss: 10.0888 - val_mae: 2.4704\n",
            "Epoch 7/10\n",
            "819/819 [==============================] - 45s 55ms/step - loss: 8.6361 - mae: 2.2965 - val_loss: 10.0016 - val_mae: 2.4549\n",
            "Epoch 8/10\n",
            "819/819 [==============================] - 44s 53ms/step - loss: 8.4765 - mae: 2.2735 - val_loss: 10.1009 - val_mae: 2.4738\n",
            "Epoch 9/10\n",
            "819/819 [==============================] - 44s 53ms/step - loss: 8.3474 - mae: 2.2567 - val_loss: 9.9718 - val_mae: 2.4600\n",
            "Epoch 10/10\n",
            "819/819 [==============================] - 45s 55ms/step - loss: 8.1889 - mae: 2.2373 - val_loss: 9.9915 - val_mae: 2.4671\n",
            "405/405 [==============================] - 13s 31ms/step - loss: 11.3276 - mae: 2.6336\n",
            "Test MAE: 2.63\n"
          ]
        }
      ],
      "source": [
        "model.compile(optimizer=\"rmsprop\", loss=\"mse\", metrics=[\"mae\"])\n",
        "history = model.fit(\n",
        "    train_dataset,\n",
        "    epochs=10,\n",
        "    validation_data=val_dataset,\n",
        ")\n",
        "print(f\"Test MAE: {model.evaluate(test_dataset)[1]:.2f}\")"
      ],
      "id": "97c4fbcd-6e12-4122-b537-56be1be2d774"
    },
    {
      "cell_type": "code",
      "execution_count": null,
      "metadata": {
        "id": "a465007c-ef95-4830-bb1d-1e8e89db4750",
        "outputId": "aa2d0eae-aca9-47e0-c3a3-ac7f279f9d2e"
      },
      "outputs": [
        {
          "data": {
            "image/png": "[encoded data removed]",
            "text/plain": [
              "<Figure size 640x480 with 1 Axes>"
            ]
          },
          "metadata": {},
          "output_type": "display_data"
        }
      ],
      "source": [
        "loss = history.history[\"mae\"]\n",
        "val_loss = history.history[\"val_mae\"]\n",
        "epochs = range(1, len(loss) + 1)\n",
        "plt.figure()\n",
        "plt.plot(epochs, loss, \"bo\", label=\"Training MAE\")\n",
        "plt.plot(epochs, val_loss, \"b\", label=\"Validation MAE\")\n",
        "plt.title(\"Training and validation MAE\")\n",
        "plt.legend()\n",
        "plt.show()"
      ],
      "id": "a465007c-ef95-4830-bb1d-1e8e89db4750"
    },
    {
      "cell_type": "markdown",
      "metadata": {
        "id": "82c9c914-c4eb-4cb6-b9dd-8b0be2828eb8"
      },
      "source": [
        "## RNN with LSTM cell and recurrent dropout"
      ],
      "id": "82c9c914-c4eb-4cb6-b9dd-8b0be2828eb8"
    },
    {
      "cell_type": "code",
      "execution_count": null,
      "metadata": {
        "id": "65d52fff-2254-4bc1-9d78-eae4f8474b2e"
      },
      "outputs": [],
      "source": [
        "inputs = keras.Input(shape=(sequence_length, raw_data.shape[-1]))\n",
        "x = layers.LSTM(32, recurrent_dropout=0.25)(inputs)\n",
        "x = layers.Dropout(0.5)(x)\n",
        "outputs = layers.Dense(1)(x)\n",
        "model = keras.Model(inputs, outputs)"
      ],
      "id": "65d52fff-2254-4bc1-9d78-eae4f8474b2e"
    },
    {
      "cell_type": "code",
      "execution_count": null,
      "metadata": {
        "id": "f2947658-9fdb-4438-aff1-3d9e17f72b84",
        "outputId": "7613032e-36c2-46a7-ccad-97427479e3e4"
      },
      "outputs": [
        {
          "name": "stdout",
          "output_type": "stream",
          "text": [
            "Model: \"model_3\"\n",
            "_________________________________________________________________\n",
            " Layer (type)                Output Shape              Param #   \n",
            "=================================================================\n",
            " input_4 (InputLayer)        [(None, 120, 14)]         0         \n",
            "                                                                 \n",
            " lstm_1 (LSTM)               (None, 32)                6016      \n",
            "                                                                 \n",
            " dropout (Dropout)           (None, 32)                0         \n",
            "                                                                 \n",
            " dense_4 (Dense)             (None, 1)                 33        \n",
            "                                                                 \n",
            "=================================================================\n",
            "Total params: 6049 (23.63 KB)\n",
            "Trainable params: 6049 (23.63 KB)\n",
            "Non-trainable params: 0 (0.00 Byte)\n",
            "_________________________________________________________________\n"
          ]
        }
      ],
      "source": [
        "model.summary()"
      ],
      "id": "f2947658-9fdb-4438-aff1-3d9e17f72b84"
    },
    {
      "cell_type": "code",
      "execution_count": null,
      "metadata": {
        "id": "58164d81-2fe2-4dc9-99be-be29487a6a4f",
        "outputId": "075c2ff0-8992-4c26-df8b-1d0a2b10f009"
      },
      "outputs": [
        {
          "name": "stdout",
          "output_type": "stream",
          "text": [
            "Epoch 1/50\n",
            "819/819 [==============================] - 68s 82ms/step - loss: 27.4771 - mae: 3.8642 - val_loss: 9.7172 - val_mae: 2.4380\n",
            "Epoch 2/50\n",
            "819/819 [==============================] - 67s 81ms/step - loss: 14.9045 - mae: 3.0006 - val_loss: 9.3520 - val_mae: 2.3765\n",
            "Epoch 3/50\n",
            "819/819 [==============================] - 67s 82ms/step - loss: 14.1340 - mae: 2.9132 - val_loss: 9.4616 - val_mae: 2.3848\n",
            "Epoch 4/50\n",
            "819/819 [==============================] - 66s 81ms/step - loss: 13.4593 - mae: 2.8447 - val_loss: 9.5603 - val_mae: 2.4069\n",
            "Epoch 5/50\n",
            "819/819 [==============================] - 67s 82ms/step - loss: 13.0053 - mae: 2.7883 - val_loss: 9.5383 - val_mae: 2.4052\n",
            "Epoch 6/50\n",
            "819/819 [==============================] - 66s 81ms/step - loss: 12.6874 - mae: 2.7527 - val_loss: 9.8109 - val_mae: 2.4397\n",
            "Epoch 7/50\n",
            "819/819 [==============================] - 66s 81ms/step - loss: 12.3014 - mae: 2.7161 - val_loss: 10.1385 - val_mae: 2.4824\n",
            "Epoch 8/50\n",
            "819/819 [==============================] - 69s 84ms/step - loss: 11.9593 - mae: 2.6739 - val_loss: 9.9319 - val_mae: 2.4461\n",
            "Epoch 9/50\n",
            "819/819 [==============================] - 66s 80ms/step - loss: 11.6919 - mae: 2.6449 - val_loss: 9.9525 - val_mae: 2.4508\n",
            "Epoch 10/50\n",
            "819/819 [==============================] - 66s 81ms/step - loss: 11.5587 - mae: 2.6317 - val_loss: 10.0366 - val_mae: 2.4608\n",
            "Epoch 11/50\n",
            "819/819 [==============================] - 65s 79ms/step - loss: 11.3530 - mae: 2.6002 - val_loss: 10.1554 - val_mae: 2.4737\n",
            "Epoch 12/50\n",
            "819/819 [==============================] - 65s 80ms/step - loss: 11.1081 - mae: 2.5783 - val_loss: 9.8767 - val_mae: 2.4404\n",
            "Epoch 13/50\n",
            "819/819 [==============================] - 65s 79ms/step - loss: 10.9516 - mae: 2.5590 - val_loss: 9.8532 - val_mae: 2.4417\n",
            "Epoch 14/50\n",
            "819/819 [==============================] - 66s 80ms/step - loss: 10.7814 - mae: 2.5407 - val_loss: 9.7219 - val_mae: 2.4156\n",
            "Epoch 15/50\n",
            "819/819 [==============================] - 65s 80ms/step - loss: 10.6753 - mae: 2.5245 - val_loss: 10.2605 - val_mae: 2.4903\n",
            "Epoch 16/50\n",
            "819/819 [==============================] - 65s 79ms/step - loss: 10.5418 - mae: 2.5122 - val_loss: 10.0015 - val_mae: 2.4579\n",
            "Epoch 17/50\n",
            "819/819 [==============================] - 66s 80ms/step - loss: 10.3999 - mae: 2.4950 - val_loss: 10.1977 - val_mae: 2.4819\n",
            "Epoch 18/50\n",
            "819/819 [==============================] - 66s 80ms/step - loss: 10.3301 - mae: 2.4852 - val_loss: 9.9093 - val_mae: 2.4472\n",
            "Epoch 19/50\n",
            "819/819 [==============================] - 66s 80ms/step - loss: 10.2347 - mae: 2.4728 - val_loss: 10.1582 - val_mae: 2.4712\n",
            "Epoch 20/50\n",
            "819/819 [==============================] - 65s 80ms/step - loss: 10.1286 - mae: 2.4628 - val_loss: 10.2888 - val_mae: 2.4926\n",
            "Epoch 21/50\n",
            "819/819 [==============================] - 65s 80ms/step - loss: 10.0944 - mae: 2.4573 - val_loss: 10.2190 - val_mae: 2.4913\n",
            "Epoch 22/50\n",
            "819/819 [==============================] - 65s 79ms/step - loss: 10.0244 - mae: 2.4470 - val_loss: 10.5698 - val_mae: 2.5278\n",
            "Epoch 23/50\n",
            "819/819 [==============================] - 65s 79ms/step - loss: 9.8575 - mae: 2.4265 - val_loss: 10.9291 - val_mae: 2.5710\n",
            "Epoch 24/50\n",
            "819/819 [==============================] - 65s 79ms/step - loss: 9.8368 - mae: 2.4228 - val_loss: 10.2688 - val_mae: 2.4876\n",
            "Epoch 25/50\n",
            "819/819 [==============================] - 65s 79ms/step - loss: 9.7916 - mae: 2.4198 - val_loss: 10.6294 - val_mae: 2.5242\n",
            "Epoch 26/50\n",
            "819/819 [==============================] - 65s 79ms/step - loss: 9.7051 - mae: 2.4077 - val_loss: 10.6493 - val_mae: 2.5420\n",
            "Epoch 27/50\n",
            "819/819 [==============================] - 65s 79ms/step - loss: 9.6657 - mae: 2.4017 - val_loss: 10.4408 - val_mae: 2.5078\n",
            "Epoch 28/50\n",
            "819/819 [==============================] - 65s 79ms/step - loss: 9.6368 - mae: 2.3947 - val_loss: 10.4549 - val_mae: 2.5148\n",
            "Epoch 29/50\n",
            "819/819 [==============================] - 65s 79ms/step - loss: 9.5824 - mae: 2.3929 - val_loss: 10.4873 - val_mae: 2.5252\n",
            "Epoch 30/50\n",
            "819/819 [==============================] - 65s 79ms/step - loss: 9.5159 - mae: 2.3825 - val_loss: 10.5275 - val_mae: 2.5231\n",
            "Epoch 31/50\n",
            "819/819 [==============================] - 65s 80ms/step - loss: 9.4543 - mae: 2.3751 - val_loss: 10.4093 - val_mae: 2.5097\n",
            "Epoch 32/50\n",
            "819/819 [==============================] - 65s 79ms/step - loss: 9.4565 - mae: 2.3762 - val_loss: 10.9315 - val_mae: 2.5808\n",
            "Epoch 33/50\n",
            "819/819 [==============================] - 66s 80ms/step - loss: 9.4807 - mae: 2.3795 - val_loss: 10.5893 - val_mae: 2.5350\n",
            "Epoch 34/50\n",
            "819/819 [==============================] - 65s 79ms/step - loss: 9.3317 - mae: 2.3618 - val_loss: 10.8518 - val_mae: 2.5611\n",
            "Epoch 35/50\n",
            "819/819 [==============================] - 66s 80ms/step - loss: 9.3177 - mae: 2.3584 - val_loss: 10.8922 - val_mae: 2.5690\n",
            "Epoch 36/50\n",
            "819/819 [==============================] - 66s 81ms/step - loss: 9.2495 - mae: 2.3508 - val_loss: 11.3998 - val_mae: 2.6356\n",
            "Epoch 37/50\n",
            "819/819 [==============================] - 67s 82ms/step - loss: 9.2275 - mae: 2.3475 - val_loss: 10.9889 - val_mae: 2.5772\n",
            "Epoch 38/50\n",
            "819/819 [==============================] - 68s 83ms/step - loss: 9.2398 - mae: 2.3507 - val_loss: 10.8421 - val_mae: 2.5628\n",
            "Epoch 39/50\n",
            "819/819 [==============================] - 68s 82ms/step - loss: 9.2257 - mae: 2.3460 - val_loss: 11.3711 - val_mae: 2.6207\n",
            "Epoch 40/50\n",
            "819/819 [==============================] - 68s 83ms/step - loss: 9.1069 - mae: 2.3286 - val_loss: 10.7861 - val_mae: 2.5514\n",
            "Epoch 41/50\n",
            "819/819 [==============================] - 67s 82ms/step - loss: 9.1840 - mae: 2.3415 - val_loss: 10.8196 - val_mae: 2.5481\n",
            "Epoch 42/50\n",
            "819/819 [==============================] - 67s 82ms/step - loss: 9.0586 - mae: 2.3265 - val_loss: 11.0668 - val_mae: 2.5857\n",
            "Epoch 43/50\n",
            "819/819 [==============================] - 67s 81ms/step - loss: 9.0306 - mae: 2.3243 - val_loss: 11.1406 - val_mae: 2.5911\n",
            "Epoch 44/50\n",
            "819/819 [==============================] - 67s 81ms/step - loss: 9.0371 - mae: 2.3218 - val_loss: 11.1679 - val_mae: 2.6029\n",
            "Epoch 45/50\n",
            "819/819 [==============================] - 68s 83ms/step - loss: 9.0385 - mae: 2.3246 - val_loss: 11.6549 - val_mae: 2.6533\n",
            "Epoch 46/50\n",
            "819/819 [==============================] - 66s 81ms/step - loss: 9.0032 - mae: 2.3191 - val_loss: 11.1375 - val_mae: 2.5895\n",
            "Epoch 47/50\n",
            "819/819 [==============================] - 66s 81ms/step - loss: 8.8787 - mae: 2.3069 - val_loss: 12.2928 - val_mae: 2.7348\n",
            "Epoch 48/50\n",
            "819/819 [==============================] - 66s 80ms/step - loss: 8.9252 - mae: 2.3079 - val_loss: 11.4288 - val_mae: 2.6263\n",
            "Epoch 49/50\n",
            "819/819 [==============================] - 65s 80ms/step - loss: 8.8817 - mae: 2.3026 - val_loss: 11.2191 - val_mae: 2.5996\n",
            "Epoch 50/50\n",
            "819/819 [==============================] - 65s 79ms/step - loss: 8.8372 - mae: 2.2989 - val_loss: 11.7387 - val_mae: 2.6628\n",
            "405/405 [==============================] - 6s 16ms/step - loss: 12.8554 - mae: 2.8316\n",
            "Test MAE: 2.83\n"
          ]
        }
      ],
      "source": [
        "inputs = keras.Input(shape=(sequence_length, raw_data.shape[-1]))\n",
        "x = layers.LSTM(32, recurrent_dropout=0.25)(inputs)\n",
        "x = layers.Dropout(0.5)(x)\n",
        "outputs = layers.Dense(1)(x)\n",
        "model = keras.Model(inputs, outputs)\n",
        "\n",
        "model.compile(optimizer=\"rmsprop\", loss=\"mse\", metrics=[\"mae\"])\n",
        "history = model.fit(\n",
        "    train_dataset,\n",
        "    epochs=50,\n",
        "    validation_data=val_dataset,\n",
        ")\n",
        "print(f\"Test MAE: {model.evaluate(test_dataset)[1]:.2f}\")"
      ],
      "id": "58164d81-2fe2-4dc9-99be-be29487a6a4f"
    },
    {
      "cell_type": "code",
      "execution_count": null,
      "metadata": {
        "id": "3a81b7a6-e117-4a98-88e2-206dac90c2e8",
        "outputId": "f0c8864c-fbf1-43b9-82f4-3004536d79e8"
      },
      "outputs": [
        {
          "data": {
            "image/png": "[encoded data removed]",
            "text/plain": [
              "<Figure size 640x480 with 1 Axes>"
            ]
          },
          "metadata": {},
          "output_type": "display_data"
        }
      ],
      "source": [
        "loss = history.history[\"mae\"]\n",
        "val_loss = history.history[\"val_mae\"]\n",
        "epochs = range(1, len(loss) + 1)\n",
        "plt.figure()\n",
        "plt.plot(epochs, loss, \"bo\", label=\"Training MAE\")\n",
        "plt.plot(epochs, val_loss, \"b\", label=\"Validation MAE\")\n",
        "plt.title(\"Training and validation MAE\")\n",
        "plt.legend()\n",
        "plt.show()"
      ],
      "id": "3a81b7a6-e117-4a98-88e2-206dac90c2e8"
    },
    {
      "cell_type": "markdown",
      "metadata": {
        "id": "82c8de33-0a2c-42c1-8f70-cc8c9763bdbc"
      },
      "source": [
        "## Stacked RNN layers"
      ],
      "id": "82c8de33-0a2c-42c1-8f70-cc8c9763bdbc"
    },
    {
      "cell_type": "code",
      "execution_count": null,
      "metadata": {
        "id": "8365803a-8f16-4316-954d-8f16c51781ce",
        "outputId": "c88f3926-222e-411a-ce06-7650862a7d67"
      },
      "outputs": [
        {
          "name": "stdout",
          "output_type": "stream",
          "text": [
            "Epoch 1/50\n",
            "819/819 [==============================] - 142s 172ms/step - loss: 26.3065 - mae: 3.7720 - val_loss: 10.4601 - val_mae: 2.5255\n",
            "Epoch 2/50\n",
            "819/819 [==============================] - 142s 173ms/step - loss: 13.6321 - mae: 2.8568 - val_loss: 9.8368 - val_mae: 2.4439\n",
            "Epoch 3/50\n",
            "819/819 [==============================] - 142s 174ms/step - loss: 12.4769 - mae: 2.7306 - val_loss: 10.0937 - val_mae: 2.4758\n",
            "Epoch 4/50\n",
            "819/819 [==============================] - 142s 173ms/step - loss: 11.5680 - mae: 2.6314 - val_loss: 10.2498 - val_mae: 2.4925\n",
            "Epoch 5/50\n",
            "819/819 [==============================] - 142s 174ms/step - loss: 10.8748 - mae: 2.5471 - val_loss: 10.1394 - val_mae: 2.5081\n",
            "Epoch 6/50\n",
            "819/819 [==============================] - 142s 173ms/step - loss: 10.2750 - mae: 2.4737 - val_loss: 10.0864 - val_mae: 2.4920\n",
            "Epoch 7/50\n",
            "819/819 [==============================] - 141s 172ms/step - loss: 9.7846 - mae: 2.4076 - val_loss: 10.6001 - val_mae: 2.5501\n",
            "Epoch 8/50\n",
            "819/819 [==============================] - 139s 170ms/step - loss: 9.3922 - mae: 2.3601 - val_loss: 10.6510 - val_mae: 2.5692\n",
            "Epoch 9/50\n",
            "819/819 [==============================] - 141s 172ms/step - loss: 8.9404 - mae: 2.2999 - val_loss: 10.9773 - val_mae: 2.5932\n",
            "Epoch 10/50\n",
            "819/819 [==============================] - 140s 170ms/step - loss: 8.6574 - mae: 2.2655 - val_loss: 11.3586 - val_mae: 2.6371\n",
            "Epoch 11/50\n",
            "819/819 [==============================] - 140s 170ms/step - loss: 8.4142 - mae: 2.2319 - val_loss: 11.1094 - val_mae: 2.6124\n",
            "Epoch 12/50\n",
            "819/819 [==============================] - 142s 173ms/step - loss: 8.1694 - mae: 2.2004 - val_loss: 11.5219 - val_mae: 2.6586\n",
            "Epoch 13/50\n",
            "819/819 [==============================] - 140s 171ms/step - loss: 7.9609 - mae: 2.1709 - val_loss: 11.8258 - val_mae: 2.6806\n",
            "Epoch 14/50\n",
            "819/819 [==============================] - 140s 171ms/step - loss: 7.8007 - mae: 2.1473 - val_loss: 13.0895 - val_mae: 2.8206\n",
            "Epoch 15/50\n",
            "819/819 [==============================] - 141s 173ms/step - loss: 7.5901 - mae: 2.1214 - val_loss: 12.1801 - val_mae: 2.7294\n",
            "Epoch 16/50\n",
            "819/819 [==============================] - 141s 172ms/step - loss: 7.4490 - mae: 2.1023 - val_loss: 12.1479 - val_mae: 2.7228\n",
            "Epoch 17/50\n",
            "819/819 [==============================] - 139s 169ms/step - loss: 7.3272 - mae: 2.0835 - val_loss: 12.7319 - val_mae: 2.7754\n",
            "Epoch 18/50\n",
            "819/819 [==============================] - 140s 171ms/step - loss: 7.2533 - mae: 2.0731 - val_loss: 12.1029 - val_mae: 2.7123\n",
            "Epoch 19/50\n",
            "819/819 [==============================] - 141s 172ms/step - loss: 7.1240 - mae: 2.0552 - val_loss: 12.8268 - val_mae: 2.7811\n",
            "Epoch 20/50\n",
            "819/819 [==============================] - 141s 172ms/step - loss: 7.0556 - mae: 2.0477 - val_loss: 12.6850 - val_mae: 2.7784\n",
            "Epoch 21/50\n",
            "819/819 [==============================] - 140s 170ms/step - loss: 6.9584 - mae: 2.0315 - val_loss: 12.5669 - val_mae: 2.7749\n",
            "Epoch 22/50\n",
            "819/819 [==============================] - 140s 171ms/step - loss: 6.8556 - mae: 2.0179 - val_loss: 12.9356 - val_mae: 2.8067\n",
            "Epoch 23/50\n",
            "819/819 [==============================] - 140s 171ms/step - loss: 6.8056 - mae: 2.0102 - val_loss: 12.7644 - val_mae: 2.7842\n",
            "Epoch 24/50\n",
            "819/819 [==============================] - 141s 173ms/step - loss: 6.7773 - mae: 2.0065 - val_loss: 13.1535 - val_mae: 2.8188\n",
            "Epoch 25/50\n",
            "819/819 [==============================] - 141s 172ms/step - loss: 6.6992 - mae: 1.9936 - val_loss: 13.2938 - val_mae: 2.8355\n",
            "Epoch 26/50\n",
            "819/819 [==============================] - 141s 172ms/step - loss: 6.6554 - mae: 1.9873 - val_loss: 13.2655 - val_mae: 2.8414\n",
            "Epoch 27/50\n",
            "819/819 [==============================] - 141s 172ms/step - loss: 6.6186 - mae: 1.9837 - val_loss: 13.1195 - val_mae: 2.8130\n",
            "Epoch 28/50\n",
            "819/819 [==============================] - 141s 173ms/step - loss: 6.5635 - mae: 1.9718 - val_loss: 13.3040 - val_mae: 2.8359\n",
            "Epoch 29/50\n",
            "819/819 [==============================] - 141s 172ms/step - loss: 6.5572 - mae: 1.9697 - val_loss: 13.6681 - val_mae: 2.8652\n",
            "Epoch 30/50\n",
            "819/819 [==============================] - 141s 172ms/step - loss: 6.4822 - mae: 1.9591 - val_loss: 14.4361 - val_mae: 2.9505\n",
            "Epoch 31/50\n",
            "819/819 [==============================] - 142s 173ms/step - loss: 6.4020 - mae: 1.9474 - val_loss: 13.4338 - val_mae: 2.8571\n",
            "Epoch 32/50\n",
            "819/819 [==============================] - 141s 172ms/step - loss: 6.3847 - mae: 1.9452 - val_loss: 13.3704 - val_mae: 2.8499\n",
            "Epoch 33/50\n",
            "819/819 [==============================] - 140s 171ms/step - loss: 6.3396 - mae: 1.9391 - val_loss: 13.6615 - val_mae: 2.8778\n",
            "Epoch 34/50\n",
            "819/819 [==============================] - 142s 173ms/step - loss: 6.3528 - mae: 1.9408 - val_loss: 13.3966 - val_mae: 2.8438\n",
            "Epoch 35/50\n",
            "819/819 [==============================] - 141s 172ms/step - loss: 6.3412 - mae: 1.9352 - val_loss: 13.4609 - val_mae: 2.8472\n",
            "Epoch 36/50\n",
            "819/819 [==============================] - 142s 173ms/step - loss: 6.2659 - mae: 1.9280 - val_loss: 13.7229 - val_mae: 2.8792\n",
            "Epoch 37/50\n",
            "819/819 [==============================] - 143s 174ms/step - loss: 6.2014 - mae: 1.9170 - val_loss: 13.6815 - val_mae: 2.8606\n",
            "Epoch 38/50\n",
            "819/819 [==============================] - 143s 174ms/step - loss: 6.2579 - mae: 1.9225 - val_loss: 13.1754 - val_mae: 2.8218\n",
            "Epoch 39/50\n",
            "819/819 [==============================] - 141s 172ms/step - loss: 6.1861 - mae: 1.9135 - val_loss: 13.0011 - val_mae: 2.8012\n",
            "Epoch 40/50\n",
            "819/819 [==============================] - 143s 174ms/step - loss: 6.1892 - mae: 1.9137 - val_loss: 13.2382 - val_mae: 2.8257\n",
            "Epoch 41/50\n",
            "819/819 [==============================] - 142s 174ms/step - loss: 6.1916 - mae: 1.9120 - val_loss: 13.5207 - val_mae: 2.8681\n",
            "Epoch 42/50\n",
            "819/819 [==============================] - 142s 173ms/step - loss: 6.1344 - mae: 1.9015 - val_loss: 13.3125 - val_mae: 2.8368\n",
            "Epoch 43/50\n",
            "819/819 [==============================] - 141s 172ms/step - loss: 6.1292 - mae: 1.9029 - val_loss: 13.6502 - val_mae: 2.8716\n",
            "Epoch 44/50\n",
            "819/819 [==============================] - 141s 172ms/step - loss: 6.0728 - mae: 1.8940 - val_loss: 13.3789 - val_mae: 2.8401\n",
            "Epoch 45/50\n",
            "819/819 [==============================] - 141s 172ms/step - loss: 6.0962 - mae: 1.8965 - val_loss: 13.2277 - val_mae: 2.8279\n",
            "Epoch 46/50\n",
            "819/819 [==============================] - 142s 173ms/step - loss: 6.0400 - mae: 1.8890 - val_loss: 13.5379 - val_mae: 2.8645\n",
            "Epoch 47/50\n",
            "819/819 [==============================] - 142s 173ms/step - loss: 6.0469 - mae: 1.8866 - val_loss: 13.8006 - val_mae: 2.8986\n",
            "Epoch 48/50\n",
            "819/819 [==============================] - 141s 172ms/step - loss: 6.0015 - mae: 1.8814 - val_loss: 13.1317 - val_mae: 2.8231\n",
            "Epoch 49/50\n",
            "819/819 [==============================] - 143s 174ms/step - loss: 5.9943 - mae: 1.8801 - val_loss: 13.4202 - val_mae: 2.8557\n",
            "Epoch 50/50\n",
            "819/819 [==============================] - 142s 174ms/step - loss: 5.9636 - mae: 1.8747 - val_loss: 13.2854 - val_mae: 2.8374\n",
            "405/405 [==============================] - 13s 31ms/step - loss: 16.1800 - mae: 3.1329\n",
            "Test MAE: 3.13\n"
          ]
        }
      ],
      "source": [
        "inputs = keras.Input(shape=(sequence_length, raw_data.shape[-1]))\n",
        "x = layers.LSTM(32, recurrent_dropout=0.5, return_sequences=True)(inputs)\n",
        "x = layers.LSTM(32, recurrent_dropout=0.5)(x)\n",
        "x = layers.Dropout(0.5)(x)\n",
        "outputs = layers.Dense(1)(x)\n",
        "model = keras.Model(inputs, outputs)\n",
        "\n",
        "model.compile(optimizer=\"rmsprop\", loss=\"mse\", metrics=[\"mae\"])\n",
        "\n",
        "history = model.fit(\n",
        "    train_dataset,\n",
        "    epochs=50,\n",
        "    validation_data=val_dataset,\n",
        ")\n",
        "print(f\"Test MAE: {model.evaluate(test_dataset)[1]:.2f}\")"
      ],
      "id": "8365803a-8f16-4316-954d-8f16c51781ce"
    }
  ],
  "metadata": {
    "accelerator": "GPU",
    "colab": {
      "provenance": []
    },
    "kernelspec": {
      "display_name": "Python 3",
      "name": "python3"
    },
    "language_info": {
      "codemirror_mode": {
        "name": "ipython",
        "version": 3
      },
      "file_extension": ".py",
      "mimetype": "text/x-python",
      "name": "python",
      "nbconvert_exporter": "python",
      "pygments_lexer": "ipython3",
      "version": "3.10.6"
    }
  },
  "nbformat": 4,
  "nbformat_minor": 5
}