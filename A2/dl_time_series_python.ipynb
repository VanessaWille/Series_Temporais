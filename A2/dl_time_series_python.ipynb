{
  "cells": [
    {
      "cell_type": "markdown",
      "id": "M0HAwVJM4XF8",
      "metadata": {
        "id": "M0HAwVJM4XF8"
      },
      "source": [
        "# A2 - Série Temporais\n",
        "**Membros**:\n",
        ">\n",
        "> Gustavo Sanches\n",
        ">\n",
        "> Lucas Bryan\n",
        ">\n",
        "> Vanessa Berwanger\n",
        ">\n",
        "> Rodrigo Pintucci\n",
        ">\n",
        "> Tiago Barradas\n"
      ]
    },
    {
      "cell_type": "markdown",
      "id": "nmiyY9Cdni_s",
      "metadata": {
        "id": "nmiyY9Cdni_s"
      },
      "source": [
        "<hr>\n",
        "\n",
        "## Overview\n",
        "\n",
        "- [Resultados](#scrollTo=xTfqPpSNqycL&line=1&uniqifier=1)<br>\n",
        "\\-\\> Seção com os resultados abrangentes de nossos modelo,.\n",
        "\n",
        "- [Feedforward neural network](#scrollTo=3fd3f35d-7688-4d1e-b439-ae8022d1a3df)<br>\n",
        "\\-\\> Seção com os modelos feedforward. A diferença principal entre os modelos está na quantidade de camadas e filtros usadas. Além de testes com outros otimizadores e early stopping. O melhor modelo foi o FNN_5 que passou a usar batch normalization e dropout.\n",
        "\n",
        "- [1D convolution neural network](#scrollTo=1eb3dcf7-37d1-4e16-b3a3-6f3e776dc476)<br>\n",
        "\\-\\> Seção para o 1D CNN, e de forma similar aos modelos de feedforward, foram testados diferenças nas quantidade de camada, batch_normalization e dropout. O modelo que melhor performou utilizou de uma bloco residual, para evitar o problema de desaparecimento do gradiente.\n",
        "\n",
        "- [RNN with LSTM cell](#scrollTo=8a981e2c-ca9e-470d-983f-041d0696f64a)<br>\n",
        "\\-\\> Seção para o modelo de LSTM, foram testados três quantidades diferentes de unidades no layer do LSTM. Sendo que os que melhor resultaram foram tanto o com menor número, quanto com o maior. Também foram utilizados callbacks de early stopping.\n",
        "\n",
        "- [RNN with LSTM cell and recurrent dropout](#scrollTo=82c9c914-c4eb-4cb6-b9dd-8b0be2828eb8)<br>\n",
        "\\-\\> Seção para LSTM com recurrent dropout, testes parecidos com o da seção de LSTM, mas também utilizando recurrent dropout e dropout comum. Foram então alterados a quantidade de unidades, e valores de dropout. O modelo que melhor performou nessa seção se diferencia dos outros por ter uma camada densa a mais na saída da LSTM, aumentando o número de parâmetros.\n",
        "\n",
        "- [Stacked RNN layers](#scrollTo=82c8de33-0a2c-42c1-8f70-cc8c9763bdbc)<br>\n",
        "\\-\\> Seção para Stacked RNNs, foram testadas diferentes quantidades de camadas LSTM, de unidades e valores de dropout tanto recorrente quanto comum. As performances foram bastante parecidas, sendo a melhor com 3 camadas LSTM (16, 8 e 4 unidades), com dropout comum (0.25, 0.5 e 0.25) e recorrente (0.25 nas duas primeiras camadas).\n",
        "\n",
        "- [Bidirectional RNNs](#scrollTo=G0RUODmSHbmj&line=1&uniqifier=1)<br>\n",
        "\\-\\> Apenas um modelo foi testado para esse tipo de rede recorrente, seguindo o código de \"Deep Learning with python, second edition. Chapter 10\".\n",
        "\n",
        "- [Transformer](#scrollTo=diyU4Gh3OsJq)<br>\n",
        "\\-\\> Seção voltada para testes com o transformer, foram testados no total 17 modelos, um modelo base, e 16 utilizando um grid search. O modelo que melhor performou foi utilizando os parâmetros encontrados pelo grid search, com dropout nos layers de atenção e de feedfoward, batch normalization, bloco residual e early stopping.\n",
        "\n",
        "- [Resumo dos modelos](#scrollTo=wa0v2-qLybRf)<br>\n",
        "\\-\\> Mais informações sobre as arquiteturas dos modelos.\n",
        "\n",
        "Por fim, vale ressaltar que em diversos modelos foram encontrados indícios de overfitting (visualizações e acompanhamento dos valores de treinamento mostravam isso), fator que também pode ser observado na tabela de resultados, na qual os modelos com melhor performance tendem a ter mais regularizações."
      ]
    },
    {
      "cell_type": "markdown",
      "id": "xTfqPpSNqycL",
      "metadata": {
        "id": "xTfqPpSNqycL"
      },
      "source": [
        "<hr>\n",
        "\n",
        "## Resultados"
      ]
    },
    {
      "cell_type": "markdown",
      "id": "-XhBI46FgQrj",
      "metadata": {
        "id": "-XhBI46FgQrj"
      },
      "source": [
        "|  Configuração  | Otimizador  | Loss  | Epochs  | Patience | Test MAE|\n",
        "|---|---|---|---|---|---|\n",
        "|  FNN_1 | rmsprop  | mse  | 10  | -  |  13.47 |   \n",
        "|  FNN_2   | adam  | mse  | 10  | -  | 15.84  |   \n",
        "|  FNN_3   | adam  |  mse | 10  | -  | 11.26  |\n",
        "|  FNN_4   | adam  | mse  | 50  | 3  | 3.79  |   \n",
        "|  FNN_5   | adam  |  mse | 50  | 5  |  <font color='green'>3.72</font>  |\n",
        "|  1D_CNN_1 | rmsprop  | mse  | 10  | -  |  14.73 |   \n",
        "|  1D_CNN_2   | adam  | mse  | 10  | -  | 10.80  |   \n",
        "|  1D_CNN_3   | adam |  mse | 10  | -  | 10.80  |\n",
        "|  1D_CNN_4   | adam |  mse | 10  | -  | <font color='green'>4.10</font>  |\n",
        "|  RNN_1 | rmsprop  | mse  | 10  | -  |  2.54 |   \n",
        "|  RNN_2   | adam  | mse  | 20  | -  | 2.56  |   \n",
        "|  RNN_3   | adam  |  mse | 20  | 3  | 2.58  |\n",
        "|  RNN_4   | adam  |  mse | 20  | 4  |  <font color='green'>2.54</font>  |  \n",
        "|  RNN_DROP_1 | rmsprop  | mse  | 30  | 2  |  2.55 |   \n",
        "|  RNN_DROP_2   | adam  | mse  | 30  | 5  | 2.61  |   \n",
        "|  RNN_DROP_3   | adam  |  mse | 30  | 2  | 2.54  |\n",
        "| RNN_DROP_4   | adam  |  mse | 30  | 3  |  <font color='green'>2.45</font> |\n",
        "|  RNN_STACKED_1 | rmsprop  | mse  | 50  | -  |  3.13 |   \n",
        "|  RNN_STACKED_2   | adam  | mse  | 10  | -  | 2.79  |   \n",
        "|  RNN_STACKED_3   | adam  |  mse | 30  | 5  | 7.86  |   \n",
        "|  RNN_STACKED_4   | adam  | mse  | 30  | 5  | 2.71  |   \n",
        "|  RNN_STACKED_5   | adam  |  mse | 30  | 2  | 2.72 |\n",
        "|  RNN_STACKED_6   | adam  | mse  | 30  | 2 | 2.78  |\n",
        "|  RNN_STACKED_7   | adam  | mse  | 30  | 2  |  <font color='green'>2.70</font>  |\n",
        "|  RNN_BIDIR_1 | rmsprop  | mse  | 10  | -  |   <font color='green'>2.69</font> |  \n",
        "|  Transformer_1 | adam  | mse  | 10  | -  |  3.83 |  \n",
        "|  Best_tranformer | adam  | mse  | 20  | 3  | <font color='green'>2.52</font>  |  "
      ]
    },
    {
      "cell_type": "markdown",
      "id": "dc28e885-325e-43d6-a24d-09acebf72234",
      "metadata": {
        "id": "dc28e885-325e-43d6-a24d-09acebf72234"
      },
      "source": [
        "## References"
      ]
    },
    {
      "cell_type": "markdown",
      "id": "8d7f8ebe-43f9-48d3-b6d2-eebb87702b31",
      "metadata": {
        "id": "8d7f8ebe-43f9-48d3-b6d2-eebb87702b31"
      },
      "source": [
        "* Deep Learning with python, second edition. Chapter 10."
      ]
    },
    {
      "cell_type": "markdown",
      "id": "bbd07e07-675e-4047-bdb8-e543d8b23e34",
      "metadata": {
        "id": "bbd07e07-675e-4047-bdb8-e543d8b23e34"
      },
      "source": [
        "## Install libraries"
      ]
    },
    {
      "cell_type": "code",
      "execution_count": null,
      "id": "7623941e-b49e-4b9c-9a05-b06202d204bb",
      "metadata": {
        "id": "7623941e-b49e-4b9c-9a05-b06202d204bb"
      },
      "outputs": [],
      "source": [
        "!pip3 install -q tensorflow keras"
      ]
    },
    {
      "cell_type": "code",
      "execution_count": null,
      "id": "j0oNgmCdkH0B",
      "metadata": {
        "colab": {
          "base_uri": "https://localhost:8080/"
        },
        "id": "j0oNgmCdkH0B",
        "outputId": "7a1de6f2-fe50-46b7-e9e2-fa77cecdc50c"
      },
      "outputs": [
        {
          "name": "stdout",
          "output_type": "stream",
          "text": [
            "Mounted at /content/drive\n"
          ]
        }
      ],
      "source": [
        "# from google.colab import drive\n",
        "# drive.mount('/content/drive')\n",
        "# PATH = r'/content/drive/MyDrive/Colab-Notebooks/jena_climate_2009_2016.csv'\n",
        "# PATH = r'/content/drive/MyDrive/Colab-Notebooks/jena_climate_2009_2016.csv'"
      ]
    },
    {
      "cell_type": "code",
      "execution_count": null,
      "id": "xNi33wZXkVPf",
      "metadata": {
        "colab": {
          "base_uri": "https://localhost:8080/"
        },
        "id": "xNi33wZXkVPf",
        "outputId": "da793e0e-2a6f-465f-e46b-5021693ad081"
      },
      "outputs": [
        {
          "name": "stdout",
          "output_type": "stream",
          "text": [
            "-rw------- 1 root root 43153572 Dec 29  2020 //content/drive/MyDrive/Colab-Notebooks/jena_climate_2009_2016.csv\n"
          ]
        }
      ],
      "source": [
        "# !ls -l '/content/drive/MyDrive/Colab Notebooks/jena_climate_2009_2016.csv'\n",
        "# !ls -l '//content/drive/MyDrive/Colab-Notebooks/jena_climate_2009_2016.csv'"
      ]
    },
    {
      "cell_type": "code",
      "execution_count": null,
      "id": "a-7kK39_Nn7g",
      "metadata": {
        "id": "a-7kK39_Nn7g"
      },
      "outputs": [],
      "source": [
        "from tensorflow import keras\n",
        "from keras import layers"
      ]
    },
    {
      "cell_type": "markdown",
      "id": "58330182-e029-40b8-88ca-acc21b23b732",
      "metadata": {
        "id": "58330182-e029-40b8-88ca-acc21b23b732"
      },
      "source": [
        "## Data"
      ]
    },
    {
      "cell_type": "markdown",
      "id": "93f678b8-72ab-4d1c-98d0-b19b4fa09774",
      "metadata": {
        "id": "93f678b8-72ab-4d1c-98d0-b19b4fa09774"
      },
      "source": [
        "### Download"
      ]
    },
    {
      "cell_type": "code",
      "execution_count": null,
      "id": "qA8CBmdNAmQW",
      "metadata": {
        "id": "qA8CBmdNAmQW"
      },
      "outputs": [],
      "source": [
        "#!wget https://s3.amazonaws.com/keras-datasets/jena_climate_2009_2016.csv.zip\n",
        "#!unzip -y jena_climate_2009_2016.csv.zip"
      ]
    },
    {
      "cell_type": "markdown",
      "id": "2f6f3ed6-5b23-4c63-b425-c0bee72558b4",
      "metadata": {
        "id": "2f6f3ed6-5b23-4c63-b425-c0bee72558b4"
      },
      "source": [
        "### Load"
      ]
    },
    {
      "cell_type": "markdown",
      "id": "4a69dced-ff92-4ae3-bf09-586a676289e7",
      "metadata": {
        "id": "4a69dced-ff92-4ae3-bf09-586a676289e7"
      },
      "source": [
        "Load data:"
      ]
    },
    {
      "cell_type": "code",
      "execution_count": null,
      "id": "84ee15f0-fe5f-4f62-9af0-c0e430aeb206",
      "metadata": {
        "colab": {
          "base_uri": "https://localhost:8080/"
        },
        "id": "84ee15f0-fe5f-4f62-9af0-c0e430aeb206",
        "outputId": "438119f0-5526-49f2-a1f3-6d6a6f571909"
      },
      "outputs": [
        {
          "name": "stdout",
          "output_type": "stream",
          "text": [
            "['\"Date Time\"', '\"p (mbar)\"', '\"T (degC)\"', '\"Tpot (K)\"', '\"Tdew (degC)\"', '\"rh (%)\"', '\"VPmax (mbar)\"', '\"VPact (mbar)\"', '\"VPdef (mbar)\"', '\"sh (g/kg)\"', '\"H2OC (mmol/mol)\"', '\"rho (g/m**3)\"', '\"wv (m/s)\"', '\"max. wv (m/s)\"', '\"wd (deg)\"']\n",
            "420451\n"
          ]
        }
      ],
      "source": [
        "import os\n",
        "fname = os.path.join(\"../data/jena_climate_2009_2016.csv\")\n",
        "with open(fname) as f:\n",
        "    data = f.read()\n",
        "lines = data.split(\"\\n\")\n",
        "header = lines[0].split(\",\")\n",
        "lines = lines[1:]\n",
        "print(header)\n",
        "print(len(lines))"
      ]
    },
    {
      "cell_type": "markdown",
      "id": "72912feb-d0aa-4354-a03c-f572d5cb25f0",
      "metadata": {
        "id": "72912feb-d0aa-4354-a03c-f572d5cb25f0"
      },
      "source": [
        "In this dataset, 14 different quantities (such as temperature, pressure, humidity, and wind direction) were recorded every 10 minutes over several years. The original data goes back to 2003, but the subset of the data we’ll download is limited to 2009–2016."
      ]
    },
    {
      "cell_type": "code",
      "execution_count": null,
      "id": "e24cc1bb-bcbf-4a81-be0e-2f921ee49b6c",
      "metadata": {
        "id": "e24cc1bb-bcbf-4a81-be0e-2f921ee49b6c"
      },
      "outputs": [],
      "source": [
        "import numpy as np\n",
        "temperature = np.zeros((len(lines),))\n",
        "raw_data = np.zeros((len(lines), len(header) - 1))\n",
        "for i, line in enumerate(lines):\n",
        "    values = [float(x) for x in line.split(\",\")[1:]]\n",
        "    temperature[i] = values[1]\n",
        "    raw_data[i, :] = values[:]"
      ]
    },
    {
      "cell_type": "markdown",
      "id": "2c921283-9e5c-4ffd-af6a-d709321a6bec",
      "metadata": {
        "id": "2c921283-9e5c-4ffd-af6a-d709321a6bec"
      },
      "source": [
        "`temperature` holds the observed values of the data that we want to predict and `raw_data` holds all the numeric variables, including temperature."
      ]
    },
    {
      "cell_type": "markdown",
      "id": "18f8d50d-fcff-42ab-be60-5041d3a5a2b4",
      "metadata": {
        "id": "18f8d50d-fcff-42ab-be60-5041d3a5a2b4"
      },
      "source": [
        "### Plot the data"
      ]
    },
    {
      "cell_type": "markdown",
      "id": "b637858b-2b4d-4bb5-9e46-a89ddf805694",
      "metadata": {
        "id": "b637858b-2b4d-4bb5-9e46-a89ddf805694"
      },
      "source": [
        "Plot the temperature over time:"
      ]
    },
    {
      "cell_type": "code",
      "execution_count": null,
      "id": "4cb7010c-fef2-45e9-85db-a9fc6680a452",
      "metadata": {
        "colab": {
          "base_uri": "https://localhost:8080/",
          "height": 451
        },
        "id": "4cb7010c-fef2-45e9-85db-a9fc6680a452",
        "outputId": "b3a439ca-0136-4f02-e04c-2ec853ffb553"
      },
      "outputs": [
        {
          "data": {
            "text/plain": [
              "[<matplotlib.lines.Line2D at 0x798200927580>]"
            ]
          },
          "execution_count": 10,
          "metadata": {},
          "output_type": "execute_result"
        },
        {
          "data": {
            "image/png": "[encoded data removed]",
            "text/plain": [
              "<Figure size 640x480 with 1 Axes>"
            ]
          },
          "metadata": {},
          "output_type": "display_data"
        }
      ],
      "source": [
        "from matplotlib import pyplot as plt\n",
        "plt.plot(range(len(temperature)), temperature)"
      ]
    },
    {
      "cell_type": "markdown",
      "id": "47c1086a-191c-41eb-ac91-7f528961d373",
      "metadata": {
        "id": "47c1086a-191c-41eb-ac91-7f528961d373"
      },
      "source": [
        "First 10 days of temperature data. 24 * 6 = 144 data points per day."
      ]
    },
    {
      "cell_type": "code",
      "execution_count": null,
      "id": "19e92b98-9e53-4939-98ae-f0ac854fcbef",
      "metadata": {
        "colab": {
          "base_uri": "https://localhost:8080/",
          "height": 447
        },
        "id": "19e92b98-9e53-4939-98ae-f0ac854fcbef",
        "outputId": "a33c4842-1eb7-45b6-a444-829699f6d900"
      },
      "outputs": [
        {
          "data": {
            "text/plain": [
              "[<matplotlib.lines.Line2D at 0x79816b7be7a0>]"
            ]
          },
          "execution_count": 11,
          "metadata": {},
          "output_type": "execute_result"
        },
        {
          "data": {
            "image/png": "[encoded data removed]",
            "text/plain": [
              "<Figure size 640x480 with 1 Axes>"
            ]
          },
          "metadata": {},
          "output_type": "display_data"
        }
      ],
      "source": [
        "plt.plot(range(1440), temperature[:1440])"
      ]
    },
    {
      "cell_type": "markdown",
      "id": "51bdecd1-d6b2-4690-a293-449af6517e8d",
      "metadata": {
        "id": "51bdecd1-d6b2-4690-a293-449af6517e8d"
      },
      "source": [
        "## Task"
      ]
    },
    {
      "cell_type": "markdown",
      "id": "59d4ea17-1799-449b-9326-b984837709f4",
      "metadata": {
        "id": "59d4ea17-1799-449b-9326-b984837709f4"
      },
      "source": [
        "Given data covering the previous five days and sampled once per hour, can we predict the temperature in 24 hours?"
      ]
    },
    {
      "cell_type": "markdown",
      "id": "04ca5700-9465-432c-8686-0c66fb84a738",
      "metadata": {
        "id": "04ca5700-9465-432c-8686-0c66fb84a738"
      },
      "source": [
        "This notebook contains sample code for:\n",
        "\n",
        "* Feedforward neural network\n",
        "* 1D convolution neural network\n",
        "* 3 variations of recurring neural network"
      ]
    },
    {
      "cell_type": "markdown",
      "id": "3a1f2c46-a60c-4943-a32e-3edaf375ab1b",
      "metadata": {
        "id": "3a1f2c46-a60c-4943-a32e-3edaf375ab1b"
      },
      "source": [
        "Optimize the three classes of models above to give the best MAE. In addtion, use a transformer to compete in terms of MAE."
      ]
    },
    {
      "cell_type": "markdown",
      "id": "5109b55b-2e4c-45aa-b355-a20ef52de0c3",
      "metadata": {
        "id": "5109b55b-2e4c-45aa-b355-a20ef52de0c3"
      },
      "source": [
        "This [page](https://keras.io/examples/timeseries/timeseries_classification_transformer/) contains a reference of using a Transformer for time-series data."
      ]
    },
    {
      "cell_type": "markdown",
      "id": "ba0f3234-1450-484f-ae06-f2d877b2229c",
      "metadata": {
        "id": "ba0f3234-1450-484f-ae06-f2d877b2229c"
      },
      "source": [
        "The sample code below is a starting point. Your job is to extract the most value out of the models mentioned above. You are free to go beyond what is requested here and try out different models if you like."
      ]
    },
    {
      "cell_type": "markdown",
      "id": "54843bc0-3a9c-4ac9-828f-a0f1c095147c",
      "metadata": {
        "id": "54843bc0-3a9c-4ac9-828f-a0f1c095147c"
      },
      "source": [
        "Return a `.ipynb` containing the code (one section per model) and start the document with a summary of the models you tried and their respective MAEs in a table."
      ]
    },
    {
      "cell_type": "markdown",
      "id": "2fd0482e-34b8-4ad1-848a-ef1f50dad54a",
      "metadata": {
        "id": "2fd0482e-34b8-4ad1-848a-ef1f50dad54a"
      },
      "source": [
        "**Deadline**: 05/12"
      ]
    },
    {
      "cell_type": "markdown",
      "id": "6660ec55-63b3-4382-b677-86dd5856e039",
      "metadata": {
        "id": "6660ec55-63b3-4382-b677-86dd5856e039"
      },
      "source": [
        "### Prepare the data"
      ]
    },
    {
      "cell_type": "markdown",
      "id": "2b619474-48ea-492d-a295-e925e76d9534",
      "metadata": {
        "id": "2b619474-48ea-492d-a295-e925e76d9534"
      },
      "source": [
        "Decide the number of data points that will be assigned to training, validation and test sets."
      ]
    },
    {
      "cell_type": "code",
      "execution_count": null,
      "id": "c6e01267-4d10-4c52-b4ef-f52abe5417d5",
      "metadata": {
        "colab": {
          "base_uri": "https://localhost:8080/"
        },
        "id": "c6e01267-4d10-4c52-b4ef-f52abe5417d5",
        "outputId": "7b5ae63d-d30f-4a43-caa2-8b24ec28c69a"
      },
      "outputs": [
        {
          "name": "stdout",
          "output_type": "stream",
          "text": [
            "num_train_samples: 210225\n",
            "num_val_samples: 105112\n",
            "num_test_samples: 105114\n"
          ]
        }
      ],
      "source": [
        "num_train_samples = int(0.5 * len(raw_data))\n",
        "num_val_samples = int(0.25 * len(raw_data))\n",
        "num_test_samples = len(raw_data) - num_train_samples - num_val_samples\n",
        "print(\"num_train_samples:\", num_train_samples)\n",
        "print(\"num_val_samples:\", num_val_samples)\n",
        "print(\"num_test_samples:\", num_test_samples)"
      ]
    },
    {
      "cell_type": "markdown",
      "id": "65c64ef9-8f73-4c1c-ae66-382c3ce46347",
      "metadata": {
        "id": "65c64ef9-8f73-4c1c-ae66-382c3ce46347"
      },
      "source": [
        "Normalize the data."
      ]
    },
    {
      "cell_type": "code",
      "execution_count": null,
      "id": "857a20b9-2e3d-412c-ba40-1d92bbb7c7bd",
      "metadata": {
        "id": "857a20b9-2e3d-412c-ba40-1d92bbb7c7bd"
      },
      "outputs": [],
      "source": [
        "mean = raw_data[:num_train_samples].mean(axis=0)\n",
        "raw_data -= mean\n",
        "std = raw_data[:num_train_samples].std(axis=0)\n",
        "raw_data /= std"
      ]
    },
    {
      "cell_type": "markdown",
      "id": "a1422f9b-a270-4d5c-8322-58eb6d59ec78",
      "metadata": {
        "id": "a1422f9b-a270-4d5c-8322-58eb6d59ec78"
      },
      "source": [
        "Create `tensorflow.data.Dataset` for training, validation and test splits:"
      ]
    },
    {
      "cell_type": "code",
      "execution_count": null,
      "id": "9d0854d8-9b85-440c-8ee1-f48f27dd75af",
      "metadata": {
        "id": "9d0854d8-9b85-440c-8ee1-f48f27dd75af"
      },
      "outputs": [],
      "source": [
        "import keras\n",
        "\n",
        "sampling_rate = 6\n",
        "sequence_length = 120 # 5 days sampled once an hour: 5*24 = 120\n",
        "delay = sampling_rate * (sequence_length + 24 - 1)\n",
        "batch_size = 256\n",
        "\n",
        "train_dataset = keras.utils.timeseries_dataset_from_array(\n",
        "    raw_data[:-delay],\n",
        "    targets=temperature[delay:],\n",
        "    sampling_rate=sampling_rate,\n",
        "    sequence_length=sequence_length,\n",
        "    shuffle=True,\n",
        "    batch_size=batch_size,\n",
        "    start_index=0,\n",
        "    end_index=num_train_samples\n",
        ")\n",
        "\n",
        "val_dataset = keras.utils.timeseries_dataset_from_array(\n",
        "    raw_data[:-delay],\n",
        "    targets=temperature[delay:],\n",
        "    sampling_rate=sampling_rate,\n",
        "    sequence_length=sequence_length,\n",
        "    shuffle=True,\n",
        "    batch_size=batch_size,\n",
        "    start_index=num_train_samples,\n",
        "    end_index=num_train_samples + num_val_samples\n",
        ")\n",
        "\n",
        "test_dataset = keras.utils.timeseries_dataset_from_array(\n",
        "    raw_data[:-delay],\n",
        "    targets=temperature[delay:],\n",
        "    sampling_rate=sampling_rate,\n",
        "    sequence_length=sequence_length,\n",
        "    shuffle=True,\n",
        "    batch_size=batch_size,\n",
        "    start_index=num_train_samples + num_val_samples\n",
        ")"
      ]
    },
    {
      "cell_type": "markdown",
      "id": "01b99491-598c-4e5c-bdad-09e278e6f350",
      "metadata": {
        "id": "01b99491-598c-4e5c-bdad-09e278e6f350"
      },
      "source": [
        "Check the input dimensions:"
      ]
    },
    {
      "cell_type": "code",
      "execution_count": null,
      "id": "e1b85225-c120-4f8c-96c9-8480b3981a09",
      "metadata": {
        "colab": {
          "base_uri": "https://localhost:8080/"
        },
        "id": "e1b85225-c120-4f8c-96c9-8480b3981a09",
        "outputId": "31485936-d2bd-46e3-8755-977500a5c2c3"
      },
      "outputs": [
        {
          "name": "stdout",
          "output_type": "stream",
          "text": [
            "samples shape: (256, 120, 14)\n",
            "targets shape: (256,)\n"
          ]
        }
      ],
      "source": [
        "for samples, targets in train_dataset:\n",
        "    print(\"samples shape:\", samples.shape)\n",
        "    print(\"targets shape:\", targets.shape)\n",
        "    break"
      ]
    },
    {
      "cell_type": "markdown",
      "id": "89862622-b676-4f72-8eaf-0b2d9da9c07f",
      "metadata": {
        "id": "89862622-b676-4f72-8eaf-0b2d9da9c07f"
      },
      "source": [
        "Use naive model as baseline:"
      ]
    },
    {
      "cell_type": "code",
      "execution_count": null,
      "id": "9559159b-2ce0-46d3-bde4-45207a5472d4",
      "metadata": {
        "colab": {
          "base_uri": "https://localhost:8080/"
        },
        "id": "9559159b-2ce0-46d3-bde4-45207a5472d4",
        "outputId": "4bfde453-09ee-45fd-f1a5-c99b887d9b8a"
      },
      "outputs": [
        {
          "name": "stdout",
          "output_type": "stream",
          "text": [
            "Validation MAE: 2.44\n",
            "Test MAE: 2.62\n"
          ]
        }
      ],
      "source": [
        "def evaluate_naive_method(dataset):\n",
        "    total_abs_err = 0.\n",
        "    samples_seen = 0\n",
        "    for samples, targets in dataset:\n",
        "        preds = samples[:, -1, 1] * std[1] + mean[1]\n",
        "        total_abs_err += np.sum(np.abs(preds - targets))\n",
        "        samples_seen += samples.shape[0]\n",
        "    return total_abs_err / samples_seen\n",
        "\n",
        "\n",
        "print(f\"Validation MAE: {evaluate_naive_method(val_dataset):.2f}\")\n",
        "print(f\"Test MAE: {evaluate_naive_method(test_dataset):.2f}\")"
      ]
    },
    {
      "cell_type": "markdown",
      "id": "3fd3f35d-7688-4d1e-b439-ae8022d1a3df",
      "metadata": {
        "id": "3fd3f35d-7688-4d1e-b439-ae8022d1a3df"
      },
      "source": [
        "## Feedforward neural network"
      ]
    },
    {
      "cell_type": "markdown",
      "id": "m4XmU88m7TNh",
      "metadata": {
        "id": "m4XmU88m7TNh"
      },
      "source": [
        "### Configuração 1"
      ]
    },
    {
      "cell_type": "code",
      "execution_count": null,
      "id": "19284afa-3a1a-4321-b795-3edc5033c445",
      "metadata": {
        "id": "19284afa-3a1a-4321-b795-3edc5033c445"
      },
      "outputs": [],
      "source": [
        "from tensorflow import keras\n",
        "from keras import layers\n",
        "\n",
        "inputs = keras.Input(shape=(sequence_length, raw_data.shape[-1]))\n",
        "x = layers.Flatten()(inputs)\n",
        "x = layers.Dense(16, activation=\"relu\")(x)\n",
        "outputs = layers.Dense(1)(x)#\n",
        "model = keras.Model(inputs, outputs)"
      ]
    },
    {
      "cell_type": "code",
      "execution_count": null,
      "id": "6bae635d-2baf-4307-80d5-b8ec6140ea0f",
      "metadata": {
        "colab": {
          "base_uri": "https://localhost:8080/"
        },
        "id": "6bae635d-2baf-4307-80d5-b8ec6140ea0f",
        "outputId": "481cc6bc-a152-48ba-f3e5-31209b692f12"
      },
      "outputs": [
        {
          "name": "stdout",
          "output_type": "stream",
          "text": [
            "Model: \"model\"\n",
            "_________________________________________________________________\n",
            " Layer (type)                Output Shape              Param #   \n",
            "=================================================================\n",
            " input_1 (InputLayer)        [(None, 120, 14)]         0         \n",
            "                                                                 \n",
            " flatten (Flatten)           (None, 1680)              0         \n",
            "                                                                 \n",
            " dense (Dense)               (None, 16)                26896     \n",
            "                                                                 \n",
            " dense_1 (Dense)             (None, 1)                 17        \n",
            "                                                                 \n",
            "=================================================================\n",
            "Total params: 26913 (105.13 KB)\n",
            "Trainable params: 26913 (105.13 KB)\n",
            "Non-trainable params: 0 (0.00 Byte)\n",
            "_________________________________________________________________\n"
          ]
        }
      ],
      "source": [
        "model.summary()"
      ]
    },
    {
      "cell_type": "code",
      "execution_count": null,
      "id": "08730dea-e2e3-4ff5-aa3c-75bf74e5c76c",
      "metadata": {
        "colab": {
          "base_uri": "https://localhost:8080/"
        },
        "id": "08730dea-e2e3-4ff5-aa3c-75bf74e5c76c",
        "outputId": "d4a8878f-9c99-438a-8af0-7828e17ccb0f"
      },
      "outputs": [
        {
          "name": "stdout",
          "output_type": "stream",
          "text": [
            "Epoch 1/10\n",
            "819/819 [==============================] - 46s 50ms/step - loss: 12.0256 - mae: 2.6906 - val_loss: 10.7113 - val_mae: 2.5768\n",
            "Epoch 2/10\n",
            "819/819 [==============================] - 40s 48ms/step - loss: 8.9647 - mae: 2.3515 - val_loss: 11.0008 - val_mae: 2.6116\n",
            "Epoch 3/10\n",
            "819/819 [==============================] - 41s 50ms/step - loss: 8.2628 - mae: 2.2554 - val_loss: 10.3286 - val_mae: 2.5330\n",
            "Epoch 4/10\n",
            "819/819 [==============================] - 38s 47ms/step - loss: 7.8205 - mae: 2.1960 - val_loss: 11.7737 - val_mae: 2.7169\n",
            "Epoch 5/10\n",
            "819/819 [==============================] - 39s 48ms/step - loss: 7.5290 - mae: 2.1556 - val_loss: 10.6396 - val_mae: 2.5735\n",
            "Epoch 6/10\n",
            "819/819 [==============================] - 47s 58ms/step - loss: 7.2912 - mae: 2.1249 - val_loss: 11.4445 - val_mae: 2.6826\n",
            "Epoch 7/10\n",
            "819/819 [==============================] - 47s 57ms/step - loss: 7.0883 - mae: 2.0935 - val_loss: 10.9756 - val_mae: 2.6203\n",
            "Epoch 8/10\n",
            "819/819 [==============================] - 40s 49ms/step - loss: 6.9311 - mae: 2.0739 - val_loss: 10.9805 - val_mae: 2.6216\n",
            "Epoch 9/10\n",
            "819/819 [==============================] - 38s 47ms/step - loss: 6.7888 - mae: 2.0518 - val_loss: 10.8637 - val_mae: 2.6075\n",
            "Epoch 10/10\n",
            "819/819 [==============================] - 48s 58ms/step - loss: 6.6651 - mae: 2.0345 - val_loss: 11.4640 - val_mae: 2.6766\n",
            "405/405 [==============================] - 13s 33ms/step - loss: 18968.7559 - mae: 13.4693\n",
            "Test MAE: 13.47\n"
          ]
        }
      ],
      "source": [
        "model.compile(optimizer=\"rmsprop\", loss=\"mse\", metrics=[\"mae\"])\n",
        "\n",
        "history = model.fit(\n",
        "    train_dataset,\n",
        "    epochs=10,\n",
        "    validation_data=val_dataset,\n",
        ")\n",
        "\n",
        "print(f\"Test MAE: {model.evaluate(test_dataset)[1]:.2f}\")"
      ]
    },
    {
      "cell_type": "code",
      "execution_count": null,
      "id": "Yi1B67uosHHP",
      "metadata": {
        "id": "Yi1B67uosHHP"
      },
      "outputs": [],
      "source": [
        "del model"
      ]
    },
    {
      "cell_type": "markdown",
      "id": "SyDhIIvw7bCn",
      "metadata": {
        "id": "SyDhIIvw7bCn"
      },
      "source": [
        "### Configuração 2"
      ]
    },
    {
      "cell_type": "code",
      "execution_count": null,
      "id": "zkDMeZ0u3Ds0",
      "metadata": {
        "colab": {
          "base_uri": "https://localhost:8080/"
        },
        "id": "zkDMeZ0u3Ds0",
        "outputId": "dcda7392-647d-4f83-9472-a0007946e528"
      },
      "outputs": [
        {
          "name": "stdout",
          "output_type": "stream",
          "text": [
            "Model: \"model_4\"\n",
            "_________________________________________________________________\n",
            " Layer (type)                Output Shape              Param #   \n",
            "=================================================================\n",
            " input_5 (InputLayer)        [(None, 120, 14)]         0         \n",
            "                                                                 \n",
            " flatten_4 (Flatten)         (None, 1680)              0         \n",
            "                                                                 \n",
            " dense_13 (Dense)            (None, 16)                26896     \n",
            "                                                                 \n",
            " dense_14 (Dense)            (None, 8)                 136       \n",
            "                                                                 \n",
            " dense_15 (Dense)            (None, 1)                 9         \n",
            "                                                                 \n",
            "=================================================================\n",
            "Total params: 27041 (105.63 KB)\n",
            "Trainable params: 27041 (105.63 KB)\n",
            "Non-trainable params: 0 (0.00 Byte)\n",
            "_________________________________________________________________\n"
          ]
        }
      ],
      "source": [
        "inputs = keras.Input(shape=(sequence_length, raw_data.shape[-1]))\n",
        "x = layers.Flatten()(inputs)\n",
        "x = layers.Dense(16, activation=\"relu\")(x)\n",
        "x = layers.Dense(8, activation=\"relu\")(x)\n",
        "outputs = layers.Dense(1)(x)\n",
        "model = keras.Model(inputs, outputs)\n",
        "\n",
        "model.summary()"
      ]
    },
    {
      "cell_type": "code",
      "execution_count": null,
      "id": "pSpJgvhH3KMl",
      "metadata": {
        "colab": {
          "base_uri": "https://localhost:8080/"
        },
        "id": "pSpJgvhH3KMl",
        "outputId": "30e097af-ce11-40f3-8297-c2b6d4cfca99"
      },
      "outputs": [
        {
          "name": "stdout",
          "output_type": "stream",
          "text": [
            "Epoch 1/10\n",
            "819/819 [==============================] - 49s 58ms/step - loss: 10.7729 - mae: 2.5168 - val_loss: 11.3161 - val_mae: 2.6472\n",
            "Epoch 2/10\n",
            "819/819 [==============================] - 48s 59ms/step - loss: 7.5164 - mae: 2.1532 - val_loss: 11.6824 - val_mae: 2.7042\n",
            "Epoch 3/10\n",
            "819/819 [==============================] - 48s 59ms/step - loss: 6.8652 - mae: 2.0586 - val_loss: 12.4325 - val_mae: 2.7905\n",
            "Epoch 4/10\n",
            "819/819 [==============================] - 40s 48ms/step - loss: 6.4904 - mae: 2.0031 - val_loss: 11.2849 - val_mae: 2.6434\n",
            "Epoch 5/10\n",
            "819/819 [==============================] - 40s 49ms/step - loss: 6.1899 - mae: 1.9564 - val_loss: 11.6700 - val_mae: 2.6844\n",
            "Epoch 6/10\n",
            "819/819 [==============================] - 40s 48ms/step - loss: 6.0477 - mae: 1.9330 - val_loss: 12.5858 - val_mae: 2.7869\n",
            "Epoch 7/10\n",
            "819/819 [==============================] - 40s 49ms/step - loss: 5.9337 - mae: 1.9146 - val_loss: 12.1108 - val_mae: 2.7217\n",
            "Epoch 8/10\n",
            "819/819 [==============================] - 39s 47ms/step - loss: 5.7738 - mae: 1.8894 - val_loss: 12.4241 - val_mae: 2.7629\n",
            "Epoch 9/10\n",
            "819/819 [==============================] - 49s 60ms/step - loss: 5.6247 - mae: 1.8666 - val_loss: 12.3966 - val_mae: 2.7644\n",
            "Epoch 10/10\n",
            "819/819 [==============================] - 47s 57ms/step - loss: 5.5792 - mae: 1.8594 - val_loss: 13.1193 - val_mae: 2.8437\n",
            "405/405 [==============================] - 12s 30ms/step - loss: 28504.7207 - mae: 15.8351\n",
            "Test MAE: 15.84\n"
          ]
        }
      ],
      "source": [
        "opt = keras.optimizers.Adam(learning_rate=0.01)\n",
        "\n",
        "model.compile(optimizer=opt, loss=\"mse\", metrics=[\"mae\"])\n",
        "\n",
        "history = model.fit(\n",
        "    train_dataset,\n",
        "    epochs=10,\n",
        "    validation_data=val_dataset,\n",
        ")\n",
        "\n",
        "print(f\"Test MAE: {model.evaluate(test_dataset)[1]:.2f}\")"
      ]
    },
    {
      "cell_type": "code",
      "execution_count": null,
      "id": "VjUMSw3V5qtz",
      "metadata": {
        "id": "VjUMSw3V5qtz"
      },
      "outputs": [],
      "source": [
        "del model"
      ]
    },
    {
      "cell_type": "markdown",
      "id": "7LAEIfe17dhP",
      "metadata": {
        "id": "7LAEIfe17dhP"
      },
      "source": [
        "### Configuração 3"
      ]
    },
    {
      "cell_type": "code",
      "execution_count": null,
      "id": "YI3iMj_N786Q",
      "metadata": {
        "id": "YI3iMj_N786Q"
      },
      "outputs": [],
      "source": [
        "inputs = keras.Input(shape=(sequence_length, raw_data.shape[-1]))\n",
        "x = layers.Flatten()(inputs)\n",
        "x = layers.Dense(256, activation=\"relu\")(x)\n",
        "x = layers.Dense(64, activation=\"relu\")(x)\n",
        "x = layers.Dense(16, activation=\"relu\")(x)\n",
        "outputs = layers.Dense(1)(x)\n",
        "model = keras.Model(inputs, outputs)"
      ]
    },
    {
      "cell_type": "code",
      "execution_count": null,
      "id": "CsNty94b72Xa",
      "metadata": {
        "colab": {
          "base_uri": "https://localhost:8080/"
        },
        "id": "CsNty94b72Xa",
        "outputId": "3fb5c48c-fdce-45e5-da20-03916c9bfba6"
      },
      "outputs": [
        {
          "name": "stdout",
          "output_type": "stream",
          "text": [
            "Epoch 1/10\n",
            "819/819 [==============================] - 46s 48ms/step - loss: 10.9692 - mae: 2.4099 - val_loss: 12.0636 - val_mae: 2.7100\n",
            "Epoch 2/10\n",
            "819/819 [==============================] - 43s 52ms/step - loss: 4.1023 - mae: 1.5620 - val_loss: 12.8011 - val_mae: 2.8144\n",
            "Epoch 3/10\n",
            "819/819 [==============================] - 40s 48ms/step - loss: 2.4336 - mae: 1.2088 - val_loss: 14.1815 - val_mae: 2.9354\n",
            "Epoch 4/10\n",
            "819/819 [==============================] - 49s 59ms/step - loss: 1.7744 - mae: 1.0359 - val_loss: 13.2820 - val_mae: 2.8598\n",
            "Epoch 5/10\n",
            "819/819 [==============================] - 49s 59ms/step - loss: 1.4306 - mae: 0.9300 - val_loss: 13.7577 - val_mae: 2.9176\n",
            "Epoch 6/10\n",
            "819/819 [==============================] - 40s 49ms/step - loss: 1.2038 - mae: 0.8542 - val_loss: 15.5491 - val_mae: 3.1177\n",
            "Epoch 7/10\n",
            "819/819 [==============================] - 41s 50ms/step - loss: 1.1881 - mae: 0.8436 - val_loss: 14.0280 - val_mae: 2.9340\n",
            "Epoch 8/10\n",
            "819/819 [==============================] - 40s 49ms/step - loss: 0.9867 - mae: 0.7727 - val_loss: 14.1176 - val_mae: 2.9457\n",
            "Epoch 9/10\n",
            "819/819 [==============================] - 39s 47ms/step - loss: 0.9597 - mae: 0.7605 - val_loss: 13.7683 - val_mae: 2.9001\n",
            "Epoch 10/10\n",
            "819/819 [==============================] - 48s 59ms/step - loss: 0.8401 - mae: 0.7141 - val_loss: 14.1690 - val_mae: 2.9384\n",
            "405/405 [==============================] - 13s 32ms/step - loss: 13238.3730 - mae: 11.2580\n",
            "Test MAE: 11.26\n"
          ]
        }
      ],
      "source": [
        "opt = keras.optimizers.Adam(learning_rate=0.01)\n",
        "\n",
        "\n",
        "model.compile(optimizer=opt, loss=\"mse\", metrics=[\"mae\"])\n",
        "\n",
        "history = model.fit(\n",
        "    train_dataset,\n",
        "    epochs=10,\n",
        "    validation_data=val_dataset,\n",
        ")\n",
        "\n",
        "print(f\"Test MAE: {model.evaluate(test_dataset)[1]:.2f}\")"
      ]
    },
    {
      "cell_type": "markdown",
      "id": "OUCqno3z7fQR",
      "metadata": {
        "id": "OUCqno3z7fQR"
      },
      "source": [
        "### Configuração 4"
      ]
    },
    {
      "cell_type": "code",
      "execution_count": null,
      "id": "KhpCLQBqgHqG",
      "metadata": {
        "id": "KhpCLQBqgHqG"
      },
      "outputs": [],
      "source": [
        "inputs = keras.Input(shape=(sequence_length, raw_data.shape[-1]))\n",
        "x = layers.Flatten()(inputs)\n",
        "x = layers.Dense(8, activation=\"relu\")(x)\n",
        "x = layers.Dropout(0.2)(x)\n",
        "x = layers.BatchNormalization()(x)\n",
        "x = layers.Dropout(0.3)(x)\n",
        "x = layers.Dense(4, activation=\"relu\")(x)\n",
        "x = layers.Dropout(0.3)(x)\n",
        "x = layers.BatchNormalization()(x)\n",
        "x = layers.Dropout(0.2)(x)\n",
        "outputs = layers.Dense(1)(x)\n",
        "model = keras.Model(inputs, outputs)"
      ]
    },
    {
      "cell_type": "code",
      "execution_count": null,
      "id": "EKRyjvxLtXdb",
      "metadata": {
        "colab": {
          "base_uri": "https://localhost:8080/"
        },
        "id": "EKRyjvxLtXdb",
        "outputId": "a9c8866a-afcd-45c1-c182-f566eecb1f12"
      },
      "outputs": [
        {
          "name": "stdout",
          "output_type": "stream",
          "text": [
            "Model: \"model_3\"\n",
            "_________________________________________________________________\n",
            " Layer (type)                Output Shape              Param #   \n",
            "=================================================================\n",
            " input_4 (InputLayer)        [(None, 120, 14)]         0         \n",
            "                                                                 \n",
            " flatten_3 (Flatten)         (None, 1680)              0         \n",
            "                                                                 \n",
            " dense_9 (Dense)             (None, 8)                 13448     \n",
            "                                                                 \n",
            " dropout_12 (Dropout)        (None, 8)                 0         \n",
            "                                                                 \n",
            " batch_normalization_6 (Bat  (None, 8)                 32        \n",
            " chNormalization)                                                \n",
            "                                                                 \n",
            " dropout_13 (Dropout)        (None, 8)                 0         \n",
            "                                                                 \n",
            " dense_10 (Dense)            (None, 4)                 36        \n",
            "                                                                 \n",
            " dropout_14 (Dropout)        (None, 4)                 0         \n",
            "                                                                 \n",
            " batch_normalization_7 (Bat  (None, 4)                 16        \n",
            " chNormalization)                                                \n",
            "                                                                 \n",
            " dropout_15 (Dropout)        (None, 4)                 0         \n",
            "                                                                 \n",
            " dense_11 (Dense)            (None, 1)                 5         \n",
            "                                                                 \n",
            "=================================================================\n",
            "Total params: 13537 (52.88 KB)\n",
            "Trainable params: 13513 (52.79 KB)\n",
            "Non-trainable params: 24 (96.00 Byte)\n",
            "_________________________________________________________________\n"
          ]
        }
      ],
      "source": [
        "model.summary()"
      ]
    },
    {
      "cell_type": "code",
      "execution_count": null,
      "id": "1Pt7ZvvpY47c",
      "metadata": {
        "colab": {
          "base_uri": "https://localhost:8080/"
        },
        "id": "1Pt7ZvvpY47c",
        "outputId": "9ff6a4f6-047d-4af4-c5f9-43c65651140a"
      },
      "outputs": [
        {
          "name": "stdout",
          "output_type": "stream",
          "text": [
            "Epoch 1/50\n",
            "819/819 [==============================] - 51s 59ms/step - loss: 7.5011 - mae: 7.5011 - val_loss: 4.1381 - val_mae: 4.1381\n",
            "Epoch 2/50\n",
            "819/819 [==============================] - 48s 59ms/step - loss: 4.7232 - mae: 4.7232 - val_loss: 3.3741 - val_mae: 3.3741\n",
            "Epoch 3/50\n",
            "819/819 [==============================] - 50s 60ms/step - loss: 4.6172 - mae: 4.6172 - val_loss: 3.2880 - val_mae: 3.2880\n",
            "Epoch 4/50\n",
            "819/819 [==============================] - 49s 60ms/step - loss: 4.5682 - mae: 4.5682 - val_loss: 3.3080 - val_mae: 3.3080\n",
            "Epoch 5/50\n",
            "819/819 [==============================] - 50s 60ms/step - loss: 4.5467 - mae: 4.5467 - val_loss: 3.0455 - val_mae: 3.0455\n",
            "Epoch 6/50\n",
            "819/819 [==============================] - 41s 50ms/step - loss: 4.5106 - mae: 4.5106 - val_loss: 3.1559 - val_mae: 3.1559\n",
            "Epoch 7/50\n",
            "819/819 [==============================] - 49s 60ms/step - loss: 4.5068 - mae: 4.5068 - val_loss: 3.1951 - val_mae: 3.1951\n",
            "Epoch 8/50\n",
            "819/819 [==============================] - 49s 60ms/step - loss: 4.4660 - mae: 4.4660 - val_loss: 3.0013 - val_mae: 3.0013\n",
            "Epoch 9/50\n",
            "819/819 [==============================] - 41s 50ms/step - loss: 4.4666 - mae: 4.4666 - val_loss: 3.3595 - val_mae: 3.3595\n",
            "Epoch 10/50\n",
            "819/819 [==============================] - 39s 47ms/step - loss: 4.4430 - mae: 4.4430 - val_loss: 3.1413 - val_mae: 3.1413\n",
            "Epoch 11/50\n",
            "819/819 [==============================] - 41s 50ms/step - loss: 4.4204 - mae: 4.4204 - val_loss: 3.1765 - val_mae: 3.1765\n",
            "405/405 [==============================] - 13s 31ms/step - loss: 3.7912 - mae: 3.7912\n",
            "Test MAE: 3.79\n"
          ]
        }
      ],
      "source": [
        "callback = keras.callbacks.EarlyStopping(\n",
        "    monitor=\"val_loss\",\n",
        "    patience=3,\n",
        "    restore_best_weights=True\n",
        ")\n",
        "\n",
        "model.compile(optimizer=\"adam\", loss=\"mae\", metrics=[\"mae\"])\n",
        "\n",
        "history = model.fit(\n",
        "    train_dataset,\n",
        "    epochs=50,\n",
        "    validation_data=val_dataset,\n",
        "    callbacks=[callback]\n",
        ")\n",
        "\n",
        "print(f\"Test MAE: {model.evaluate(test_dataset)[1]:.2f}\")"
      ]
    },
    {
      "cell_type": "code",
      "execution_count": null,
      "id": "FlFU1DaQuYQN",
      "metadata": {
        "id": "FlFU1DaQuYQN"
      },
      "outputs": [],
      "source": [
        "del model"
      ]
    },
    {
      "cell_type": "markdown",
      "id": "lV3Iz6oh7iU2",
      "metadata": {
        "id": "lV3Iz6oh7iU2"
      },
      "source": [
        "### Configuração 5"
      ]
    },
    {
      "cell_type": "code",
      "execution_count": null,
      "id": "7b0_Cjxl5t3X",
      "metadata": {
        "id": "7b0_Cjxl5t3X"
      },
      "outputs": [],
      "source": [
        "inputs = keras.Input(shape=(sequence_length, raw_data.shape[-1]))\n",
        "x = layers.Flatten()(inputs)\n",
        "x = layers.Dense(32, activation=\"relu\")(x)\n",
        "x = layers.Dropout(0.3)(x)\n",
        "x = layers.BatchNormalization()(x)\n",
        "x = layers.Dense(16, activation=\"relu\")(x)\n",
        "x = layers.Dropout(0.3)(x)\n",
        "x = layers.BatchNormalization()(x)\n",
        "outputs = layers.Dense(1)(x)\n",
        "model = keras.Model(inputs, outputs)"
      ]
    },
    {
      "cell_type": "code",
      "execution_count": null,
      "id": "WNQrywXu57R0",
      "metadata": {
        "colab": {
          "base_uri": "https://localhost:8080/"
        },
        "id": "WNQrywXu57R0",
        "outputId": "64ea0f23-a4f2-43ac-97ac-3dc2eca82b1c"
      },
      "outputs": [
        {
          "name": "stdout",
          "output_type": "stream",
          "text": [
            "Epoch 1/50\n",
            "819/819 [==============================] - 44s 51ms/step - loss: 5.0140 - mae: 5.0140 - val_loss: 2.4318 - val_mae: 2.4318\n",
            "Epoch 2/50\n",
            "819/819 [==============================] - 39s 47ms/step - loss: 2.9280 - mae: 2.9280 - val_loss: 2.3894 - val_mae: 2.3894\n",
            "Epoch 3/50\n",
            "819/819 [==============================] - 51s 62ms/step - loss: 2.8713 - mae: 2.8713 - val_loss: 2.3840 - val_mae: 2.3840\n",
            "Epoch 4/50\n",
            "819/819 [==============================] - 50s 61ms/step - loss: 2.8369 - mae: 2.8369 - val_loss: 2.3700 - val_mae: 2.3700\n",
            "Epoch 5/50\n",
            "819/819 [==============================] - 50s 60ms/step - loss: 2.8010 - mae: 2.8010 - val_loss: 2.3816 - val_mae: 2.3816\n",
            "Epoch 6/50\n",
            "819/819 [==============================] - 40s 49ms/step - loss: 2.7838 - mae: 2.7838 - val_loss: 2.3978 - val_mae: 2.3978\n",
            "Epoch 7/50\n",
            "819/819 [==============================] - 39s 48ms/step - loss: 2.7583 - mae: 2.7583 - val_loss: 2.4114 - val_mae: 2.4114\n",
            "Epoch 8/50\n",
            "819/819 [==============================] - 42s 51ms/step - loss: 2.7442 - mae: 2.7442 - val_loss: 2.4271 - val_mae: 2.4271\n",
            "Epoch 9/50\n",
            "819/819 [==============================] - 39s 48ms/step - loss: 2.7287 - mae: 2.7287 - val_loss: 2.4016 - val_mae: 2.4016\n",
            "405/405 [==============================] - 14s 34ms/step - loss: 3.7218 - mae: 3.7218\n",
            "Test MAE: 3.72\n"
          ]
        }
      ],
      "source": [
        "callback = keras.callbacks.EarlyStopping(\n",
        "    monitor=\"val_loss\",\n",
        "    patience=5,\n",
        "    restore_best_weights=True\n",
        ")\n",
        "\n",
        "model.compile(optimizer=\"adam\", loss=\"mae\", metrics=[\"mae\"])\n",
        "\n",
        "history = model.fit(\n",
        "    train_dataset,\n",
        "    epochs=50,\n",
        "    validation_data=val_dataset,\n",
        "    callbacks=[callback]\n",
        ")\n",
        "\n",
        "print(f\"Test MAE: {model.evaluate(test_dataset)[1]:.2f}\")"
      ]
    },
    {
      "cell_type": "code",
      "execution_count": null,
      "id": "RQI0NMK-8SqC",
      "metadata": {
        "id": "RQI0NMK-8SqC"
      },
      "outputs": [],
      "source": [
        "best_history = history\n",
        "del model"
      ]
    },
    {
      "cell_type": "code",
      "execution_count": null,
      "id": "6015a207-c80a-4a8e-a9ee-f0e97fdef9f5",
      "metadata": {
        "colab": {
          "base_uri": "https://localhost:8080/",
          "height": 452
        },
        "id": "6015a207-c80a-4a8e-a9ee-f0e97fdef9f5",
        "outputId": "d67b5f43-ee04-4a27-bfae-cf96a255a823"
      },
      "outputs": [
        {
          "data": {
            "image/png": "[encoded data removed]",
            "text/plain": [
              "<Figure size 640x480 with 1 Axes>"
            ]
          },
          "metadata": {},
          "output_type": "display_data"
        }
      ],
      "source": [
        "import matplotlib.pyplot as plt\n",
        "\n",
        "loss = best_history.history[\"mae\"]\n",
        "val_loss = best_history.history[\"val_mae\"]\n",
        "\n",
        "epochs = range(1, len(loss) + 1)\n",
        "plt.figure()\n",
        "plt.plot(epochs, loss, \"bo\", label=\"Training MAE\")\n",
        "plt.plot(epochs, val_loss, \"b\", label=\"Validation MAE\")\n",
        "plt.title(\"Training and validation MAE\")\n",
        "plt.legend()\n",
        "plt.show()"
      ]
    },
    {
      "cell_type": "markdown",
      "id": "1eb3dcf7-37d1-4e16-b3a3-6f3e776dc476",
      "metadata": {
        "id": "1eb3dcf7-37d1-4e16-b3a3-6f3e776dc476"
      },
      "source": [
        "## 1D convolution neural network"
      ]
    },
    {
      "cell_type": "markdown",
      "id": "llf3_qIO7peP",
      "metadata": {
        "id": "llf3_qIO7peP"
      },
      "source": [
        "### Configuração 1"
      ]
    },
    {
      "cell_type": "code",
      "execution_count": null,
      "id": "5b2da1b7-6cb1-4cec-a9fb-7459a731939e",
      "metadata": {
        "id": "5b2da1b7-6cb1-4cec-a9fb-7459a731939e"
      },
      "outputs": [],
      "source": [
        "inputs = keras.Input(shape=(sequence_length, raw_data.shape[-1]))\n",
        "x = layers.Conv1D(8, 24, activation=\"relu\")(inputs)\n",
        "x = layers.MaxPooling1D(2)(x)\n",
        "x = layers.Conv1D(8, 12, activation=\"relu\")(x)\n",
        "x = layers.MaxPooling1D(2)(x)\n",
        "x = layers.Conv1D(8, 6, activation=\"relu\")(x)\n",
        "x = layers.GlobalAveragePooling1D()(x)\n",
        "outputs = layers.Dense(1)(x)\n",
        "model = keras.Model(inputs, outputs)"
      ]
    },
    {
      "cell_type": "code",
      "execution_count": null,
      "id": "ad552e6c-8e0f-4a24-b479-a99c85f6df0a",
      "metadata": {
        "colab": {
          "base_uri": "https://localhost:8080/"
        },
        "id": "ad552e6c-8e0f-4a24-b479-a99c85f6df0a",
        "outputId": "831deea1-9355-4b3a-bc69-2292da5c2263"
      },
      "outputs": [
        {
          "name": "stdout",
          "output_type": "stream",
          "text": [
            "Model: \"model_6\"\n",
            "_________________________________________________________________\n",
            " Layer (type)                Output Shape              Param #   \n",
            "=================================================================\n",
            " input_7 (InputLayer)        [(None, 120, 14)]         0         \n",
            "                                                                 \n",
            " conv1d (Conv1D)             (None, 97, 8)             2696      \n",
            "                                                                 \n",
            " max_pooling1d (MaxPooling1  (None, 48, 8)             0         \n",
            " D)                                                              \n",
            "                                                                 \n",
            " conv1d_1 (Conv1D)           (None, 37, 8)             776       \n",
            "                                                                 \n",
            " max_pooling1d_1 (MaxPoolin  (None, 18, 8)             0         \n",
            " g1D)                                                            \n",
            "                                                                 \n",
            " conv1d_2 (Conv1D)           (None, 13, 8)             392       \n",
            "                                                                 \n",
            " global_average_pooling1d (  (None, 8)                 0         \n",
            " GlobalAveragePooling1D)                                         \n",
            "                                                                 \n",
            " dense_23 (Dense)            (None, 1)                 9         \n",
            "                                                                 \n",
            "=================================================================\n",
            "Total params: 3873 (15.13 KB)\n",
            "Trainable params: 3873 (15.13 KB)\n",
            "Non-trainable params: 0 (0.00 Byte)\n",
            "_________________________________________________________________\n"
          ]
        }
      ],
      "source": [
        "model.summary()"
      ]
    },
    {
      "cell_type": "code",
      "execution_count": null,
      "id": "1a79ff21-4b17-4849-98ac-db5399bbe7b3",
      "metadata": {
        "colab": {
          "base_uri": "https://localhost:8080/"
        },
        "id": "1a79ff21-4b17-4849-98ac-db5399bbe7b3",
        "outputId": "d1ea0667-c2e2-4651-93d7-fec92f09e89c"
      },
      "outputs": [
        {
          "name": "stdout",
          "output_type": "stream",
          "text": [
            "Epoch 1/10\n",
            "819/819 [==============================] - 50s 55ms/step - loss: 23.1158 - mae: 3.7265 - val_loss: 14.9453 - val_mae: 3.0820\n",
            "Epoch 2/10\n",
            "819/819 [==============================] - 40s 49ms/step - loss: 15.5918 - mae: 3.1390 - val_loss: 15.5827 - val_mae: 3.1468\n",
            "Epoch 3/10\n",
            "819/819 [==============================] - 50s 60ms/step - loss: 14.3439 - mae: 3.0080 - val_loss: 14.7507 - val_mae: 3.0095\n",
            "Epoch 4/10\n",
            "819/819 [==============================] - 41s 50ms/step - loss: 13.5191 - mae: 2.9197 - val_loss: 20.8217 - val_mae: 3.6119\n",
            "Epoch 5/10\n",
            "819/819 [==============================] - 41s 50ms/step - loss: 12.8158 - mae: 2.8411 - val_loss: 14.8799 - val_mae: 3.0423\n",
            "Epoch 6/10\n",
            "819/819 [==============================] - 48s 59ms/step - loss: 12.2731 - mae: 2.7759 - val_loss: 15.7611 - val_mae: 3.1180\n",
            "Epoch 7/10\n",
            "819/819 [==============================] - 49s 59ms/step - loss: 11.8224 - mae: 2.7226 - val_loss: 14.9657 - val_mae: 3.0365\n",
            "Epoch 8/10\n",
            "819/819 [==============================] - 41s 50ms/step - loss: 11.3881 - mae: 2.6695 - val_loss: 15.8306 - val_mae: 3.1320\n",
            "Epoch 9/10\n",
            "819/819 [==============================] - 41s 50ms/step - loss: 11.1042 - mae: 2.6331 - val_loss: 15.4185 - val_mae: 3.0658\n",
            "Epoch 10/10\n",
            "819/819 [==============================] - 40s 49ms/step - loss: 10.8285 - mae: 2.6005 - val_loss: 16.9619 - val_mae: 3.2339\n",
            "405/405 [==============================] - 14s 33ms/step - loss: 35746.0430 - mae: 14.7275\n",
            "Test MAE: 14.73\n"
          ]
        }
      ],
      "source": [
        "model.compile(optimizer=\"rmsprop\", loss=\"mse\", metrics=[\"mae\"])\n",
        "\n",
        "history = model.fit(\n",
        "    train_dataset,\n",
        "    epochs=10,\n",
        "    validation_data=val_dataset,\n",
        ")\n",
        "\n",
        "print(f\"Test MAE: {model.evaluate(test_dataset)[1]:.2f}\")"
      ]
    },
    {
      "cell_type": "code",
      "execution_count": null,
      "id": "LJnAwliOn9C3",
      "metadata": {
        "id": "LJnAwliOn9C3"
      },
      "outputs": [],
      "source": [
        "del model"
      ]
    },
    {
      "cell_type": "markdown",
      "id": "S9DbEVNv7sVE",
      "metadata": {
        "id": "S9DbEVNv7sVE"
      },
      "source": [
        "### Configuração 2"
      ]
    },
    {
      "cell_type": "code",
      "execution_count": null,
      "id": "Ce0GMVO7n9ys",
      "metadata": {
        "id": "Ce0GMVO7n9ys"
      },
      "outputs": [],
      "source": [
        "inputs = keras.Input(shape=(sequence_length, raw_data.shape[-1]))\n",
        "x = layers.Conv1D(32, 1, activation=\"relu\")(inputs)\n",
        "x = layers.Dropout(0.25)(x)\n",
        "x = layers.BatchNormalization()(x)\n",
        "x = layers.Conv1D(32, 1, activation=\"relu\")(inputs)\n",
        "x = layers.Dropout(0.25)(x)\n",
        "x = layers.BatchNormalization()(x)\n",
        "x = layers.MaxPooling1D(2)(x)\n",
        "x = layers.Flatten()(x)\n",
        "x = layers.Dense(128, activation=\"relu\")(x)\n",
        "outputs = layers.Dense(1)(x)\n",
        "model = keras.Model(inputs, outputs)"
      ]
    },
    {
      "cell_type": "code",
      "execution_count": null,
      "id": "Gbu_D1cppbdB",
      "metadata": {
        "colab": {
          "base_uri": "https://localhost:8080/"
        },
        "id": "Gbu_D1cppbdB",
        "outputId": "8d7f9204-6eaa-43b1-a379-9e72cca6c5d6"
      },
      "outputs": [
        {
          "name": "stdout",
          "output_type": "stream",
          "text": [
            "Epoch 1/10\n",
            "819/819 [==============================] - 45s 52ms/step - loss: 8.8226 - mae: 2.2586 - val_loss: 12.6331 - val_mae: 2.7680\n",
            "Epoch 2/10\n",
            "819/819 [==============================] - 41s 50ms/step - loss: 3.5253 - mae: 1.4593 - val_loss: 14.7337 - val_mae: 2.9775\n",
            "Epoch 3/10\n",
            "819/819 [==============================] - 42s 51ms/step - loss: 2.1270 - mae: 1.1386 - val_loss: 15.9218 - val_mae: 3.0859\n",
            "Epoch 4/10\n",
            "819/819 [==============================] - 41s 50ms/step - loss: 1.6559 - mae: 1.0066 - val_loss: 14.1818 - val_mae: 2.9226\n",
            "Epoch 5/10\n",
            "819/819 [==============================] - 40s 48ms/step - loss: 1.4151 - mae: 0.9314 - val_loss: 13.8710 - val_mae: 2.9049\n",
            "Epoch 6/10\n",
            "819/819 [==============================] - 43s 52ms/step - loss: 1.3047 - mae: 0.8949 - val_loss: 14.0762 - val_mae: 2.9198\n",
            "Epoch 7/10\n",
            "819/819 [==============================] - 42s 51ms/step - loss: 1.1848 - mae: 0.8531 - val_loss: 14.1133 - val_mae: 2.9411\n",
            "Epoch 8/10\n",
            "819/819 [==============================] - 42s 51ms/step - loss: 1.0554 - mae: 0.8060 - val_loss: 14.5592 - val_mae: 2.9867\n",
            "Epoch 9/10\n",
            "819/819 [==============================] - 49s 60ms/step - loss: 1.0224 - mae: 0.7907 - val_loss: 13.6875 - val_mae: 2.8887\n",
            "Epoch 10/10\n",
            "819/819 [==============================] - 41s 50ms/step - loss: 0.9670 - mae: 0.7699 - val_loss: 13.8048 - val_mae: 2.9043\n",
            "405/405 [==============================] - 14s 33ms/step - loss: 14222.2441 - mae: 10.7974\n",
            "Test MAE: 10.80\n"
          ]
        }
      ],
      "source": [
        "model.compile(optimizer=\"adam\", loss=\"mse\", metrics=[\"mae\"])\n",
        "\n",
        "history2 = model.fit(\n",
        "    train_dataset,\n",
        "    epochs=10,\n",
        "    validation_data=val_dataset,\n",
        ")\n",
        "\n",
        "print(f\"Test MAE: {model.evaluate(test_dataset)[1]:.2f}\")"
      ]
    },
    {
      "cell_type": "code",
      "execution_count": null,
      "id": "cwYu7_y6svpq",
      "metadata": {
        "id": "cwYu7_y6svpq"
      },
      "outputs": [],
      "source": [
        "del model"
      ]
    },
    {
      "cell_type": "markdown",
      "id": "787l4TXo7uZP",
      "metadata": {
        "id": "787l4TXo7uZP"
      },
      "source": [
        "### Configuração 3"
      ]
    },
    {
      "cell_type": "code",
      "execution_count": null,
      "id": "_UnR_qxaswwU",
      "metadata": {
        "id": "_UnR_qxaswwU"
      },
      "outputs": [],
      "source": [
        "# arquitetura baseada em https://albertum.medium.com/conv1d-layers-in-time-series-fb7b795bce30\n",
        "\n",
        "inputs = keras.layers.Input(shape = (sequence_length, raw_data.shape[-1]))\n",
        "x = inputs\n",
        "skips = []\n",
        "\n",
        "dilation_rates = [1, 2, 4]\n",
        "n_filters = 4\n",
        "filter_width = 2\n",
        "\n",
        "for dilation in dilation_rates:\n",
        "\n",
        "  x = keras.layers.Conv1D(filters = 16,\n",
        "                             kernel_size = 1,\n",
        "                             padding = 'same',\n",
        "                             activation = 'relu')(x)\n",
        "\n",
        "  x_d = keras.layers.Conv1D(filters = n_filters,\n",
        "                               kernel_size = filter_width,\n",
        "                               padding = 'causal',\n",
        "                               dilation_rate = dilation,\n",
        "                               activation = keras.activations.swish)(x)\n",
        "\n",
        "  z = keras.layers.Conv1D(filters = 16,\n",
        "                             kernel_size = 1,\n",
        "                             padding = 'same',\n",
        "                             activation = 'relu')(x_d)\n",
        "\n",
        "  x = keras.layers.Add()([x, z])\n",
        "\n",
        "  skips.append(z)\n",
        "\n",
        "# assemble the skips\n",
        "out = keras.layers.Add()(skips)\n",
        "out = keras.layers.Conv1D(filters = 1,\n",
        "                             kernel_size = 1,\n",
        "                             padding = 'same')(out)\n",
        "out = keras.layers.Flatten()(out)\n",
        "outputs = keras.layers.Dense(1)(out)\n",
        "\n",
        "model = keras.Model(inputs, outputs)"
      ]
    },
    {
      "cell_type": "code",
      "execution_count": null,
      "id": "uoNgqLzStSjE",
      "metadata": {
        "colab": {
          "base_uri": "https://localhost:8080/"
        },
        "id": "uoNgqLzStSjE",
        "outputId": "6bed43d0-9c44-447f-f2bd-9637a8f5a68e"
      },
      "outputs": [
        {
          "name": "stdout",
          "output_type": "stream",
          "text": [
            "Epoch 1/10\n",
            "819/819 [==============================] - 53s 55ms/step - loss: 18.1548 - mae: 3.2200 - val_loss: 10.1784 - val_mae: 2.4797\n",
            "Epoch 2/10\n",
            "819/819 [==============================] - 52s 63ms/step - loss: 10.5434 - mae: 2.5492 - val_loss: 9.6194 - val_mae: 2.4043\n",
            "Epoch 3/10\n",
            "819/819 [==============================] - 45s 55ms/step - loss: 9.8795 - mae: 2.4619 - val_loss: 9.5776 - val_mae: 2.3994\n",
            "Epoch 4/10\n",
            "819/819 [==============================] - 45s 55ms/step - loss: 9.5546 - mae: 2.4178 - val_loss: 9.3449 - val_mae: 2.3707\n",
            "Epoch 5/10\n",
            "819/819 [==============================] - 44s 54ms/step - loss: 9.2898 - mae: 2.3816 - val_loss: 9.2254 - val_mae: 2.3563\n",
            "Epoch 6/10\n",
            "819/819 [==============================] - 45s 54ms/step - loss: 9.1277 - mae: 2.3595 - val_loss: 9.2334 - val_mae: 2.3618\n",
            "Epoch 7/10\n",
            "819/819 [==============================] - 44s 53ms/step - loss: 8.9815 - mae: 2.3410 - val_loss: 9.2787 - val_mae: 2.3722\n",
            "Epoch 8/10\n",
            "819/819 [==============================] - 44s 53ms/step - loss: 8.8676 - mae: 2.3260 - val_loss: 9.4427 - val_mae: 2.3872\n",
            "Epoch 9/10\n",
            "819/819 [==============================] - 45s 55ms/step - loss: 8.7071 - mae: 2.3041 - val_loss: 9.3208 - val_mae: 2.3789\n",
            "Epoch 10/10\n",
            "819/819 [==============================] - 45s 54ms/step - loss: 8.5682 - mae: 2.2866 - val_loss: 9.7042 - val_mae: 2.4223\n",
            "405/405 [==============================] - 15s 35ms/step - loss: 1288.5940 - mae: 4.1008\n",
            "Test MAE: 4.10\n"
          ]
        }
      ],
      "source": [
        "model.compile(optimizer=\"adam\", loss=\"mse\", metrics=[\"mae\"])\n",
        "\n",
        "history3 = model.fit(\n",
        "    train_dataset,\n",
        "    epochs=10,\n",
        "    validation_data=val_dataset,\n",
        ")\n",
        "\n",
        "print(f\"Test MAE: {model.evaluate(test_dataset)[1]:.2f}\")"
      ]
    },
    {
      "cell_type": "code",
      "execution_count": null,
      "id": "DoUTOnEk0XKU",
      "metadata": {
        "id": "DoUTOnEk0XKU"
      },
      "outputs": [],
      "source": [
        "del model"
      ]
    },
    {
      "cell_type": "code",
      "execution_count": null,
      "id": "c6d9c8a1-f97e-4e61-9587-ddffe31210c1",
      "metadata": {
        "colab": {
          "base_uri": "https://localhost:8080/",
          "height": 452
        },
        "id": "c6d9c8a1-f97e-4e61-9587-ddffe31210c1",
        "outputId": "9a4e5198-5a4f-43a4-ed53-9679c2425d63"
      },
      "outputs": [
        {
          "data": {
            "image/png": "[encoded data removed]",
            "text/plain": [
              "<Figure size 640x480 with 1 Axes>"
            ]
          },
          "metadata": {},
          "output_type": "display_data"
        }
      ],
      "source": [
        "loss = history3.history[\"mae\"]\n",
        "val_loss = history3.history[\"val_mae\"]\n",
        "epochs = range(1, len(loss) + 1)\n",
        "plt.figure()\n",
        "plt.plot(epochs, loss, \"bo\", label=\"Training MAE\")\n",
        "plt.plot(epochs, val_loss, \"b\", label=\"Validation MAE\")\n",
        "plt.title(\"Training and validation MAE\")\n",
        "plt.legend()\n",
        "plt.show()"
      ]
    },
    {
      "cell_type": "markdown",
      "id": "MUNu8nyPzc6Y",
      "metadata": {
        "id": "MUNu8nyPzc6Y"
      },
      "source": [
        "Tivemos um bom sucesso com essa arquitetura, melhorando consideravelmente a rede 1D Conv original, mas ainda não está melhor que o naive."
      ]
    },
    {
      "cell_type": "markdown",
      "id": "8a981e2c-ca9e-470d-983f-041d0696f64a",
      "metadata": {
        "id": "8a981e2c-ca9e-470d-983f-041d0696f64a"
      },
      "source": [
        "## RNN with LSTM cell"
      ]
    },
    {
      "cell_type": "markdown",
      "id": "cwnpgfmJ7xlT",
      "metadata": {
        "id": "cwnpgfmJ7xlT"
      },
      "source": [
        "### Configuração 1"
      ]
    },
    {
      "cell_type": "code",
      "execution_count": null,
      "id": "a816bf20-1772-4e43-8ecb-2c3ac34c3525",
      "metadata": {
        "id": "a816bf20-1772-4e43-8ecb-2c3ac34c3525"
      },
      "outputs": [],
      "source": [
        "inputs = keras.Input(shape=(sequence_length, raw_data.shape[-1]))\n",
        "x = layers.LSTM(16)(inputs)\n",
        "outputs = layers.Dense(1)(x)\n",
        "model = keras.Model(inputs, outputs)"
      ]
    },
    {
      "cell_type": "code",
      "execution_count": null,
      "id": "f0a627d3-eb5a-41e8-b03c-0a390b336d67",
      "metadata": {
        "colab": {
          "base_uri": "https://localhost:8080/"
        },
        "id": "f0a627d3-eb5a-41e8-b03c-0a390b336d67",
        "outputId": "1ad7874c-d6a7-4730-bee3-0f33318ae821"
      },
      "outputs": [
        {
          "name": "stdout",
          "output_type": "stream",
          "text": [
            "Model: \"model_1\"\n",
            "_________________________________________________________________\n",
            " Layer (type)                Output Shape              Param #   \n",
            "=================================================================\n",
            " input_2 (InputLayer)        [(None, 120, 14)]         0         \n",
            "                                                                 \n",
            " lstm (LSTM)                 (None, 16)                1984      \n",
            "                                                                 \n",
            " dense_2 (Dense)             (None, 1)                 17        \n",
            "                                                                 \n",
            "=================================================================\n",
            "Total params: 2001 (7.82 KB)\n",
            "Trainable params: 2001 (7.82 KB)\n",
            "Non-trainable params: 0 (0.00 Byte)\n",
            "_________________________________________________________________\n"
          ]
        }
      ],
      "source": [
        "model.summary()"
      ]
    },
    {
      "cell_type": "code",
      "execution_count": null,
      "id": "97c4fbcd-6e12-4122-b537-56be1be2d774",
      "metadata": {
        "colab": {
          "base_uri": "https://localhost:8080/"
        },
        "id": "97c4fbcd-6e12-4122-b537-56be1be2d774",
        "outputId": "cf3af918-79af-4bf2-89f6-2d631f3fe715"
      },
      "outputs": [
        {
          "name": "stdout",
          "output_type": "stream",
          "text": [
            "Epoch 1/10\n",
            "819/819 [==============================] - 124s 149ms/step - loss: 40.1097 - mae: 4.5765 - val_loss: 11.9071 - val_mae: 2.6135\n",
            "Epoch 2/10\n",
            "819/819 [==============================] - 128s 156ms/step - loss: 10.5088 - mae: 2.5151 - val_loss: 9.4258 - val_mae: 2.3992\n",
            "Epoch 3/10\n",
            "819/819 [==============================] - 127s 155ms/step - loss: 9.4311 - mae: 2.3895 - val_loss: 9.1836 - val_mae: 2.3674\n",
            "Epoch 4/10\n",
            "819/819 [==============================] - 165s 201ms/step - loss: 8.8513 - mae: 2.3145 - val_loss: 9.4970 - val_mae: 2.4110\n",
            "Epoch 5/10\n",
            "819/819 [==============================] - 113s 138ms/step - loss: 8.3420 - mae: 2.2526 - val_loss: 9.3645 - val_mae: 2.3903\n",
            "Epoch 6/10\n",
            "819/819 [==============================] - 112s 136ms/step - loss: 8.0375 - mae: 2.2146 - val_loss: 9.2186 - val_mae: 2.3786\n",
            "Epoch 7/10\n",
            "819/819 [==============================] - 128s 156ms/step - loss: 7.7720 - mae: 2.1787 - val_loss: 9.3549 - val_mae: 2.3980\n",
            "Epoch 8/10\n",
            "819/819 [==============================] - 112s 136ms/step - loss: 7.5908 - mae: 2.1545 - val_loss: 9.5341 - val_mae: 2.4153\n",
            "Epoch 9/10\n",
            "819/819 [==============================] - 127s 154ms/step - loss: 7.4321 - mae: 2.1338 - val_loss: 10.0906 - val_mae: 2.4754\n",
            "Epoch 10/10\n",
            "819/819 [==============================] - 128s 156ms/step - loss: 7.3295 - mae: 2.1185 - val_loss: 9.6320 - val_mae: 2.4270\n",
            "405/405 [==============================] - 28s 67ms/step - loss: 10.7460 - mae: 2.5446\n",
            "Test MAE: 2.54\n"
          ]
        }
      ],
      "source": [
        "model.compile(optimizer=\"rmsprop\", loss=\"mse\", metrics=[\"mae\"])\n",
        "history = model.fit(\n",
        "    train_dataset,\n",
        "    epochs=10,\n",
        "    validation_data=val_dataset,\n",
        ")\n",
        "print(f\"Test MAE: {model.evaluate(test_dataset)[1]:.2f}\")"
      ]
    },
    {
      "cell_type": "code",
      "execution_count": null,
      "id": "RynOFfXROxpl",
      "metadata": {
        "id": "RynOFfXROxpl"
      },
      "outputs": [],
      "source": [
        "del model"
      ]
    },
    {
      "cell_type": "markdown",
      "id": "-cWUtW3y70gj",
      "metadata": {
        "id": "-cWUtW3y70gj"
      },
      "source": [
        "### Configuração 2"
      ]
    },
    {
      "cell_type": "code",
      "execution_count": null,
      "id": "1S4sdFoecEuE",
      "metadata": {
        "id": "1S4sdFoecEuE"
      },
      "outputs": [],
      "source": [
        "inputs = keras.Input(shape=(sequence_length, raw_data.shape[-1]))\n",
        "x = layers.LSTM(5)(inputs)\n",
        "outputs = layers.Dense(1)(x)\n",
        "model = keras.Model(inputs, outputs)"
      ]
    },
    {
      "cell_type": "code",
      "execution_count": null,
      "id": "vYXArBpJcKQi",
      "metadata": {
        "colab": {
          "base_uri": "https://localhost:8080/"
        },
        "id": "vYXArBpJcKQi",
        "outputId": "d9870f45-f4f3-4597-b0cc-e29fde1c3628"
      },
      "outputs": [
        {
          "name": "stdout",
          "output_type": "stream",
          "text": [
            "Epoch 1/20\n",
            "819/819 [==============================] - 103s 121ms/step - loss: 91.6642 - mae: 7.6115 - val_loss: 57.4545 - val_mae: 5.8154\n",
            "Epoch 2/20\n",
            "819/819 [==============================] - 100s 122ms/step - loss: 43.4608 - mae: 4.9586 - val_loss: 31.4621 - val_mae: 4.1626\n",
            "Epoch 3/20\n",
            "819/819 [==============================] - 118s 144ms/step - loss: 26.1308 - mae: 3.7819 - val_loss: 20.0900 - val_mae: 3.3176\n",
            "Epoch 4/20\n",
            "819/819 [==============================] - 117s 143ms/step - loss: 18.2897 - mae: 3.1833 - val_loss: 14.6870 - val_mae: 2.8476\n",
            "Epoch 5/20\n",
            "819/819 [==============================] - 98s 119ms/step - loss: 14.1604 - mae: 2.8493 - val_loss: 12.0852 - val_mae: 2.6264\n",
            "Epoch 6/20\n",
            "819/819 [==============================] - 99s 120ms/step - loss: 12.2837 - mae: 2.6844 - val_loss: 10.6025 - val_mae: 2.4823\n",
            "Epoch 7/20\n",
            "819/819 [==============================] - 118s 144ms/step - loss: 11.2665 - mae: 2.5888 - val_loss: 9.9672 - val_mae: 2.4285\n",
            "Epoch 8/20\n",
            "819/819 [==============================] - 100s 121ms/step - loss: 10.5814 - mae: 2.5211 - val_loss: 9.6306 - val_mae: 2.4005\n",
            "Epoch 9/20\n",
            "819/819 [==============================] - 118s 144ms/step - loss: 10.1748 - mae: 2.4784 - val_loss: 9.4481 - val_mae: 2.3883\n",
            "Epoch 10/20\n",
            "819/819 [==============================] - 98s 119ms/step - loss: 9.9044 - mae: 2.4480 - val_loss: 9.4548 - val_mae: 2.3916\n",
            "Epoch 11/20\n",
            "819/819 [==============================] - 119s 146ms/step - loss: 9.6717 - mae: 2.4209 - val_loss: 9.4794 - val_mae: 2.3992\n",
            "Epoch 12/20\n",
            "819/819 [==============================] - 118s 144ms/step - loss: 9.4646 - mae: 2.3977 - val_loss: 9.5047 - val_mae: 2.4086\n",
            "Epoch 13/20\n",
            "819/819 [==============================] - 98s 119ms/step - loss: 9.3112 - mae: 2.3802 - val_loss: 9.5558 - val_mae: 2.4143\n",
            "Epoch 14/20\n",
            "819/819 [==============================] - 119s 145ms/step - loss: 9.1932 - mae: 2.3658 - val_loss: 9.5540 - val_mae: 2.4132\n",
            "Epoch 15/20\n",
            "819/819 [==============================] - 120s 146ms/step - loss: 9.1130 - mae: 2.3559 - val_loss: 9.4467 - val_mae: 2.3955\n",
            "Epoch 16/20\n",
            "819/819 [==============================] - 117s 143ms/step - loss: 9.0436 - mae: 2.3480 - val_loss: 9.5555 - val_mae: 2.4129\n",
            "Epoch 17/20\n",
            "819/819 [==============================] - 120s 146ms/step - loss: 9.0159 - mae: 2.3434 - val_loss: 9.5015 - val_mae: 2.4051\n",
            "Epoch 18/20\n",
            "819/819 [==============================] - 118s 144ms/step - loss: 8.9400 - mae: 2.3340 - val_loss: 9.5242 - val_mae: 2.4052\n",
            "Epoch 19/20\n",
            "819/819 [==============================] - 118s 144ms/step - loss: 8.9621 - mae: 2.3364 - val_loss: 9.3656 - val_mae: 2.3808\n",
            "Epoch 20/20\n",
            "819/819 [==============================] - 117s 143ms/step - loss: 8.8677 - mae: 2.3255 - val_loss: 9.4629 - val_mae: 2.3980\n",
            "405/405 [==============================] - 22s 54ms/step - loss: 10.5150 - mae: 2.5562\n",
            "Test MAE: 2.56\n"
          ]
        }
      ],
      "source": [
        "model.compile(optimizer=\"adam\", loss=\"mse\", metrics=[\"mae\"])\n",
        "history = model.fit(\n",
        "    train_dataset,\n",
        "    epochs=20,\n",
        "    validation_data=val_dataset,\n",
        ")\n",
        "print(f\"Test MAE: {model.evaluate(test_dataset)[1]:.2f}\")"
      ]
    },
    {
      "cell_type": "code",
      "execution_count": null,
      "id": "T-3BsAEuyXWg",
      "metadata": {
        "id": "T-3BsAEuyXWg"
      },
      "outputs": [],
      "source": [
        "del model"
      ]
    },
    {
      "cell_type": "markdown",
      "id": "u8HUVvEc72Oe",
      "metadata": {
        "id": "u8HUVvEc72Oe"
      },
      "source": [
        "### Configuração 3"
      ]
    },
    {
      "cell_type": "code",
      "execution_count": null,
      "id": "YgbHZT9EyYSq",
      "metadata": {
        "id": "YgbHZT9EyYSq"
      },
      "outputs": [],
      "source": [
        "inputs = keras.Input(shape=(sequence_length, raw_data.shape[-1]))\n",
        "x = layers.LSTM(32)(inputs)\n",
        "outputs = layers.Dense(1)(x)\n",
        "model = keras.Model(inputs, outputs)"
      ]
    },
    {
      "cell_type": "code",
      "execution_count": null,
      "id": "eWrwpsrexwyp",
      "metadata": {
        "colab": {
          "base_uri": "https://localhost:8080/"
        },
        "id": "eWrwpsrexwyp",
        "outputId": "ab95af99-4b40-4a71-df6d-9ff84690a41e"
      },
      "outputs": [
        {
          "name": "stdout",
          "output_type": "stream",
          "text": [
            "Epoch 1/20\n",
            "819/819 [==============================] - 164s 196ms/step - loss: 28.9832 - mae: 3.8603 - val_loss: 10.8411 - val_mae: 2.5311\n",
            "Epoch 2/20\n",
            "819/819 [==============================] - 158s 193ms/step - loss: 10.6410 - mae: 2.5182 - val_loss: 9.5758 - val_mae: 2.4083\n",
            "Epoch 3/20\n",
            "819/819 [==============================] - 157s 192ms/step - loss: 9.2323 - mae: 2.3622 - val_loss: 9.2618 - val_mae: 2.3609\n",
            "Epoch 4/20\n",
            "819/819 [==============================] - 147s 179ms/step - loss: 8.4247 - mae: 2.2557 - val_loss: 9.3603 - val_mae: 2.3836\n",
            "Epoch 5/20\n",
            "819/819 [==============================] - 159s 194ms/step - loss: 7.7679 - mae: 2.1681 - val_loss: 9.6113 - val_mae: 2.4002\n",
            "Epoch 6/20\n",
            "819/819 [==============================] - 147s 180ms/step - loss: 7.9593 - mae: 2.2010 - val_loss: 9.7673 - val_mae: 2.4175\n",
            "405/405 [==============================] - 33s 79ms/step - loss: 10.7766 - mae: 2.5829\n",
            "Test MAE: 2.58\n"
          ]
        }
      ],
      "source": [
        "callback = keras.callbacks.EarlyStopping(monitor='val_mae', patience=3, restore_best_weights=True)\n",
        "\n",
        "model.compile(optimizer=\"adam\", loss=\"mse\", metrics=[\"mae\"])\n",
        "history = model.fit(\n",
        "    train_dataset,\n",
        "    epochs=20,\n",
        "    validation_data=val_dataset,\n",
        "    callbacks=[callback]\n",
        ")\n",
        "print(f\"Test MAE: {model.evaluate(test_dataset)[1]:.2f}\")"
      ]
    },
    {
      "cell_type": "code",
      "execution_count": null,
      "id": "zgs6XfRJ3Kf_",
      "metadata": {
        "id": "zgs6XfRJ3Kf_"
      },
      "outputs": [],
      "source": [
        "del model"
      ]
    },
    {
      "cell_type": "markdown",
      "id": "hd4BOpRb73u_",
      "metadata": {
        "id": "hd4BOpRb73u_"
      },
      "source": [
        "### Configuração 4"
      ]
    },
    {
      "cell_type": "code",
      "execution_count": null,
      "id": "hk_PRNFV3sBg",
      "metadata": {
        "id": "hk_PRNFV3sBg"
      },
      "outputs": [],
      "source": [
        "inputs = keras.Input(shape=(sequence_length, raw_data.shape[-1]))\n",
        "x = layers.LSTM(8)(inputs)\n",
        "outputs = layers.Dense(1)(x)\n",
        "model = keras.Model(inputs, outputs)"
      ]
    },
    {
      "cell_type": "code",
      "execution_count": null,
      "id": "k7aXQd2c3uLq",
      "metadata": {
        "colab": {
          "base_uri": "https://localhost:8080/"
        },
        "id": "k7aXQd2c3uLq",
        "outputId": "d253d432-13f1-4927-bf09-a1177306ec07"
      },
      "outputs": [
        {
          "name": "stdout",
          "output_type": "stream",
          "text": [
            "Epoch 1/20\n",
            "819/819 [==============================] - 56s 64ms/step - loss: 67.5478 - mae: 6.2839 - val_loss: 33.8519 - val_mae: 4.3319\n",
            "Epoch 2/20\n",
            "819/819 [==============================] - 44s 53ms/step - loss: 25.2063 - mae: 3.7286 - val_loss: 17.8460 - val_mae: 3.1367\n",
            "Epoch 3/20\n",
            "819/819 [==============================] - 52s 63ms/step - loss: 15.8136 - mae: 2.9993 - val_loss: 12.8294 - val_mae: 2.7017\n",
            "Epoch 4/20\n",
            "819/819 [==============================] - 48s 58ms/step - loss: 12.5107 - mae: 2.7157 - val_loss: 10.9332 - val_mae: 2.5223\n",
            "Epoch 5/20\n",
            "819/819 [==============================] - 55s 67ms/step - loss: 11.2142 - mae: 2.5972 - val_loss: 10.1841 - val_mae: 2.4536\n",
            "Epoch 6/20\n",
            "819/819 [==============================] - 52s 63ms/step - loss: 10.4656 - mae: 2.5189 - val_loss: 9.9119 - val_mae: 2.4334\n",
            "Epoch 7/20\n",
            "819/819 [==============================] - 44s 54ms/step - loss: 10.1167 - mae: 2.4806 - val_loss: 9.7862 - val_mae: 2.4261\n",
            "Epoch 8/20\n",
            "819/819 [==============================] - 52s 63ms/step - loss: 9.8837 - mae: 2.4557 - val_loss: 9.8398 - val_mae: 2.4376\n",
            "Epoch 9/20\n",
            "819/819 [==============================] - 49s 60ms/step - loss: 9.7528 - mae: 2.4398 - val_loss: 9.8502 - val_mae: 2.4399\n",
            "Epoch 10/20\n",
            "819/819 [==============================] - 44s 53ms/step - loss: 9.7288 - mae: 2.4385 - val_loss: 9.7373 - val_mae: 2.4253\n",
            "Epoch 11/20\n",
            "819/819 [==============================] - 44s 54ms/step - loss: 9.5752 - mae: 2.4180 - val_loss: 9.7529 - val_mae: 2.4248\n",
            "Epoch 12/20\n",
            "819/819 [==============================] - 44s 54ms/step - loss: 9.4694 - mae: 2.4043 - val_loss: 9.6524 - val_mae: 2.4121\n",
            "Epoch 13/20\n",
            "819/819 [==============================] - 45s 54ms/step - loss: 9.3927 - mae: 2.3939 - val_loss: 9.7097 - val_mae: 2.4188\n",
            "Epoch 14/20\n",
            "819/819 [==============================] - 47s 57ms/step - loss: 9.3383 - mae: 2.3845 - val_loss: 9.6604 - val_mae: 2.4144\n",
            "Epoch 15/20\n",
            "819/819 [==============================] - 52s 63ms/step - loss: 9.2874 - mae: 2.3795 - val_loss: 9.8694 - val_mae: 2.4402\n",
            "Epoch 16/20\n",
            "819/819 [==============================] - 52s 63ms/step - loss: 9.1830 - mae: 2.3705 - val_loss: 9.9045 - val_mae: 2.4470\n",
            "405/405 [==============================] - 14s 35ms/step - loss: 10.6081 - mae: 2.5427\n",
            "Test MAE: 2.54\n"
          ]
        }
      ],
      "source": [
        "callback = keras.callbacks.EarlyStopping(monitor='val_mae', patience=4, restore_best_weights=True)\n",
        "\n",
        "model.compile(optimizer=\"adam\", loss=\"mse\", metrics=[\"mae\"])\n",
        "history = model.fit(\n",
        "    train_dataset,\n",
        "    epochs=20,\n",
        "    validation_data=val_dataset,\n",
        "    callbacks=[callback]\n",
        ")\n",
        "print(f\"Test MAE: {model.evaluate(test_dataset)[1]:.2f}\")"
      ]
    },
    {
      "cell_type": "code",
      "execution_count": null,
      "id": "a465007c-ef95-4830-bb1d-1e8e89db4750",
      "metadata": {
        "id": "a465007c-ef95-4830-bb1d-1e8e89db4750",
        "outputId": "aa2d0eae-aca9-47e0-c3a3-ac7f279f9d2e"
      },
      "outputs": [
        {
          "data": {
            "image/png": "[encoded data removed]",
            "text/plain": [
              "<Figure size 640x480 with 1 Axes>"
            ]
          },
          "metadata": {},
          "output_type": "display_data"
        }
      ],
      "source": [
        "loss = history.history[\"mae\"]\n",
        "val_loss = history.history[\"val_mae\"]\n",
        "epochs = range(1, len(loss) + 1)\n",
        "plt.figure()\n",
        "plt.plot(epochs, loss, \"bo\", label=\"Training MAE\")\n",
        "plt.plot(epochs, val_loss, \"b\", label=\"Validation MAE\")\n",
        "plt.title(\"Training and validation MAE\")\n",
        "plt.legend()\n",
        "plt.show()"
      ]
    },
    {
      "cell_type": "markdown",
      "id": "82c9c914-c4eb-4cb6-b9dd-8b0be2828eb8",
      "metadata": {
        "id": "82c9c914-c4eb-4cb6-b9dd-8b0be2828eb8"
      },
      "source": [
        "## RNN with LSTM cell and recurrent dropout"
      ]
    },
    {
      "cell_type": "markdown",
      "id": "UegnFvgd769L",
      "metadata": {
        "id": "UegnFvgd769L"
      },
      "source": [
        "### Configuração 1"
      ]
    },
    {
      "cell_type": "code",
      "execution_count": null,
      "id": "65d52fff-2254-4bc1-9d78-eae4f8474b2e",
      "metadata": {
        "id": "65d52fff-2254-4bc1-9d78-eae4f8474b2e"
      },
      "outputs": [],
      "source": [
        "inputs = keras.Input(shape=(sequence_length, raw_data.shape[-1]))\n",
        "x = layers.LSTM(32, recurrent_dropout=0.25)(inputs)\n",
        "x = layers.Dropout(0.5)(x)\n",
        "outputs = layers.Dense(1)(x)\n",
        "model = keras.Model(inputs, outputs)"
      ]
    },
    {
      "cell_type": "code",
      "execution_count": null,
      "id": "f2947658-9fdb-4438-aff1-3d9e17f72b84",
      "metadata": {
        "colab": {
          "base_uri": "https://localhost:8080/"
        },
        "id": "f2947658-9fdb-4438-aff1-3d9e17f72b84",
        "outputId": "ebffa4e9-197c-4e63-bac8-cd710989c535"
      },
      "outputs": [
        {
          "name": "stdout",
          "output_type": "stream",
          "text": [
            "Model: \"model\"\n",
            "_________________________________________________________________\n",
            " Layer (type)                Output Shape              Param #   \n",
            "=================================================================\n",
            " input_1 (InputLayer)        [(None, 120, 14)]         0         \n",
            "                                                                 \n",
            " lstm (LSTM)                 (None, 32)                6016      \n",
            "                                                                 \n",
            " dropout (Dropout)           (None, 32)                0         \n",
            "                                                                 \n",
            " dense (Dense)               (None, 1)                 33        \n",
            "                                                                 \n",
            "=================================================================\n",
            "Total params: 6049 (23.63 KB)\n",
            "Trainable params: 6049 (23.63 KB)\n",
            "Non-trainable params: 0 (0.00 Byte)\n",
            "_________________________________________________________________\n"
          ]
        }
      ],
      "source": [
        "model.summary()"
      ]
    },
    {
      "cell_type": "code",
      "execution_count": null,
      "id": "58164d81-2fe2-4dc9-99be-be29487a6a4f",
      "metadata": {
        "colab": {
          "base_uri": "https://localhost:8080/"
        },
        "id": "58164d81-2fe2-4dc9-99be-be29487a6a4f",
        "outputId": "68dcf11d-2008-42a6-e5f6-1a944aaee24b"
      },
      "outputs": [
        {
          "name": "stdout",
          "output_type": "stream",
          "text": [
            "Epoch 1/30\n",
            "819/819 [==============================] - 225s 272ms/step - loss: 27.2091 - mae: 3.8741 - val_loss: 9.9535 - val_mae: 2.4635\n",
            "Epoch 2/30\n",
            "819/819 [==============================] - 222s 270ms/step - loss: 14.7484 - mae: 2.9849 - val_loss: 9.2122 - val_mae: 2.3598\n",
            "Epoch 3/30\n",
            "819/819 [==============================] - 207s 253ms/step - loss: 13.8953 - mae: 2.8937 - val_loss: 9.2331 - val_mae: 2.3548\n",
            "Epoch 4/30\n",
            "819/819 [==============================] - 220s 269ms/step - loss: 13.2050 - mae: 2.8191 - val_loss: 9.1588 - val_mae: 2.3489\n",
            "Epoch 5/30\n",
            "819/819 [==============================] - 219s 267ms/step - loss: 12.7801 - mae: 2.7700 - val_loss: 9.3068 - val_mae: 2.3682\n",
            "Epoch 6/30\n",
            "819/819 [==============================] - 208s 253ms/step - loss: 12.3259 - mae: 2.7208 - val_loss: 9.3977 - val_mae: 2.3881\n"
          ]
        }
      ],
      "source": [
        "callback = keras.callbacks.EarlyStopping(monitor='val_mae', patience=2, restore_best_weights=True)\n",
        "model.compile(optimizer=\"rmsprop\", loss=\"mse\", metrics=[\"mae\"])\n",
        "history = model.fit(\n",
        "    train_dataset,\n",
        "    epochs=30,\n",
        "    validation_data=val_dataset,\n",
        "    callbacks=[callback]\n",
        ")"
      ]
    },
    {
      "cell_type": "code",
      "execution_count": null,
      "id": "Krg2TwTZpj2n",
      "metadata": {
        "colab": {
          "base_uri": "https://localhost:8080/"
        },
        "id": "Krg2TwTZpj2n",
        "outputId": "8777718c-de1e-4933-c05e-e24978ccddfb"
      },
      "outputs": [
        {
          "name": "stdout",
          "output_type": "stream",
          "text": [
            "405/405 [==============================] - 32s 77ms/step - loss: 10.3781 - mae: 2.5513\n",
            "Test MAE: 2.55\n"
          ]
        }
      ],
      "source": [
        "print(f\"Test MAE: {model.evaluate(test_dataset)[1]:.2f}\")"
      ]
    },
    {
      "cell_type": "code",
      "execution_count": null,
      "id": "3a81b7a6-e117-4a98-88e2-206dac90c2e8",
      "metadata": {
        "id": "3a81b7a6-e117-4a98-88e2-206dac90c2e8",
        "outputId": "f0c8864c-fbf1-43b9-82f4-3004536d79e8"
      },
      "outputs": [
        {
          "data": {
            "image/png": "[encoded data removed]",
            "text/plain": [
              "<Figure size 640x480 with 1 Axes>"
            ]
          },
          "metadata": {},
          "output_type": "display_data"
        }
      ],
      "source": [
        "loss = history.history[\"mae\"]\n",
        "val_loss = history.history[\"val_mae\"]\n",
        "epochs = range(1, len(loss) + 1)\n",
        "plt.figure()\n",
        "plt.plot(epochs, loss, \"bo\", label=\"Training MAE\")\n",
        "plt.plot(epochs, val_loss, \"b\", label=\"Validation MAE\")\n",
        "plt.title(\"Training and validation MAE\")\n",
        "plt.legend()\n",
        "plt.show()"
      ]
    },
    {
      "cell_type": "code",
      "execution_count": null,
      "id": "jnuNfLjitoNM",
      "metadata": {
        "id": "jnuNfLjitoNM"
      },
      "outputs": [],
      "source": [
        "del model"
      ]
    },
    {
      "cell_type": "markdown",
      "id": "7CEH9cOB7_ts",
      "metadata": {
        "id": "7CEH9cOB7_ts"
      },
      "source": [
        "### Configuração 2"
      ]
    },
    {
      "cell_type": "code",
      "execution_count": null,
      "id": "A-jmLR_8g5k9",
      "metadata": {
        "colab": {
          "base_uri": "https://localhost:8080/"
        },
        "id": "A-jmLR_8g5k9",
        "outputId": "1b4a6aa3-10a3-40e1-b2b5-ae09afc0b3aa"
      },
      "outputs": [
        {
          "name": "stderr",
          "output_type": "stream",
          "text": [
            "WARNING:tensorflow:Layer lstm will not use cuDNN kernels since it doesn't meet the criteria. It will use a generic GPU kernel as fallback when running on GPU.\n"
          ]
        },
        {
          "name": "stdout",
          "output_type": "stream",
          "text": [
            "Epoch 1/30\n",
            "819/819 [==============================] - 478s 572ms/step - loss: 28.6245 - mae: 3.8999 - val_loss: 10.7943 - val_mae: 2.5227\n",
            "Epoch 2/30\n",
            "819/819 [==============================] - 449s 548ms/step - loss: 12.6611 - mae: 2.7664 - val_loss: 9.7537 - val_mae: 2.4206\n",
            "Epoch 3/30\n",
            "819/819 [==============================] - 435s 531ms/step - loss: 11.4556 - mae: 2.6355 - val_loss: 9.3829 - val_mae: 2.3737\n",
            "Epoch 4/30\n",
            "819/819 [==============================] - 429s 524ms/step - loss: 10.7503 - mae: 2.5533 - val_loss: 9.7232 - val_mae: 2.4219\n",
            "Epoch 5/30\n",
            "819/819 [==============================] - 431s 526ms/step - loss: 10.1717 - mae: 2.4870 - val_loss: 9.7300 - val_mae: 2.4198\n",
            "Epoch 6/30\n",
            "819/819 [==============================] - 431s 526ms/step - loss: 9.7658 - mae: 2.4360 - val_loss: 9.7631 - val_mae: 2.4274\n",
            "Epoch 7/30\n",
            "819/819 [==============================] - 429s 523ms/step - loss: 9.4784 - mae: 2.3996 - val_loss: 10.0714 - val_mae: 2.4729\n",
            "Epoch 8/30\n",
            "819/819 [==============================] - 430s 525ms/step - loss: 9.0835 - mae: 2.3479 - val_loss: 9.9534 - val_mae: 2.4498\n"
          ]
        },
        {
          "name": "stderr",
          "output_type": "stream",
          "text": [
            "/usr/local/lib/python3.10/dist-packages/keras/src/engine/training.py:3079: UserWarning: You are saving your model as an HDF5 file via `model.save()`. This file format is considered legacy. We recommend using instead the native Keras format, e.g. `model.save('my_model.keras')`.\n",
            "  saving_api.save_model(\n"
          ]
        },
        {
          "name": "stdout",
          "output_type": "stream",
          "text": [
            "405/405 [==============================] - 31s 76ms/step - loss: 10.9205 - mae: 2.6113\n",
            "Test MAE: 2.61\n"
          ]
        }
      ],
      "source": [
        "inputs = keras.Input(shape=(sequence_length, raw_data.shape[-1]))\n",
        "x = layers.LSTM(32, recurrent_dropout=0.2)(inputs)\n",
        "x = layers.Dropout(0.25)(x)\n",
        "outputs = layers.Dense(1)(x)\n",
        "model = keras.Model(inputs, outputs)\n",
        "\n",
        "callback = keras.callbacks.EarlyStopping(monitor='val_mae', patience=5, restore_best_weights=True)\n",
        "model.compile(optimizer=\"adam\", loss=\"mse\", metrics=[\"mae\"])\n",
        "history = model.fit(\n",
        "    train_dataset,\n",
        "    epochs=30,\n",
        "    validation_data=val_dataset,\n",
        "    callbacks=[callback]\n",
        ")\n",
        "\n",
        "print(f\"Test MAE: {model.evaluate(test_dataset)[1]:.2f}\")"
      ]
    },
    {
      "cell_type": "code",
      "execution_count": null,
      "id": "l1bkLWCz-2UJ",
      "metadata": {
        "id": "l1bkLWCz-2UJ"
      },
      "outputs": [],
      "source": [
        "del model"
      ]
    },
    {
      "cell_type": "markdown",
      "id": "JFdUrTKZ8C3f",
      "metadata": {
        "id": "JFdUrTKZ8C3f"
      },
      "source": [
        "### Configuração 3"
      ]
    },
    {
      "cell_type": "code",
      "execution_count": null,
      "id": "1Dwky1B5-1ZP",
      "metadata": {
        "colab": {
          "base_uri": "https://localhost:8080/"
        },
        "id": "1Dwky1B5-1ZP",
        "outputId": "413a3c2b-4fa1-4f32-a596-7513af2486fd"
      },
      "outputs": [
        {
          "name": "stdout",
          "output_type": "stream",
          "text": [
            "Epoch 1/30\n",
            "819/819 [==============================] - 151s 180ms/step - loss: 71.4902 - mae: 6.5104 - val_loss: 35.9691 - val_mae: 4.4749\n",
            "Epoch 2/30\n",
            "819/819 [==============================] - 149s 181ms/step - loss: 31.0408 - mae: 4.1593 - val_loss: 19.7140 - val_mae: 3.2385\n",
            "Epoch 3/30\n",
            "819/819 [==============================] - 169s 206ms/step - loss: 21.9122 - mae: 3.5253 - val_loss: 13.2339 - val_mae: 2.7155\n",
            "Epoch 4/30\n",
            "819/819 [==============================] - 149s 181ms/step - loss: 18.5461 - mae: 3.2800 - val_loss: 11.0889 - val_mae: 2.5332\n",
            "Epoch 5/30\n",
            "819/819 [==============================] - 169s 205ms/step - loss: 17.0161 - mae: 3.1540 - val_loss: 10.1986 - val_mae: 2.4550\n",
            "Epoch 6/30\n",
            "819/819 [==============================] - 166s 202ms/step - loss: 15.9815 - mae: 3.0723 - val_loss: 9.6633 - val_mae: 2.4000\n",
            "Epoch 7/30\n",
            "819/819 [==============================] - 169s 206ms/step - loss: 15.4457 - mae: 3.0249 - val_loss: 9.3154 - val_mae: 2.3592\n",
            "Epoch 8/30\n",
            "819/819 [==============================] - 149s 182ms/step - loss: 15.0174 - mae: 2.9857 - val_loss: 9.2596 - val_mae: 2.3563\n",
            "Epoch 9/30\n",
            "819/819 [==============================] - 165s 201ms/step - loss: 14.6213 - mae: 2.9506 - val_loss: 9.1890 - val_mae: 2.3500\n",
            "Epoch 10/30\n",
            "819/819 [==============================] - 152s 185ms/step - loss: 14.3671 - mae: 2.9289 - val_loss: 9.0908 - val_mae: 2.3385\n",
            "Epoch 11/30\n",
            "819/819 [==============================] - 166s 203ms/step - loss: 14.1039 - mae: 2.9011 - val_loss: 9.1977 - val_mae: 2.3548\n",
            "Epoch 12/30\n",
            "819/819 [==============================] - 169s 206ms/step - loss: 13.9589 - mae: 2.8873 - val_loss: 9.0740 - val_mae: 2.3391\n",
            "405/405 [==============================] - 22s 55ms/step - loss: 10.4649 - mae: 2.5366\n",
            "Test MAE: 2.54\n"
          ]
        }
      ],
      "source": [
        "inputs = keras.Input(shape=(sequence_length, raw_data.shape[-1]))\n",
        "x = layers.LSTM(8, recurrent_dropout=0.2)(inputs)\n",
        "x = layers.Dropout(0.25)(x)\n",
        "outputs = layers.Dense(1)(x)\n",
        "model = keras.Model(inputs, outputs)\n",
        "\n",
        "callback = keras.callbacks.EarlyStopping(monitor='val_mae', patience=2, restore_best_weights=True)\n",
        "model.compile(optimizer=\"adam\", loss=\"mse\", metrics=[\"mae\"])\n",
        "history = model.fit(\n",
        "    train_dataset,\n",
        "    epochs=30,\n",
        "    validation_data=val_dataset,\n",
        "    callbacks=[callback]\n",
        ")\n",
        "\n",
        "print(f\"Test MAE: {model.evaluate(test_dataset)[1]:.2f}\")"
      ]
    },
    {
      "cell_type": "markdown",
      "id": "hj4ax_-n8G7f",
      "metadata": {
        "id": "hj4ax_-n8G7f"
      },
      "source": [
        "### Configuração 4"
      ]
    },
    {
      "cell_type": "code",
      "execution_count": null,
      "id": "zJyMv3VF6MR3",
      "metadata": {
        "colab": {
          "base_uri": "https://localhost:8080/"
        },
        "id": "zJyMv3VF6MR3",
        "outputId": "9b6ba7b1-3a2c-45b1-e438-af9c15e08b62"
      },
      "outputs": [
        {
          "name": "stdout",
          "output_type": "stream",
          "text": [
            "Epoch 1/30\n",
            "819/819 [==============================] - 169s 200ms/step - loss: 37.1557 - mae: 4.4714 - val_loss: 10.3338 - val_mae: 2.5039\n",
            "Epoch 2/30\n",
            "819/819 [==============================] - 180s 220ms/step - loss: 16.1115 - mae: 3.1095 - val_loss: 9.3212 - val_mae: 2.3818\n",
            "Epoch 3/30\n",
            "819/819 [==============================] - 182s 221ms/step - loss: 14.7121 - mae: 2.9710 - val_loss: 9.0971 - val_mae: 2.3442\n",
            "Epoch 4/30\n",
            "819/819 [==============================] - 189s 231ms/step - loss: 13.9447 - mae: 2.8936 - val_loss: 9.0212 - val_mae: 2.3406\n",
            "Epoch 5/30\n",
            "819/819 [==============================] - 183s 223ms/step - loss: 13.5836 - mae: 2.8619 - val_loss: 8.9977 - val_mae: 2.3358\n",
            "Epoch 6/30\n",
            "819/819 [==============================] - 184s 225ms/step - loss: 13.3869 - mae: 2.8396 - val_loss: 8.9327 - val_mae: 2.3264\n",
            "Epoch 7/30\n",
            "819/819 [==============================] - 165s 201ms/step - loss: 13.1872 - mae: 2.8214 - val_loss: 8.9402 - val_mae: 2.3262\n",
            "Epoch 8/30\n",
            "819/819 [==============================] - 178s 217ms/step - loss: 13.1546 - mae: 2.8160 - val_loss: 8.8460 - val_mae: 2.3138\n",
            "Epoch 9/30\n",
            "819/819 [==============================] - 181s 220ms/step - loss: 13.4464 - mae: 2.8445 - val_loss: 8.9866 - val_mae: 2.3345\n",
            "Epoch 10/30\n",
            "819/819 [==============================] - 166s 202ms/step - loss: 13.3796 - mae: 2.8392 - val_loss: 8.8761 - val_mae: 2.3200\n",
            "Epoch 11/30\n",
            "819/819 [==============================] - 163s 199ms/step - loss: 13.1377 - mae: 2.8112 - val_loss: 8.8888 - val_mae: 2.3194\n",
            "405/405 [==============================] - 26s 64ms/step - loss: 9.8781 - mae: 2.4505\n",
            "Test MAE: 2.45\n"
          ]
        }
      ],
      "source": [
        "inputs = keras.Input(shape=(sequence_length, raw_data.shape[-1]))\n",
        "x = layers.LSTM(8, recurrent_dropout=0.2)(inputs)\n",
        "x = layers.Dropout(0.25)(x)\n",
        "x = layers.Dense(8)(x)\n",
        "outputs = layers.Dense(1)(x)\n",
        "model = keras.Model(inputs, outputs)\n",
        "\n",
        "callback = keras.callbacks.EarlyStopping(monitor='val_mae', patience=3, restore_best_weights=True)\n",
        "model.compile(optimizer=\"adam\", loss=\"mse\", metrics=[\"mae\"])\n",
        "history = model.fit(\n",
        "    train_dataset,\n",
        "    epochs=30,\n",
        "    validation_data=val_dataset,\n",
        "    callbacks=[callback]\n",
        ")\n",
        "\n",
        "print(f\"Test MAE: {model.evaluate(test_dataset)[1]:.2f}\")"
      ]
    },
    {
      "cell_type": "markdown",
      "id": "82c8de33-0a2c-42c1-8f70-cc8c9763bdbc",
      "metadata": {
        "id": "82c8de33-0a2c-42c1-8f70-cc8c9763bdbc"
      },
      "source": [
        "## Stacked RNN layers"
      ]
    },
    {
      "cell_type": "markdown",
      "id": "WQV0cYBD8M0F",
      "metadata": {
        "id": "WQV0cYBD8M0F"
      },
      "source": [
        "### Configuração 1"
      ]
    },
    {
      "cell_type": "code",
      "execution_count": null,
      "id": "8365803a-8f16-4316-954d-8f16c51781ce",
      "metadata": {
        "id": "8365803a-8f16-4316-954d-8f16c51781ce",
        "outputId": "c88f3926-222e-411a-ce06-7650862a7d67"
      },
      "outputs": [
        {
          "name": "stdout",
          "output_type": "stream",
          "text": [
            "Epoch 1/50\n",
            "819/819 [==============================] - 142s 172ms/step - loss: 26.3065 - mae: 3.7720 - val_loss: 10.4601 - val_mae: 2.5255\n",
            "Epoch 2/50\n",
            "819/819 [==============================] - 142s 173ms/step - loss: 13.6321 - mae: 2.8568 - val_loss: 9.8368 - val_mae: 2.4439\n",
            "Epoch 3/50\n",
            "819/819 [==============================] - 142s 174ms/step - loss: 12.4769 - mae: 2.7306 - val_loss: 10.0937 - val_mae: 2.4758\n",
            "Epoch 4/50\n",
            "819/819 [==============================] - 142s 173ms/step - loss: 11.5680 - mae: 2.6314 - val_loss: 10.2498 - val_mae: 2.4925\n",
            "Epoch 5/50\n",
            "819/819 [==============================] - 142s 174ms/step - loss: 10.8748 - mae: 2.5471 - val_loss: 10.1394 - val_mae: 2.5081\n",
            "Epoch 6/50\n",
            "819/819 [==============================] - 142s 173ms/step - loss: 10.2750 - mae: 2.4737 - val_loss: 10.0864 - val_mae: 2.4920\n",
            "Epoch 7/50\n",
            "819/819 [==============================] - 141s 172ms/step - loss: 9.7846 - mae: 2.4076 - val_loss: 10.6001 - val_mae: 2.5501\n",
            "Epoch 8/50\n",
            "819/819 [==============================] - 139s 170ms/step - loss: 9.3922 - mae: 2.3601 - val_loss: 10.6510 - val_mae: 2.5692\n",
            "Epoch 9/50\n",
            "819/819 [==============================] - 141s 172ms/step - loss: 8.9404 - mae: 2.2999 - val_loss: 10.9773 - val_mae: 2.5932\n",
            "Epoch 10/50\n",
            "819/819 [==============================] - 140s 170ms/step - loss: 8.6574 - mae: 2.2655 - val_loss: 11.3586 - val_mae: 2.6371\n",
            "Epoch 11/50\n",
            "819/819 [==============================] - 140s 170ms/step - loss: 8.4142 - mae: 2.2319 - val_loss: 11.1094 - val_mae: 2.6124\n",
            "Epoch 12/50\n",
            "819/819 [==============================] - 142s 173ms/step - loss: 8.1694 - mae: 2.2004 - val_loss: 11.5219 - val_mae: 2.6586\n",
            "Epoch 13/50\n",
            "819/819 [==============================] - 140s 171ms/step - loss: 7.9609 - mae: 2.1709 - val_loss: 11.8258 - val_mae: 2.6806\n",
            "Epoch 14/50\n",
            "819/819 [==============================] - 140s 171ms/step - loss: 7.8007 - mae: 2.1473 - val_loss: 13.0895 - val_mae: 2.8206\n",
            "Epoch 15/50\n",
            "819/819 [==============================] - 141s 173ms/step - loss: 7.5901 - mae: 2.1214 - val_loss: 12.1801 - val_mae: 2.7294\n",
            "Epoch 16/50\n",
            "819/819 [==============================] - 141s 172ms/step - loss: 7.4490 - mae: 2.1023 - val_loss: 12.1479 - val_mae: 2.7228\n",
            "Epoch 17/50\n",
            "819/819 [==============================] - 139s 169ms/step - loss: 7.3272 - mae: 2.0835 - val_loss: 12.7319 - val_mae: 2.7754\n",
            "Epoch 18/50\n",
            "819/819 [==============================] - 140s 171ms/step - loss: 7.2533 - mae: 2.0731 - val_loss: 12.1029 - val_mae: 2.7123\n",
            "Epoch 19/50\n",
            "819/819 [==============================] - 141s 172ms/step - loss: 7.1240 - mae: 2.0552 - val_loss: 12.8268 - val_mae: 2.7811\n",
            "Epoch 20/50\n",
            "819/819 [==============================] - 141s 172ms/step - loss: 7.0556 - mae: 2.0477 - val_loss: 12.6850 - val_mae: 2.7784\n",
            "Epoch 21/50\n",
            "819/819 [==============================] - 140s 170ms/step - loss: 6.9584 - mae: 2.0315 - val_loss: 12.5669 - val_mae: 2.7749\n",
            "Epoch 22/50\n",
            "819/819 [==============================] - 140s 171ms/step - loss: 6.8556 - mae: 2.0179 - val_loss: 12.9356 - val_mae: 2.8067\n",
            "Epoch 23/50\n",
            "819/819 [==============================] - 140s 171ms/step - loss: 6.8056 - mae: 2.0102 - val_loss: 12.7644 - val_mae: 2.7842\n",
            "Epoch 24/50\n",
            "819/819 [==============================] - 141s 173ms/step - loss: 6.7773 - mae: 2.0065 - val_loss: 13.1535 - val_mae: 2.8188\n",
            "Epoch 25/50\n",
            "819/819 [==============================] - 141s 172ms/step - loss: 6.6992 - mae: 1.9936 - val_loss: 13.2938 - val_mae: 2.8355\n",
            "Epoch 26/50\n",
            "819/819 [==============================] - 141s 172ms/step - loss: 6.6554 - mae: 1.9873 - val_loss: 13.2655 - val_mae: 2.8414\n",
            "Epoch 27/50\n",
            "819/819 [==============================] - 141s 172ms/step - loss: 6.6186 - mae: 1.9837 - val_loss: 13.1195 - val_mae: 2.8130\n",
            "Epoch 28/50\n",
            "819/819 [==============================] - 141s 173ms/step - loss: 6.5635 - mae: 1.9718 - val_loss: 13.3040 - val_mae: 2.8359\n",
            "Epoch 29/50\n",
            "819/819 [==============================] - 141s 172ms/step - loss: 6.5572 - mae: 1.9697 - val_loss: 13.6681 - val_mae: 2.8652\n",
            "Epoch 30/50\n",
            "819/819 [==============================] - 141s 172ms/step - loss: 6.4822 - mae: 1.9591 - val_loss: 14.4361 - val_mae: 2.9505\n",
            "Epoch 31/50\n",
            "819/819 [==============================] - 142s 173ms/step - loss: 6.4020 - mae: 1.9474 - val_loss: 13.4338 - val_mae: 2.8571\n",
            "Epoch 32/50\n",
            "819/819 [==============================] - 141s 172ms/step - loss: 6.3847 - mae: 1.9452 - val_loss: 13.3704 - val_mae: 2.8499\n",
            "Epoch 33/50\n",
            "819/819 [==============================] - 140s 171ms/step - loss: 6.3396 - mae: 1.9391 - val_loss: 13.6615 - val_mae: 2.8778\n",
            "Epoch 34/50\n",
            "819/819 [==============================] - 142s 173ms/step - loss: 6.3528 - mae: 1.9408 - val_loss: 13.3966 - val_mae: 2.8438\n",
            "Epoch 35/50\n",
            "819/819 [==============================] - 141s 172ms/step - loss: 6.3412 - mae: 1.9352 - val_loss: 13.4609 - val_mae: 2.8472\n",
            "Epoch 36/50\n",
            "819/819 [==============================] - 142s 173ms/step - loss: 6.2659 - mae: 1.9280 - val_loss: 13.7229 - val_mae: 2.8792\n",
            "Epoch 37/50\n",
            "819/819 [==============================] - 143s 174ms/step - loss: 6.2014 - mae: 1.9170 - val_loss: 13.6815 - val_mae: 2.8606\n",
            "Epoch 38/50\n",
            "819/819 [==============================] - 143s 174ms/step - loss: 6.2579 - mae: 1.9225 - val_loss: 13.1754 - val_mae: 2.8218\n",
            "Epoch 39/50\n",
            "819/819 [==============================] - 141s 172ms/step - loss: 6.1861 - mae: 1.9135 - val_loss: 13.0011 - val_mae: 2.8012\n",
            "Epoch 40/50\n",
            "819/819 [==============================] - 143s 174ms/step - loss: 6.1892 - mae: 1.9137 - val_loss: 13.2382 - val_mae: 2.8257\n",
            "Epoch 41/50\n",
            "819/819 [==============================] - 142s 174ms/step - loss: 6.1916 - mae: 1.9120 - val_loss: 13.5207 - val_mae: 2.8681\n",
            "Epoch 42/50\n",
            "819/819 [==============================] - 142s 173ms/step - loss: 6.1344 - mae: 1.9015 - val_loss: 13.3125 - val_mae: 2.8368\n",
            "Epoch 43/50\n",
            "819/819 [==============================] - 141s 172ms/step - loss: 6.1292 - mae: 1.9029 - val_loss: 13.6502 - val_mae: 2.8716\n",
            "Epoch 44/50\n",
            "819/819 [==============================] - 141s 172ms/step - loss: 6.0728 - mae: 1.8940 - val_loss: 13.3789 - val_mae: 2.8401\n",
            "Epoch 45/50\n",
            "819/819 [==============================] - 141s 172ms/step - loss: 6.0962 - mae: 1.8965 - val_loss: 13.2277 - val_mae: 2.8279\n",
            "Epoch 46/50\n",
            "819/819 [==============================] - 142s 173ms/step - loss: 6.0400 - mae: 1.8890 - val_loss: 13.5379 - val_mae: 2.8645\n",
            "Epoch 47/50\n",
            "819/819 [==============================] - 142s 173ms/step - loss: 6.0469 - mae: 1.8866 - val_loss: 13.8006 - val_mae: 2.8986\n",
            "Epoch 48/50\n",
            "819/819 [==============================] - 141s 172ms/step - loss: 6.0015 - mae: 1.8814 - val_loss: 13.1317 - val_mae: 2.8231\n",
            "Epoch 49/50\n",
            "819/819 [==============================] - 143s 174ms/step - loss: 5.9943 - mae: 1.8801 - val_loss: 13.4202 - val_mae: 2.8557\n",
            "Epoch 50/50\n",
            "819/819 [==============================] - 142s 174ms/step - loss: 5.9636 - mae: 1.8747 - val_loss: 13.2854 - val_mae: 2.8374\n",
            "405/405 [==============================] - 13s 31ms/step - loss: 16.1800 - mae: 3.1329\n",
            "Test MAE: 3.13\n"
          ]
        }
      ],
      "source": [
        "inputs = keras.Input(shape=(sequence_length, raw_data.shape[-1]))\n",
        "x = layers.LSTM(32, recurrent_dropout=0.5, return_sequences=True)(inputs)\n",
        "x = layers.LSTM(32, recurrent_dropout=0.5)(x)\n",
        "x = layers.Dropout(0.5)(x)\n",
        "outputs = layers.Dense(1)(x)\n",
        "model = keras.Model(inputs, outputs)\n",
        "\n",
        "model.compile(optimizer=\"rmsprop\", loss=\"mse\", metrics=[\"mae\"])\n",
        "\n",
        "history = model.fit(\n",
        "    train_dataset,\n",
        "    epochs=50,\n",
        "    validation_data=val_dataset,\n",
        ")\n",
        "print(f\"Test MAE: {model.evaluate(test_dataset)[1]:.2f}\")"
      ]
    },
    {
      "cell_type": "code",
      "execution_count": null,
      "id": "r1I8VGuWaqTF",
      "metadata": {
        "id": "r1I8VGuWaqTF"
      },
      "outputs": [],
      "source": [
        "del model"
      ]
    },
    {
      "cell_type": "markdown",
      "id": "oWJb1sWu8PGA",
      "metadata": {
        "id": "oWJb1sWu8PGA"
      },
      "source": [
        "### Configuração 2"
      ]
    },
    {
      "cell_type": "code",
      "execution_count": null,
      "id": "72q8Wp-hO0Oc",
      "metadata": {
        "id": "72q8Wp-hO0Oc"
      },
      "outputs": [],
      "source": [
        "inputs = keras.Input(shape=(sequence_length, raw_data.shape[-1]))\n",
        "x = layers.LSTM(16, return_sequences=True)(inputs)\n",
        "x = layers.LSTM(16)(x)\n",
        "outputs = layers.Dense(1)(x)\n",
        "model = keras.Model(inputs, outputs)"
      ]
    },
    {
      "cell_type": "code",
      "execution_count": null,
      "id": "86R-YTtHO_Yc",
      "metadata": {
        "colab": {
          "base_uri": "https://localhost:8080/"
        },
        "id": "86R-YTtHO_Yc",
        "outputId": "e45bdcb5-2334-4eb4-c6bd-3f89b8d082e3"
      },
      "outputs": [
        {
          "name": "stdout",
          "output_type": "stream",
          "text": [
            "Epoch 1/10\n",
            "819/819 [==============================] - 200s 239ms/step - loss: 47.1564 - mae: 5.0548 - val_loss: 19.6436 - val_mae: 3.2688\n",
            "Epoch 2/10\n",
            "819/819 [==============================] - 195s 238ms/step - loss: 14.3086 - mae: 2.8275 - val_loss: 12.2526 - val_mae: 2.6517\n",
            "Epoch 3/10\n",
            "819/819 [==============================] - 193s 235ms/step - loss: 10.1398 - mae: 2.4359 - val_loss: 11.0754 - val_mae: 2.5620\n",
            "Epoch 4/10\n",
            "819/819 [==============================] - 188s 230ms/step - loss: 8.7724 - mae: 2.2871 - val_loss: 10.9873 - val_mae: 2.5645\n",
            "Epoch 5/10\n",
            "819/819 [==============================] - 196s 239ms/step - loss: 7.9487 - mae: 2.1864 - val_loss: 10.8130 - val_mae: 2.5580\n",
            "Epoch 6/10\n",
            "819/819 [==============================] - 193s 236ms/step - loss: 7.6039 - mae: 2.1466 - val_loss: 10.9756 - val_mae: 2.5867\n",
            "Epoch 7/10\n",
            "819/819 [==============================] - 194s 236ms/step - loss: 7.1138 - mae: 2.0773 - val_loss: 11.3167 - val_mae: 2.6187\n",
            "Epoch 8/10\n",
            "819/819 [==============================] - 190s 232ms/step - loss: 6.7096 - mae: 2.0166 - val_loss: 11.4136 - val_mae: 2.6314\n",
            "Epoch 9/10\n",
            "819/819 [==============================] - 193s 235ms/step - loss: 6.5855 - mae: 1.9987 - val_loss: 11.6615 - val_mae: 2.6584\n",
            "Epoch 10/10\n",
            "819/819 [==============================] - 190s 232ms/step - loss: 6.6416 - mae: 2.0027 - val_loss: 11.7826 - val_mae: 2.6506\n",
            "405/405 [==============================] - 38s 93ms/step - loss: 12.6353 - mae: 2.7865\n",
            "Test MAE: 2.79\n"
          ]
        }
      ],
      "source": [
        "model.compile(optimizer=\"adam\", loss=\"mse\", metrics=[\"mae\"])\n",
        "history = model.fit(\n",
        "    train_dataset,\n",
        "    epochs=10,\n",
        "    validation_data=val_dataset,\n",
        ")\n",
        "print(f\"Test MAE: {model.evaluate(test_dataset)[1]:.2f}\")"
      ]
    },
    {
      "cell_type": "code",
      "execution_count": null,
      "id": "lDuvU_-Hj9oE",
      "metadata": {
        "id": "lDuvU_-Hj9oE"
      },
      "outputs": [],
      "source": [
        "del model"
      ]
    },
    {
      "cell_type": "markdown",
      "id": "rFePpqpQ8Q6a",
      "metadata": {
        "id": "rFePpqpQ8Q6a"
      },
      "source": [
        "### Configuração 3"
      ]
    },
    {
      "cell_type": "code",
      "execution_count": null,
      "id": "p4OoOaK9he1Y",
      "metadata": {
        "colab": {
          "base_uri": "https://localhost:8080/"
        },
        "id": "p4OoOaK9he1Y",
        "outputId": "6421b7dc-e98e-4a4d-97be-0797a4c6358e"
      },
      "outputs": [
        {
          "name": "stderr",
          "output_type": "stream",
          "text": [
            "WARNING:tensorflow:Layer lstm_2 will not use cuDNN kernels since it doesn't meet the criteria. It will use a generic GPU kernel as fallback when running on GPU.\n"
          ]
        },
        {
          "name": "stdout",
          "output_type": "stream",
          "text": [
            "Epoch 1/30\n",
            "819/819 [==============================] - 258s 309ms/step - loss: 2387.2024 - mae: 9.0823 - val_loss: 108.3157 - val_mae: 8.4966\n",
            "Epoch 2/30\n",
            "819/819 [==============================] - 254s 309ms/step - loss: 103.1377 - mae: 8.1902 - val_loss: 95.4653 - val_mae: 7.8744\n",
            "Epoch 3/30\n",
            "819/819 [==============================] - 254s 310ms/step - loss: nan - mae: nan - val_loss: nan - val_mae: nan\n",
            "Epoch 4/30\n",
            "819/819 [==============================] - 252s 308ms/step - loss: nan - mae: nan - val_loss: nan - val_mae: nan\n",
            "Epoch 5/30\n",
            "819/819 [==============================] - 254s 310ms/step - loss: nan - mae: nan - val_loss: nan - val_mae: nan\n",
            "Epoch 6/30\n",
            "819/819 [==============================] - 253s 309ms/step - loss: nan - mae: nan - val_loss: nan - val_mae: nan\n",
            "Epoch 7/30\n",
            "819/819 [==============================] - 253s 309ms/step - loss: nan - mae: nan - val_loss: nan - val_mae: nan\n",
            "405/405 [==============================] - 23s 56ms/step - loss: 100.2244 - mae: 7.8608\n",
            "Test MAE: 7.86\n"
          ]
        }
      ],
      "source": [
        "inputs = keras.Input(shape=(sequence_length, raw_data.shape[-1]))\n",
        "x = layers.LSTM(32, return_sequences=True)(inputs)\n",
        "x = layers.LSTM(16, activation='relu')(x)\n",
        "outputs = layers.Dense(1)(x)\n",
        "model = keras.Model(inputs, outputs)\n",
        "\n",
        "callback = keras.callbacks.EarlyStopping(monitor='val_mae', patience=5, restore_best_weights=True)\n",
        "model.compile(optimizer=\"adam\", loss=\"mse\", metrics=[\"mae\"])\n",
        "history = model.fit(\n",
        "    train_dataset,\n",
        "    epochs=30,\n",
        "    validation_data=val_dataset,\n",
        "    callbacks=[callback]\n",
        ")\n",
        "\n",
        "print(f\"Test MAE: {model.evaluate(test_dataset)[1]:.2f}\")"
      ]
    },
    {
      "cell_type": "code",
      "execution_count": null,
      "id": "F5l_j1i7kErG",
      "metadata": {
        "id": "F5l_j1i7kErG"
      },
      "outputs": [],
      "source": [
        "del model"
      ]
    },
    {
      "cell_type": "markdown",
      "id": "UXzCkk9W8SWd",
      "metadata": {
        "id": "UXzCkk9W8SWd"
      },
      "source": [
        "### Configuração 4"
      ]
    },
    {
      "cell_type": "code",
      "execution_count": null,
      "id": "_2Q6gAqahtYY",
      "metadata": {
        "colab": {
          "base_uri": "https://localhost:8080/"
        },
        "id": "_2Q6gAqahtYY",
        "outputId": "223e65e0-9853-4835-9f43-5d53be940e95"
      },
      "outputs": [
        {
          "name": "stderr",
          "output_type": "stream",
          "text": [
            "WARNING:tensorflow:Layer lstm_3 will not use cuDNN kernels since it doesn't meet the criteria. It will use a generic GPU kernel as fallback when running on GPU.\n"
          ]
        },
        {
          "name": "stdout",
          "output_type": "stream",
          "text": [
            "Epoch 1/30\n",
            "819/819 [==============================] - 465s 563ms/step - loss: 43.5282 - mae: 4.8399 - val_loss: 17.7432 - val_mae: 3.1058\n",
            "Epoch 2/30\n",
            "819/819 [==============================] - 448s 546ms/step - loss: 15.6729 - mae: 2.9901 - val_loss: 11.6195 - val_mae: 2.6060\n",
            "Epoch 3/30\n",
            "819/819 [==============================] - 446s 544ms/step - loss: 12.2537 - mae: 2.6809 - val_loss: 10.9882 - val_mae: 2.5697\n",
            "Epoch 4/30\n",
            "819/819 [==============================] - 444s 542ms/step - loss: 10.9195 - mae: 2.5372 - val_loss: 10.5718 - val_mae: 2.5275\n",
            "Epoch 5/30\n",
            "819/819 [==============================] - 444s 542ms/step - loss: 10.0174 - mae: 2.4323 - val_loss: 11.4089 - val_mae: 2.6244\n",
            "Epoch 6/30\n",
            "819/819 [==============================] - 444s 542ms/step - loss: 9.2910 - mae: 2.3417 - val_loss: 11.3010 - val_mae: 2.6281\n",
            "Epoch 7/30\n",
            "819/819 [==============================] - 441s 538ms/step - loss: 8.7883 - mae: 2.2699 - val_loss: 11.3635 - val_mae: 2.6395\n",
            "Epoch 8/30\n",
            "819/819 [==============================] - 440s 537ms/step - loss: 8.2411 - mae: 2.1989 - val_loss: 12.3575 - val_mae: 2.7603\n",
            "Epoch 9/30\n",
            "819/819 [==============================] - 443s 541ms/step - loss: 7.8819 - mae: 2.1510 - val_loss: 12.0909 - val_mae: 2.7233\n",
            "405/405 [==============================] - 32s 78ms/step - loss: 11.9193 - mae: 2.7126\n",
            "Test MAE: 2.71\n"
          ]
        }
      ],
      "source": [
        "inputs = keras.Input(shape=(sequence_length, raw_data.shape[-1]))\n",
        "x = layers.LSTM(32, recurrent_dropout=0.25, return_sequences=True)(inputs)\n",
        "x = layers.LSTM(16)(x)\n",
        "x = layers.Dropout(0.25)(x)\n",
        "outputs = layers.Dense(1)(x)\n",
        "model = keras.Model(inputs, outputs)\n",
        "\n",
        "callback = keras.callbacks.EarlyStopping(monitor='val_mae', patience=5, restore_best_weights=True)\n",
        "model.compile(optimizer=\"adam\", loss=\"mse\", metrics=[\"mae\"])\n",
        "history = model.fit(\n",
        "    train_dataset,\n",
        "    epochs=30,\n",
        "    validation_data=val_dataset,\n",
        "    callbacks=[callback]\n",
        ")\n",
        "\n",
        "model.save(\"Stacked_RNN4.h5\")\n",
        "\n",
        "print(f\"Test MAE: {model.evaluate(test_dataset)[1]:.2f}\")\n"
      ]
    },
    {
      "cell_type": "code",
      "execution_count": null,
      "id": "18EBW5fzuUNN",
      "metadata": {
        "id": "18EBW5fzuUNN"
      },
      "outputs": [],
      "source": [
        "del model"
      ]
    },
    {
      "cell_type": "markdown",
      "id": "lfw4Qa3Q8UhF",
      "metadata": {
        "id": "lfw4Qa3Q8UhF"
      },
      "source": [
        "### Configuração 5"
      ]
    },
    {
      "cell_type": "code",
      "execution_count": null,
      "id": "3VoMmzdeuVpm",
      "metadata": {
        "colab": {
          "base_uri": "https://localhost:8080/"
        },
        "id": "3VoMmzdeuVpm",
        "outputId": "7da00e71-141b-47d1-9282-673c4dd1a27f"
      },
      "outputs": [
        {
          "name": "stderr",
          "output_type": "stream",
          "text": [
            "WARNING:tensorflow:Layer lstm_5 will not use cuDNN kernels since it doesn't meet the criteria. It will use a generic GPU kernel as fallback when running on GPU.\n"
          ]
        },
        {
          "name": "stdout",
          "output_type": "stream",
          "text": [
            "Epoch 1/30\n",
            "819/819 [==============================] - 453s 546ms/step - loss: 24.1843 - mae: 3.5773 - val_loss: 10.6160 - val_mae: 2.5010\n",
            "Epoch 2/30\n",
            "819/819 [==============================] - 442s 539ms/step - loss: 10.4992 - mae: 2.5087 - val_loss: 10.6794 - val_mae: 2.5279\n",
            "Epoch 3/30\n",
            "819/819 [==============================] - 455s 556ms/step - loss: 8.4326 - mae: 2.2547 - val_loss: 11.2108 - val_mae: 2.6159\n",
            "Epoch 4/30\n",
            "819/819 [==============================] - 445s 542ms/step - loss: 7.2057 - mae: 2.0806 - val_loss: 11.2794 - val_mae: 2.6138\n",
            "Epoch 5/30\n",
            "819/819 [==============================] - 446s 545ms/step - loss: 6.2728 - mae: 1.9309 - val_loss: 11.6941 - val_mae: 2.6739\n",
            "Epoch 6/30\n",
            "819/819 [==============================] - 445s 543ms/step - loss: 5.5918 - mae: 1.8209 - val_loss: 11.8862 - val_mae: 2.6952\n",
            "405/405 [==============================] - 32s 78ms/step - loss: 12.6001 - mae: 2.7152\n",
            "Test MAE: 2.72\n"
          ]
        }
      ],
      "source": [
        "inputs = keras.Input(shape=(sequence_length, raw_data.shape[-1]))\n",
        "x = layers.LSTM(48, recurrent_dropout=0.2, return_sequences=True)(inputs)\n",
        "x = layers.LSTM(32)(x)\n",
        "x = layers.Dropout(0.25)(x)\n",
        "outputs = layers.Dense(1)(x)\n",
        "model = keras.Model(inputs, outputs)\n",
        "\n",
        "callback = keras.callbacks.EarlyStopping(monitor='val_mae', patience=2, restore_best_weights=True)\n",
        "model.compile(optimizer=\"adam\", loss=\"mse\", metrics=[\"mae\"])\n",
        "history = model.fit(\n",
        "    train_dataset,\n",
        "    epochs=30,\n",
        "    validation_data=val_dataset,\n",
        "    callbacks=[callback]\n",
        ")\n",
        "\n",
        "model.save(\"Stacked_RNN5.h5\")\n",
        "\n",
        "print(f\"Test MAE: {model.evaluate(test_dataset)[1]:.2f}\")\n"
      ]
    },
    {
      "cell_type": "code",
      "execution_count": null,
      "id": "dEferBEFlK6s",
      "metadata": {
        "id": "dEferBEFlK6s"
      },
      "outputs": [],
      "source": [
        "del model"
      ]
    },
    {
      "cell_type": "markdown",
      "id": "MiWM6ODc8V85",
      "metadata": {
        "id": "MiWM6ODc8V85"
      },
      "source": [
        "### Configuração 6"
      ]
    },
    {
      "cell_type": "code",
      "execution_count": null,
      "id": "D2hUZG05l7Et",
      "metadata": {
        "colab": {
          "base_uri": "https://localhost:8080/"
        },
        "id": "D2hUZG05l7Et",
        "outputId": "ebfa701a-d3bf-485f-9410-4920e48dd74c"
      },
      "outputs": [
        {
          "name": "stdout",
          "output_type": "stream",
          "text": [
            "Epoch 1/30\n",
            "819/819 [==============================] - 1942s 2s/step - loss: 17.3138 - mae: 3.0188 - val_loss: 10.7417 - val_mae: 2.5664\n",
            "Epoch 2/30\n",
            "819/819 [==============================] - 1911s 2s/step - loss: 5.5938 - mae: 1.8159 - val_loss: 12.9826 - val_mae: 2.8100\n",
            "Epoch 3/30\n",
            "819/819 [==============================] - 1902s 2s/step - loss: 3.1489 - mae: 1.3531 - val_loss: 13.3732 - val_mae: 2.8606\n",
            "405/405 [==============================] - 229s 564ms/step - loss: 12.5497 - mae: 2.7822\n",
            "Test MAE: 2.78\n"
          ]
        }
      ],
      "source": [
        "inputs = keras.Input(shape=(sequence_length, raw_data.shape[-1]))\n",
        "x = layers.LSTM(100, recurrent_dropout=0.5, return_sequences=True)(inputs)\n",
        "x = layers.LSTM(100, recurrent_dropout=0.4, return_sequences=True)(x)\n",
        "x = layers.LSTM(50)(x)\n",
        "outputs = layers.Dense(8, activation = 'relu')(x)\n",
        "outputs = layers.Dense(1, activation = 'linear')(x)\n",
        "\n",
        "model = keras.Model(inputs, outputs)\n",
        "\n",
        "callback = keras.callbacks.EarlyStopping(monitor='val_mae', patience=2, restore_best_weights=True)\n",
        "model.compile(optimizer=\"adam\", loss=\"mse\", metrics=[\"mae\"])\n",
        "history = model.fit(\n",
        "    train_dataset,\n",
        "    epochs=30,\n",
        "    validation_data=val_dataset,\n",
        "    callbacks=[callback]\n",
        ")\n",
        "\n",
        "model.save(\"Stacked_RNN7.h5\")\n",
        "\n",
        "print(f\"Test MAE: {model.evaluate(test_dataset)[1]:.2f}\")\n"
      ]
    },
    {
      "cell_type": "code",
      "execution_count": null,
      "id": "00lwsNKwlXsc",
      "metadata": {
        "id": "00lwsNKwlXsc"
      },
      "outputs": [],
      "source": [
        "del model"
      ]
    },
    {
      "cell_type": "markdown",
      "id": "vJZyywe78ZN6",
      "metadata": {
        "id": "vJZyywe78ZN6"
      },
      "source": [
        "### Configuração 7"
      ]
    },
    {
      "cell_type": "code",
      "execution_count": null,
      "id": "WE61zXJXwvIa",
      "metadata": {
        "colab": {
          "base_uri": "https://localhost:8080/"
        },
        "id": "WE61zXJXwvIa",
        "outputId": "97ed8105-1ace-4879-82f0-d0378359df6b"
      },
      "outputs": [
        {
          "name": "stderr",
          "output_type": "stream",
          "text": [
            "WARNING:tensorflow:Layer lstm will not use cuDNN kernels since it doesn't meet the criteria. It will use a generic GPU kernel as fallback when running on GPU.\n",
            "WARNING:tensorflow:Layer lstm_1 will not use cuDNN kernels since it doesn't meet the criteria. It will use a generic GPU kernel as fallback when running on GPU.\n"
          ]
        },
        {
          "name": "stdout",
          "output_type": "stream",
          "text": [
            "Epoch 1/30\n",
            "819/819 [==============================] - 840s 1s/step - loss: 84.7308 - mae: 7.1743 - val_loss: 59.6336 - val_mae: 5.9336\n",
            "Epoch 2/30\n",
            "819/819 [==============================] - 845s 1s/step - loss: 48.6408 - mae: 5.2211 - val_loss: 36.2487 - val_mae: 4.4684\n",
            "Epoch 3/30\n",
            "819/819 [==============================] - 832s 1s/step - loss: 33.7966 - mae: 4.3018 - val_loss: 24.2415 - val_mae: 3.5999\n",
            "Epoch 4/30\n",
            "819/819 [==============================] - 845s 1s/step - loss: 26.3466 - mae: 3.8016 - val_loss: 17.9468 - val_mae: 3.1168\n",
            "Epoch 5/30\n",
            "819/819 [==============================] - 814s 993ms/step - loss: 22.3311 - mae: 3.5187 - val_loss: 14.7890 - val_mae: 2.8614\n",
            "Epoch 6/30\n",
            "819/819 [==============================] - 802s 979ms/step - loss: 20.0482 - mae: 3.3554 - val_loss: 12.9958 - val_mae: 2.7234\n",
            "Epoch 7/30\n",
            "819/819 [==============================] - 804s 981ms/step - loss: 18.5143 - mae: 3.2440 - val_loss: 11.7850 - val_mae: 2.6193\n",
            "Epoch 8/30\n",
            "819/819 [==============================] - 794s 970ms/step - loss: 17.3488 - mae: 3.1557 - val_loss: 11.4149 - val_mae: 2.5870\n",
            "Epoch 9/30\n",
            "819/819 [==============================] - 794s 968ms/step - loss: 16.7549 - mae: 3.1094 - val_loss: 10.9397 - val_mae: 2.5442\n",
            "Epoch 10/30\n",
            "819/819 [==============================] - 794s 969ms/step - loss: 16.0382 - mae: 3.0473 - val_loss: 10.9156 - val_mae: 2.5514\n",
            "Epoch 11/30\n",
            "819/819 [==============================] - 812s 992ms/step - loss: 15.6457 - mae: 3.0127 - val_loss: 10.4487 - val_mae: 2.5100\n",
            "Epoch 12/30\n",
            "819/819 [==============================] - 822s 1s/step - loss: 15.1210 - mae: 2.9666 - val_loss: 10.8265 - val_mae: 2.5496\n",
            "Epoch 13/30\n",
            "819/819 [==============================] - 788s 962ms/step - loss: 14.7890 - mae: 2.9390 - val_loss: 10.9779 - val_mae: 2.5801\n"
          ]
        },
        {
          "name": "stderr",
          "output_type": "stream",
          "text": [
            "/usr/local/lib/python3.10/dist-packages/keras/src/engine/training.py:3079: UserWarning: You are saving your model as an HDF5 file via `model.save()`. This file format is considered legacy. We recommend using instead the native Keras format, e.g. `model.save('my_model.keras')`.\n",
            "  saving_api.save_model(\n"
          ]
        },
        {
          "name": "stdout",
          "output_type": "stream",
          "text": [
            "405/405 [==============================] - 42s 102ms/step - loss: 11.8655 - mae: 2.6979\n",
            "Test MAE: 2.70\n"
          ]
        }
      ],
      "source": [
        "inputs = keras.Input(shape=(sequence_length, raw_data.shape[-1]))\n",
        "x = layers.LSTM(16, recurrent_dropout=0.25, return_sequences=True)(inputs)\n",
        "x = layers.Dropout(0.25)(x)\n",
        "x = layers.LSTM(8, recurrent_dropout=0.25, return_sequences=True)(x)\n",
        "x = layers.Dropout(0.5)(x)\n",
        "x = layers.LSTM(4)(x)\n",
        "x = layers.Dropout(0.25)(x)\n",
        "outputs = layers.Dense(1, activation = 'linear')(x)\n",
        "\n",
        "model = keras.Model(inputs, outputs)\n",
        "\n",
        "callback = keras.callbacks.EarlyStopping(monitor='val_mae', patience=2, restore_best_weights=True)\n",
        "model.compile(optimizer=\"adam\", loss=\"mse\", metrics=[\"mae\"])\n",
        "history = model.fit(\n",
        "    train_dataset,\n",
        "    epochs=30,\n",
        "    validation_data=val_dataset,\n",
        "    callbacks=[callback]\n",
        ")\n",
        "\n",
        "model.save(\"/content/drive/MyDrive/Colab Notebooks/Stacked_RNN8.h5\")\n",
        "\n",
        "print(f\"Test MAE: {model.evaluate(test_dataset)[1]:.2f}\")\n"
      ]
    },
    {
      "cell_type": "code",
      "execution_count": null,
      "id": "vkBivtKte4Wx",
      "metadata": {
        "colab": {
          "base_uri": "https://localhost:8080/",
          "height": 452
        },
        "id": "vkBivtKte4Wx",
        "outputId": "96e0c257-e6ee-4a67-d321-7fda297285ca"
      },
      "outputs": [
        {
          "data": {
            "image/png": "[encoded data removed]",
            "text/plain": [
              "<Figure size 640x480 with 1 Axes>"
            ]
          },
          "metadata": {},
          "output_type": "display_data"
        }
      ],
      "source": [
        "loss = history.history[\"mae\"]\n",
        "val_loss = history.history[\"val_mae\"]\n",
        "epochs = range(1, len(loss) + 1)\n",
        "plt.figure()\n",
        "plt.plot(epochs, loss, \"bo\", label=\"Training MAE\")\n",
        "plt.plot(epochs, val_loss, \"b\", label=\"Validation MAE\")\n",
        "plt.title(\"Training and validation MAE\")\n",
        "plt.legend()\n",
        "plt.show()"
      ]
    },
    {
      "cell_type": "markdown",
      "id": "G0RUODmSHbmj",
      "metadata": {
        "id": "G0RUODmSHbmj"
      },
      "source": [
        "# Bidirectional RNNs\n",
        "\n",
        "Referência retirada do livro"
      ]
    },
    {
      "cell_type": "code",
      "execution_count": null,
      "id": "zEQ9_5ijHbL7",
      "metadata": {
        "colab": {
          "base_uri": "https://localhost:8080/"
        },
        "id": "zEQ9_5ijHbL7",
        "outputId": "7563c69d-5333-4a30-8386-c38a5ae1fc1d"
      },
      "outputs": [
        {
          "name": "stdout",
          "output_type": "stream",
          "text": [
            "Epoch 1/10\n",
            "819/819 [==============================] - 60s 62ms/step - loss: 26.2752 - mae: 3.6751 - val_loss: 10.0945 - val_mae: 2.4548\n",
            "Epoch 2/10\n",
            "819/819 [==============================] - 49s 60ms/step - loss: 9.5234 - mae: 2.4087 - val_loss: 9.1801 - val_mae: 2.3417\n",
            "Epoch 3/10\n",
            "819/819 [==============================] - 55s 67ms/step - loss: 8.6512 - mae: 2.2890 - val_loss: 9.9094 - val_mae: 2.4250\n",
            "Epoch 4/10\n",
            "819/819 [==============================] - 49s 60ms/step - loss: 8.0588 - mae: 2.2088 - val_loss: 10.0163 - val_mae: 2.4443\n",
            "Epoch 5/10\n",
            "819/819 [==============================] - 56s 68ms/step - loss: 7.6720 - mae: 2.1568 - val_loss: 9.8989 - val_mae: 2.4303\n",
            "Epoch 6/10\n",
            "819/819 [==============================] - 49s 60ms/step - loss: 7.3898 - mae: 2.1164 - val_loss: 10.0948 - val_mae: 2.4496\n",
            "Epoch 7/10\n",
            "819/819 [==============================] - 51s 63ms/step - loss: 7.0948 - mae: 2.0736 - val_loss: 10.4633 - val_mae: 2.5125\n",
            "Epoch 8/10\n",
            "819/819 [==============================] - 52s 63ms/step - loss: 6.8562 - mae: 2.0417 - val_loss: 10.4285 - val_mae: 2.5017\n",
            "Epoch 9/10\n",
            "819/819 [==============================] - 49s 60ms/step - loss: 6.6320 - mae: 2.0075 - val_loss: 10.9012 - val_mae: 2.5653\n",
            "Epoch 10/10\n",
            "819/819 [==============================] - 48s 59ms/step - loss: 6.4259 - mae: 1.9746 - val_loss: 11.5496 - val_mae: 2.6277\n"
          ]
        }
      ],
      "source": [
        "inputs = keras.Input(shape=(sequence_length, raw_data.shape[-1]))\n",
        "x = layers.Bidirectional(layers.LSTM(16))(inputs)\n",
        "outputs = layers.Dense(1)(x)\n",
        "model = keras.Model(inputs, outputs)\n",
        "\n",
        "model.compile(optimizer=\"rmsprop\", loss=\"mse\", metrics=[\"mae\"])\n",
        "history = model.fit(train_dataset,\n",
        "                    epochs=10,\n",
        "                    validation_data=val_dataset)"
      ]
    },
    {
      "cell_type": "code",
      "execution_count": null,
      "id": "ZBUEhYw1O1u4",
      "metadata": {
        "colab": {
          "base_uri": "https://localhost:8080/"
        },
        "id": "ZBUEhYw1O1u4",
        "outputId": "d3875263-6e63-4f4c-e5e6-5284097dfef7"
      },
      "outputs": [
        {
          "name": "stdout",
          "output_type": "stream",
          "text": [
            "405/405 [==============================] - 18s 43ms/step - loss: 11.6132 - mae: 2.6949\n",
            "Test MAE: 2.69\n"
          ]
        }
      ],
      "source": [
        "# evaluate the model\n",
        "print(f\"Test MAE: {model.evaluate(test_dataset)[1]:.2f}\")"
      ]
    },
    {
      "cell_type": "code",
      "execution_count": null,
      "id": "kb8SDLwxO8hc",
      "metadata": {
        "id": "kb8SDLwxO8hc"
      },
      "outputs": [],
      "source": [
        "del model"
      ]
    },
    {
      "cell_type": "markdown",
      "id": "diyU4Gh3OsJq",
      "metadata": {
        "id": "diyU4Gh3OsJq"
      },
      "source": [
        "# Transformer"
      ]
    },
    {
      "cell_type": "markdown",
      "id": "L6uQfZWEpYjI",
      "metadata": {
        "id": "L6uQfZWEpYjI"
      },
      "source": [
        "## Configuração base"
      ]
    },
    {
      "cell_type": "code",
      "execution_count": null,
      "id": "ewP5aH8GOumW",
      "metadata": {
        "colab": {
          "base_uri": "https://localhost:8080/"
        },
        "id": "ewP5aH8GOumW",
        "outputId": "f5f79f57-9959-4d50-952a-323ba6c932fe"
      },
      "outputs": [
        {
          "name": "stdout",
          "output_type": "stream",
          "text": [
            "Epoch 1/10\n",
            "819/819 [==============================] - 70s 62ms/step - loss: 35.5867 - mae: 4.4512 - val_loss: 25.9196 - val_mae: 4.0109\n",
            "Epoch 2/10\n",
            "819/819 [==============================] - 58s 70ms/step - loss: 21.2796 - mae: 3.5406 - val_loss: 30.3503 - val_mae: 4.3168\n",
            "Epoch 3/10\n",
            "819/819 [==============================] - 60s 73ms/step - loss: 19.8890 - mae: 3.4241 - val_loss: 31.3125 - val_mae: 4.4128\n",
            "Epoch 4/10\n",
            "819/819 [==============================] - 58s 70ms/step - loss: 19.0242 - mae: 3.3360 - val_loss: 33.6845 - val_mae: 4.5402\n",
            "Epoch 5/10\n",
            "819/819 [==============================] - 65s 79ms/step - loss: 18.1528 - mae: 3.2632 - val_loss: 32.6721 - val_mae: 4.4925\n",
            "Epoch 6/10\n",
            "819/819 [==============================] - 59s 72ms/step - loss: 17.3538 - mae: 3.1830 - val_loss: 35.4327 - val_mae: 4.6319\n",
            "Epoch 7/10\n",
            "819/819 [==============================] - 52s 63ms/step - loss: 16.7043 - mae: 3.1276 - val_loss: 27.9726 - val_mae: 4.1410\n",
            "Epoch 8/10\n",
            "819/819 [==============================] - 49s 60ms/step - loss: 16.1352 - mae: 3.0744 - val_loss: 31.6450 - val_mae: 4.3927\n",
            "Epoch 9/10\n",
            "819/819 [==============================] - 50s 61ms/step - loss: 15.5514 - mae: 3.0166 - val_loss: 28.9334 - val_mae: 4.2583\n",
            "Epoch 10/10\n",
            "819/819 [==============================] - 50s 61ms/step - loss: 15.3405 - mae: 2.9979 - val_loss: 24.9492 - val_mae: 3.9017\n",
            "405/405 [==============================] - 16s 38ms/step - loss: 23.8268 - mae: 3.8251\n",
            "Test MAE: 3.83\n"
          ]
        }
      ],
      "source": [
        "# using tranformer for time series\n",
        "def transformer_encoder(inputs, head_size, num_heads, ff_dim, dropout=0):\n",
        "    x = layers.MultiHeadAttention(key_dim=head_size, num_heads=num_heads)(inputs, inputs)\n",
        "    x = layers.Dropout(dropout)(x)\n",
        "    x = layers.Add()([inputs, x])\n",
        "    x = layers.LayerNormalization()(x)\n",
        "    x = layers.Conv1D(filters=ff_dim, kernel_size=1, activation=\"relu\")(x)\n",
        "    x = layers.Conv1D(filters=inputs.shape[-1], kernel_size=1)(x)\n",
        "    x = layers.Dropout(dropout)(x)\n",
        "    x = layers.Add()([inputs, x])\n",
        "    x = layers.LayerNormalization()(x)\n",
        "    return x\n",
        "\n",
        "def build_model(\n",
        "    input_shape,\n",
        "    head_size,\n",
        "    num_heads,\n",
        "    ff_dim,\n",
        "    num_transformer_blocks,\n",
        "    mlp_units,\n",
        "    dropout=0,\n",
        "    mlp_dropout=0,\n",
        "    ):\n",
        "\n",
        "    inputs = keras.Input(shape=input_shape)\n",
        "    x = inputs\n",
        "    for _ in range(num_transformer_blocks):\n",
        "        x = transformer_encoder(x, head_size, num_heads, ff_dim, dropout)\n",
        "    x = layers.GlobalAveragePooling1D(data_format=\"channels_first\")(x)\n",
        "    for dim in mlp_units:\n",
        "        x = layers.Dense(dim, activation=\"relu\")(x)\n",
        "        x = layers.Dropout(mlp_dropout)(x)\n",
        "    outputs = layers.Dense(1)(x)\n",
        "    return keras.Model(inputs, outputs)\n",
        "\n",
        "input_shape = (sequence_length, raw_data.shape[-1])\n",
        "model = build_model(\n",
        "    input_shape,\n",
        "    head_size=32,\n",
        "    num_heads=2,\n",
        "    ff_dim=32,\n",
        "    num_transformer_blocks=2,\n",
        "    mlp_units=[32],\n",
        "    mlp_dropout=0.6,\n",
        "    dropout=0.6,\n",
        ")\n",
        "\n",
        "model.compile(optimizer=\"adam\", loss=\"mse\", metrics=[\"mae\"])\n",
        "\n",
        "history = model.fit(\n",
        "    train_dataset,\n",
        "    epochs=10,\n",
        "    validation_data=val_dataset,\n",
        ")\n",
        "\n",
        "print(f\"Test MAE: {model.evaluate(test_dataset)[1]:.2f}\")\n"
      ]
    },
    {
      "cell_type": "markdown",
      "id": "_zukMH8SpcmQ",
      "metadata": {
        "id": "_zukMH8SpcmQ"
      },
      "source": [
        "## Grid search"
      ]
    },
    {
      "cell_type": "code",
      "execution_count": null,
      "id": "P81juWyaSpEi",
      "metadata": {
        "id": "P81juWyaSpEi"
      },
      "outputs": [],
      "source": [
        "# grid search for hyperparameters optimization\n",
        "num_transformer_blocks = [1, 2]\n",
        "mlp_units = [[32], [32, 32]]\n",
        "dropout = [0, 0.25]\n",
        "mlp_dropout = [0, 0.25]\n",
        "\n",
        "best_mae = float(\"inf\")\n",
        "best_params = None\n",
        "for n_blocks in num_transformer_blocks:\n",
        "    for units in mlp_units:\n",
        "        for do in dropout:\n",
        "            for mlp_do in mlp_dropout:\n",
        "                print(f\"Training model with {n_blocks} blocks, {units} units, \"\n",
        "                      f\"{do} dropout and {mlp_do} MLP dropout\")\n",
        "                model = build_model(\n",
        "                    input_shape,\n",
        "                    head_size=32,\n",
        "                    num_heads=2,\n",
        "                    ff_dim=32,\n",
        "                    num_transformer_blocks=n_blocks,\n",
        "                    mlp_units=units,\n",
        "                    dropout=do,\n",
        "                    mlp_dropout=mlp_do,\n",
        "                )\n",
        "                callback = keras.callbacks.EarlyStopping(monitor='val_mae', patience=3, restore_best_weights=True)\n",
        "                model.compile(optimizer=\"adam\", loss=\"mse\", metrics=[\"mae\"], callbacks=[callback])\n",
        "                history = model.fit(\n",
        "                    train_dataset,\n",
        "                    epochs=20,\n",
        "                    validation_data=val_dataset,\n",
        "                    verbose=0,\n",
        "                )\n",
        "                mae = model.evaluate(test_dataset)[1]\n",
        "                if mae < best_mae:\n",
        "                    best_mae = mae\n",
        "                    best_params = (n_blocks, units, do, mlp_do)\n",
        "\n",
        "                    # save model\n",
        "                    model.save(\"/content/drive/MyDrive/Colab-Notebooks/best_tranformer.h5\")\n",
        "\n",
        "\n",
        "print(f\"Best MAE: {best_mae}\")\n",
        "print(f\"Best parameters: blocks={best_params[0]}, units={best_params[1]}, dropout={best_params[2]}, mlp_dropout={best_params[3]}\")"
      ]
    },
    {
      "cell_type": "markdown",
      "id": "IO-00hDZ7Ipg",
      "metadata": {
        "id": "IO-00hDZ7Ipg"
      },
      "source": [
        "best model params:\n",
        "\n",
        "num_transformer_blocks = 2\n",
        "\n",
        "mlp_units = 32\n",
        "\n",
        "dropout = 0\n",
        "\n",
        "mlp_dropout = 0"
      ]
    },
    {
      "cell_type": "code",
      "execution_count": null,
      "id": "pzOaal-rMfg4",
      "metadata": {
        "colab": {
          "base_uri": "https://localhost:8080/"
        },
        "id": "pzOaal-rMfg4",
        "outputId": "434e5be8-6347-45dd-b6ec-d6d362ec217a"
      },
      "outputs": [
        {
          "name": "stdout",
          "output_type": "stream",
          "text": [
            "Model: \"model_10\"\n",
            "__________________________________________________________________________________________________\n",
            " Layer (type)                Output Shape                 Param #   Connected to                  \n",
            "==================================================================================================\n",
            " input_11 (InputLayer)       [(None, 120, 14)]            0         []                            \n",
            "                                                                                                  \n",
            " multi_head_attention_13 (M  (None, 120, 14)              3790      ['input_11[0][0]',            \n",
            " ultiHeadAttention)                                                  'input_11[0][0]']            \n",
            "                                                                                                  \n",
            " dropout_30 (Dropout)        (None, 120, 14)              0         ['multi_head_attention_13[0][0\n",
            "                                                                    ]']                           \n",
            "                                                                                                  \n",
            " add_20 (Add)                (None, 120, 14)              0         ['input_11[0][0]',            \n",
            "                                                                     'dropout_30[0][0]']          \n",
            "                                                                                                  \n",
            " layer_normalization_20 (La  (None, 120, 14)              28        ['add_20[0][0]']              \n",
            " yerNormalization)                                                                                \n",
            "                                                                                                  \n",
            " global_average_pooling1d_1  (None, 120)                  0         ['layer_normalization_20[0][0]\n",
            " 0 (GlobalAveragePooling1D)                                         ']                            \n",
            "                                                                                                  \n",
            " dense_20 (Dense)            (None, 32)                   3872      ['global_average_pooling1d_10[\n",
            "                                                                    0][0]']                       \n",
            "                                                                                                  \n",
            " dropout_31 (Dropout)        (None, 32)                   0         ['dense_20[0][0]']            \n",
            "                                                                                                  \n",
            " dense_21 (Dense)            (None, 32)                   1056      ['dropout_31[0][0]']          \n",
            "                                                                                                  \n",
            " dropout_32 (Dropout)        (None, 32)                   0         ['dense_21[0][0]']            \n",
            "                                                                                                  \n",
            " dense_22 (Dense)            (None, 1)                    33        ['dropout_32[0][0]']          \n",
            "                                                                                                  \n",
            "==================================================================================================\n",
            "Total params: 8779 (34.29 KB)\n",
            "Trainable params: 8779 (34.29 KB)\n",
            "Non-trainable params: 0 (0.00 Byte)\n",
            "__________________________________________________________________________________________________\n",
            "405/405 [==============================] - 14s 34ms/step - loss: 10.3605 - mae: 2.5236\n",
            "Test MAE: 2.52\n"
          ]
        }
      ],
      "source": [
        "# load the model\n",
        "model = keras.models.load_model(\"/content/drive/MyDrive/Colab-Notebooks/best_tranformer.h5\")\n",
        "\n",
        "# print its parameters\n",
        "model.summary()\n",
        "\n",
        "# evaluate the model\n",
        "print(f\"Test MAE: {model.evaluate(test_dataset)[1]:.2f}\")"
      ]
    },
    {
      "cell_type": "markdown",
      "id": "wa0v2-qLybRf",
      "metadata": {
        "id": "wa0v2-qLybRf"
      },
      "source": [
        "# Resumo dos modelos e resultados"
      ]
    },
    {
      "cell_type": "markdown",
      "id": "BQxh1RFwymb8",
      "metadata": {
        "id": "BQxh1RFwymb8"
      },
      "source": [
        "## Feedforward neural network\n",
        "\n",
        "Configuração 1:\n",
        "  - Camada densa com 16 unidades e ativação 'relu'\n",
        "  - Otimizador 'rmsprop'\n",
        "  - Loss 'mse'\n",
        "  - 10 epochs\n",
        "  - Resultado da MAE no conjunto de teste: 13.47\n",
        "\n",
        "Configuração 2:\n",
        "  - Camada densa com 16 unidades e ativação 'relu'\n",
        "  - Camada densa com 8 unidades e ativação 'relu'\n",
        "  - Otimizador 'adam' com lr 0.01\n",
        "  - Loss 'mse'\n",
        "  - 10 epochs\n",
        "  - Resultado da MAE no conjunto de teste: 15.84\n",
        "\n",
        "Configuração 3:\n",
        "  - Camada densa com 256 unidades e ativação 'relu'\n",
        "  - Camada densa com 64 unidades e ativação 'relu'\n",
        "  - Camada densa com 16 unidades e ativação 'relu'\n",
        "  - Otimizador 'adam' com lr 0.01\n",
        "  - Loss 'mse'\n",
        "  - 10 epochs\n",
        "  - TResultado da MAE no conjunto de teste: 11.26\n",
        "\n",
        "Configuração 4:\n",
        "  - Camada densa com 8 unidades e ativação 'relu'\n",
        "  - Dropout 0.2\n",
        "  - BatchNormalization\n",
        "  - Dropout 0.3\n",
        "  - Camada densa com 4 unidades e ativação 'relu'\n",
        "  - Dropout 0.3\n",
        "  - BatchNormalization\n",
        "  - Dropout 0.2\n",
        "  - Otimizador 'adam'\n",
        "  - Loss 'mse'\n",
        "  - 50 epochs\n",
        "  - Early Stopping com 'patience' 3\n",
        "  - Resultado da MAE no conjunto de teste: 3.79\n",
        "\n",
        "Configuração 5:\n",
        "  - Camada densa com 32 unidades e ativação 'relu'\n",
        "  - Dropout 0.3\n",
        "  - BatchNormalization\n",
        "  - Camada densa com 16 unidades e ativação 'relu'\n",
        "  - Dropout 0.3\n",
        "  - BatchNormalization\n",
        "  - Otimizador 'adam'\n",
        "  - Loss 'mse'\n",
        "  - 50 epochs\n",
        "  - Early Stopping com 'patience' 5\n",
        "  - Resultado da MAE no conjunto de teste: 3.72"
      ]
    },
    {
      "cell_type": "markdown",
      "id": "qHtGYBMXitlP",
      "metadata": {
        "id": "qHtGYBMXitlP"
      },
      "source": [
        "|  Configuração  | Otimizador  | Loss  | Epochs  | Patience | Test MAE|\n",
        "|---|---|---|---|---|---|\n",
        "|  FNN_1 | rmsprop  | mse  | 10  | -  |  13.47 |   \n",
        "|  FNN_2   | adam  | mse  | 10  | -  | 15.84  |   \n",
        "|  FNN_3   | adam  |  mse | 10  | -  | 11.26  |\n",
        "|  FNN_4   | adam  | mse  | 50  | 3  | 3.79  |   \n",
        "|  FNN_5   | adam  |  mse | 50  | 5  | ***3.72***  |\n"
      ]
    },
    {
      "cell_type": "markdown",
      "id": "AvbZmBi7ymfY",
      "metadata": {
        "id": "AvbZmBi7ymfY"
      },
      "source": [
        "## 1D convolution neural network\n",
        "\n",
        "Configuração 1:\n",
        "  - 1 camada Convoluciona 1D, 8 filtros 24x24, ativação 'relu'\n",
        "  - MaxPooling1D janela de tamanho 2\n",
        "  - 1 camada Convoluciona 1D, 8 filtros 12x12, ativação 'relu'\n",
        "  - MaxPooling1D janela de tamanho 2\n",
        "  - 1 camada Convoluciona 1D, 8 filtros 6x6, ativação 'relu'\n",
        "  - GlobalAveragePooling1D\n",
        "  - Otimizador 'rmsprop'\n",
        "  - Loss 'mse'\n",
        "  - 10 epoch\n",
        "  - Resultado da MAE no conjunto de teste: 14.73\n",
        "\n",
        "Configuração 2:\n",
        "\n",
        "  - 1 camada Convoluciona 1D, 32 filtros 1x1, ativação 'relu'\n",
        "  - Dropout 0.25\n",
        "  - BatchNormalization\n",
        "  - 1 camada Convoluciona 1D, 32 filtros 1x1, ativação 'relu'\n",
        "  - Dropout 0.25\n",
        "  - BatchNormalization\n",
        "  - MaxPooling1D janela de tamanho 2\n",
        "  - Camada densa com 128 unidades e função de ativação 'relu'\n",
        "  - Otimizador 'adam'\n",
        "  - Loss 'mse'\n",
        "  - 10 epochs\n",
        "  - Resultado da MAE no conjunto de teste: 10.80\n",
        "\n",
        "Configuração 3:\n",
        "\n",
        "  - 1 camada Convoluciona 1D, 32 filtros 1x1, ativação 'relu'\n",
        "  - Dropout 0.25\n",
        "  - BatchNormalization\n",
        "  - 1 camada Convoluciona 1D, 32 filtros 1x1, ativação 'relu'\n",
        "  - Dropout 0.25\n",
        "  - BatchNormalization\n",
        "  - MaxPooling1D janela de tamanho 2\n",
        "  - Camada densa com 128 unidades e função de ativação 'relu'\n",
        "  - Otimizador 'adam'\n",
        "  - Loss 'mse'\n",
        "  - 10 epochs\n",
        "  - Resultado da MAE no conjunto de teste: 10.80\n",
        "\n",
        "Configuração 4:\n",
        "  - Modelo retirado da internet\n",
        "  - Otimizador 'adam'\n",
        "  - Loss 'mse'\n",
        "  - 10 epochs\n",
        "  - Resultado da MAE no conjunto de teste: 4.10\n",
        "\n"
      ]
    },
    {
      "cell_type": "markdown",
      "id": "sAteV2iuipUU",
      "metadata": {
        "id": "sAteV2iuipUU"
      },
      "source": [
        "|  Configuração  | Otimizador  | Loss  | Epochs  | Patience | Test MAE|\n",
        "|---|---|---|---|---|---|\n",
        "|  1D_CNN_1 | rmsprop  | mse  | 10  | -  |  14.73 |   \n",
        "|  1D_CNN_2   | adam  | mse  | 10  | -  | 10.80  |   \n",
        "|  1D_CNN_3   | adam |  mse | 10  | -  | 10.80  |\n",
        "|  1D_CNN_4   | adam |  mse | 10  | -  | ***4.10***  |\n",
        "\n"
      ]
    },
    {
      "cell_type": "markdown",
      "id": "LA2sCHE9ymrn",
      "metadata": {
        "id": "LA2sCHE9ymrn"
      },
      "source": [
        "## RNN with LSTM cell\n",
        "\n",
        "Configuração 1:\n",
        "\n",
        "  - 1 camada LSTM com 16 unidades\n",
        "  - Otimizador 'rmsprop'\n",
        "  - Loss 'mse'\n",
        "  - 10 epochs\n",
        "  - Resultado da MAE no conjunto de teste: 2.54\n",
        "\n",
        "Configuração 2:\n",
        "\n",
        "  - 1 camada LSTM com 5 unidades\n",
        "  - Otimizador 'adam'\n",
        "  - Loss 'mse'\n",
        "  - 20 epochs\n",
        "  - Resultado da MAE no conjunto de teste: 2.56\n",
        "\n",
        "Configuração 3:\n",
        "\n",
        "  - 1 camada LSTM com 32 unidades\n",
        "  - Otimizador 'adam'\n",
        "  - Loss 'mse'\n",
        "  - 20 epochs\n",
        "  - Early stopping com 'patience' 3\n",
        "  - Resultado da MAE no conjunto de teste: 2.58\n",
        "\n",
        "Configuração 4:\n",
        "\n",
        "  - 1 camada LSTM com 8 unidades\n",
        "  - Otimizador 'adam'\n",
        "  - Loss 'mse'\n",
        "  - 20 epochs\n",
        "  - Early stopping com 'patience' 4\n",
        "  - Resultado da MAE no conjunto de teste: 2.54"
      ]
    },
    {
      "cell_type": "markdown",
      "id": "SvVlswloihB-",
      "metadata": {
        "id": "SvVlswloihB-"
      },
      "source": [
        "|  Configuração  | Otimizador  | Loss  | Epochs  | Patience | Test MAE|\n",
        "|---|---|---|---|---|---|\n",
        "|  RNN_1 | rmsprop  | mse  | 10  | -  |  ***2.54*** |   \n",
        "|  RNN_2   | adam  | mse  | 20  | -  | 2.56  |   \n",
        "|  RNN_3   | adam  |  mse | 20  | 3  | 2.58  |\n",
        "|  RNN_4   | adam  |  mse | 20  | 4  | ***2.54***  |  \n",
        "\n"
      ]
    },
    {
      "cell_type": "markdown",
      "id": "2ApidXVUyi6K",
      "metadata": {
        "id": "2ApidXVUyi6K"
      },
      "source": [
        "## RNN with LSTM cell and recurrent dropout\n",
        "Configuração 1:\n",
        "\n",
        "  - 1 camada LSTM com 32 unidades e recurrent_dropout de 0.25.\n",
        "  - Dropout de 0.5\n",
        "  - Otimizador 'rmsprop'\n",
        "  - Loss 'mse'\n",
        "  - 30 epochs\n",
        "  - Early stopping com 'patience' 2\n",
        "  - Resultado da MAE no conjunto de teste: 2.55\n",
        "\n",
        "\n",
        "Configuração 2:\n",
        "\n",
        "  - 1 camada LSTM com 32 unidades e recurrent_dropout de 0.2.\n",
        "  - Dropout de 0.25\n",
        "  - Otimizador 'adam'\n",
        "  - Loss 'mse'\n",
        "  - 30 epochs\n",
        "  - Early stopping com 'patience' 5\n",
        "  - Resultado da MAE no conjunto de teste: 2.61\n",
        "\n",
        "\n",
        "Configuração 3:\n",
        "\n",
        "  - 1 camada LSTM com 8 unidades e recurrent_dropout de 0.2.\n",
        "  - Dropout de 0.25\n",
        "  - Otimizador 'adam'\n",
        "  - Loss 'mse'\n",
        "  - 30 epochs\n",
        "  - Early stopping com 'patience' 2\n",
        "  - Resultado da MAE no conjunto de teste: 2.54\n",
        "\n",
        "Configuração 4:\n",
        "\n",
        "  - 1 camada LSTM com 8 unidades e recurrent_dropout de 0.2.\n",
        "  - Dropout de 0.25\n",
        "  - Camada densa com 8 unidades de saída\n",
        "  - Otimizador 'adam'\n",
        "  - Loss 'mse'\n",
        "  - 30 epochs\n",
        "  - Early stopping com 'patience' 2\n",
        "  - Resultado da MAE no conjunto de teste: 2.45"
      ]
    },
    {
      "cell_type": "markdown",
      "id": "DZFbUBG_ic2D",
      "metadata": {
        "id": "DZFbUBG_ic2D"
      },
      "source": [
        "|  Configuração  | Otimizador  | Loss  | Epochs  | Patience | Test MAE|\n",
        "|---|---|---|---|---|---|\n",
        "|  RNN_DROP_1 | rmsprop  | mse  | 30  | 2  |  2.55 |   \n",
        "|  RNN_DROP_2   | adam  | mse  | 30  | 5  | 2.61  |   \n",
        "|  RNN_DROP_3   | adam  |  mse | 30  | 2  | 2.54  |\n",
        "| RNN_DROP_4   | adam  |  mse | 30  | 3  | ***2.45*** |\n",
        "\n"
      ]
    },
    {
      "cell_type": "markdown",
      "id": "gtPGHOM4ydFI",
      "metadata": {
        "id": "gtPGHOM4ydFI"
      },
      "source": [
        "## Stacked RNN layers\n",
        "\n",
        "Configuração 1:\n",
        "\n",
        "  - 2 camadas LSTM com 32 unidades e recurrent_dropout de 0.5\n",
        "  - Dropout de 0.5\n",
        "  - Otimizador 'rmsprop'\n",
        "  - Loss 'mse'\n",
        "  - 50 epochs\n",
        "  - Resulto da MAE no conjunto de teste: 3.13\n",
        "\n",
        "Configuração 2:\n",
        "\n",
        "  - 2 camadas LSTM com 16 unidades\n",
        "  - Otimizador 'adam'\n",
        "  - Loss 'mse'\n",
        "  - 10 epochs\n",
        "  - Resulto da MAE no conjunto de teste: 2.79\n",
        "\n",
        "Configuração 3:\n",
        "\n",
        "  - 1 camadas LSTM com 32 unidades\n",
        "  - 1 camadas LSTM com 16 unidades e ativação 'relu'\n",
        "  - Dropout de 0.5\n",
        "  - Otimizador 'adam'\n",
        "  - Loss 'mse'\n",
        "  - 30 epochs\n",
        "  - EarlyStopping com 'patience' 5\n",
        "  - Resultado da MAE no conjunto de teste: 7.86\n",
        "\n",
        "Configuração 4:\n",
        "\n",
        "  - 1 camadas LSTM com 32 unidades e recurrent_dropout de 0.25\n",
        "  - 1 camadas LSTM com 16 unidades\n",
        "  - Dropout de 0.25\n",
        "  - Otimizador 'adam'\n",
        "  - Loss 'mse'\n",
        "  - 30 epochs\n",
        "  - EarlyStopping com 'patience' 5\n",
        "  - Resultado da MAE no conjunto de teste: 2.71\n",
        "\n",
        "Configuração 5:\n",
        "\n",
        "  - 1 camadas LSTM com 48 unidades e recurrent_dropout de 0.2\n",
        "  - 1 camadas LSTM com 32 unidades\n",
        "  - Dropout de 0.25\n",
        "  - Otimizador 'adam'\n",
        "  - Loss 'mse'\n",
        "  - 30 epochs\n",
        "  - EarlyStopping com 'patience' 2\n",
        "  - Resultado da MAE no conjunto de teste: 2.72\n",
        "\n",
        "Configuração 6:\n",
        "\n",
        "  - 1 camada LSTM com 100 unidades e recurrent_dropout de 0.5\n",
        "  - 1 camada LSTM com 100 unidades e recurrent_dropout de 0.4\n",
        "  - 1 camada LSTM com 50 unidades\n",
        "  - Otimizador 'adam'\n",
        "  - Loss 'mse'\n",
        "  - 30 epochs\n",
        "  - EarlyStopping com 'patience' 2\n",
        "  - Resultado da MAE no conjunto de teste: 2.78\n",
        "\n",
        "\n",
        "Configuração 7:\n",
        "\n",
        "  - 1 camada LSTM com 16 unidades com recurrent_dropout de0.25\n",
        "  - Dropout 0.25\n",
        "  - 1 camada LSTM com 8 unidades com recurrent_dropout de 0.25\n",
        "  - Dropout 0.5\n",
        "  - 1 camada LSTM com 4 unidades\n",
        "  - Dropout de 0.25\n",
        "  - Otimizador 'adam'\n",
        "  - Loss 'mse'\n",
        "  - 30 epochs\n",
        "  - EarlyStopping com 'patience' 2\n",
        "  - Resultado da MAE no conjunto de teste: 2.70\n"
      ]
    },
    {
      "cell_type": "markdown",
      "id": "PpEPpoougb3j",
      "metadata": {
        "id": "PpEPpoougb3j"
      },
      "source": [
        "|  Configuração  | Otimizador  | Loss  | Epochs  | Patience | Test MAE|\n",
        "|---|---|---|---|---|---|\n",
        "|  RNN_STACKED_1 | rmsprop  | mse  | 50  | -  |  3.13 |   \n",
        "|  RNN_STACKED_2   | adam  | mse  | 10  | -  | 2.79  |   \n",
        "|  RNN_STACKED_3   | adam  |  mse | 30  | 5  | 7.86  |   \n",
        "|  RNN_STACKED_4   | adam  | mse  | 30  | 5  | 2.71  |   \n",
        "|  RNN_STACKED_5   | adam  |  mse | 30  | 2  | 2.72 |\n",
        "|  RNN_STACKED_6   | adam  | mse  | 30  | 2 | 2.78  |\n",
        "|  RNN_STACKED_7   | adam  | mse  | 30  | 2  | ***2.70***  |\n",
        "\n"
      ]
    },
    {
      "cell_type": "markdown",
      "id": "gQRD3Kef41qH",
      "metadata": {
        "id": "gQRD3Kef41qH"
      },
      "source": [
        "## Using bdirectional RNNs\n",
        "\n",
        "Configuração 1:\n",
        "\n",
        "  - 1 camada Bidirectional LSTM com 16 unidades\n",
        "  - Otimizador 'rmsprop'\n",
        "  - Loss 'mse'\n",
        "  - 10 epochs\n",
        "  - Resultado da MAE no conjunto de teste: 2.69"
      ]
    },
    {
      "cell_type": "markdown",
      "id": "LDQR8fKsgV-g",
      "metadata": {
        "id": "LDQR8fKsgV-g"
      },
      "source": [
        "|  Configuração  | Otimizador  | Loss  | Epochs  | Patience | Test MAE|\n",
        "|---|---|---|---|---|---|\n",
        "|  RNN_BIDIR_1 | rmsprop  | mse  | 10  | -  |  ***2.69*** |  \n",
        "\n"
      ]
    },
    {
      "cell_type": "markdown",
      "id": "EkM2yz9e7dLH",
      "metadata": {
        "id": "EkM2yz9e7dLH"
      },
      "source": [
        "## Transformers\n",
        "\n",
        "Transformer_1:\n",
        "- input_shape\n",
        "- head_size=32\n",
        "- num_heads=2\n",
        "- ff_dim=32\n",
        "- num_transformer_blocks=2\n",
        "- mlp_units=[32]\n",
        "- mlp_dropout=0.6\n",
        "- dropout=0.6\n",
        "- 10 epochs\n",
        "- Loss 'mse'\n",
        "- Resultado 3.83\n",
        "\n",
        "Best_transformer:\n",
        "\n",
        "Grid search nos parametros:\n",
        "- num_transformer_blocks = 1 e 2\n",
        "- mlp_units = [32] e [32, 32]\n",
        "- dropout = 0 e 0.25\n",
        "- mlp_dropout = 0 e 0.25\n",
        "\n",
        "> **best model params:**\n",
        ">\n",
        "> num_transformer_blocks = 2\n",
        ">\n",
        "> mlp_units = 32\n",
        ">\n",
        "> dropout = 0\n",
        ">\n",
        "> mlp_dropout = 0\n",
        "\n",
        "- 20 epochs\n",
        "- Loss 'mse'\n",
        "- Resultado 2.54"
      ]
    },
    {
      "cell_type": "markdown",
      "id": "wWPZJII47cA1",
      "metadata": {
        "id": "wWPZJII47cA1"
      },
      "source": [
        "|  Configuração  | Otimizador  | Loss  | Epochs  | Patience | Test MAE|\n",
        "|---|---|---|---|---|---|\n",
        "|  Transformer_1 | adam  | mse  | 10  | -  |  3.83 |  \n",
        "|  Best_tranformer | adam  | mse  | 10  | -  |  ***2.54*** |  \n",
        "\n"
      ]
    }
  ],
  "metadata": {
    "accelerator": "GPU",
    "colab": {
      "gpuType": "T4",
      "provenance": [],
      "toc_visible": true
    },
    "kernelspec": {
      "display_name": "Python 3",
      "name": "python3"
    },
    "language_info": {
      "codemirror_mode": {
        "name": "ipython",
        "version": 3
      },
      "file_extension": ".py",
      "mimetype": "text/x-python",
      "name": "python",
      "nbconvert_exporter": "python",
      "pygments_lexer": "ipython3",
      "version": "3.10.6"
    }
  },
  "nbformat": 4,
  "nbformat_minor": 5
}
